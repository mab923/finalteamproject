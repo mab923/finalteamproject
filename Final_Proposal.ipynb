{
 "cells": [
  {
   "cell_type": "markdown",
   "id": "7223eb23-0f51-41df-b8b8-455dee8249be",
   "metadata": {},
   "source": [
    "## Research Question"
   ]
  },
  {
   "cell_type": "markdown",
   "id": "3dd1618c-b5b5-46be-9488-c369d7a1072c",
   "metadata": {},
   "source": [
    "Our research question is examining the correlation between the fluctuations of the reserve requirement rate and stock returns. Our inquiry aims to shed light on whether an increase or decrease in the reserve requirement rate is linked to positive or negative stock returns. Additionally, we intend to examine the magnitude of the change in the reserve requirement rate and its association with stock returns. The implications of our research are far-reaching because we aim to provide a framework that allows investors to time their investments more effectively around the Federal Open Market Committee's (FOMC) scheduled meetings. Our findings will be of particular interest to institutional investors who seek to enhance their capital gains while minimizing losses. The FOMC's decisions on whether to raise or lower interest rates have far-reaching effects on the economy, as well as individual stocks. Therefore, by examining the impact of their announcements on the performance of individual stocks, investing in stocks surrounding the press release of the FOMC meeting would be a potential way for institutional investors to increase their capital gains and minimize losses. We strongly believe that the insights gained from the project will provide a deeper understanding of the correlation between the reserve requirement rate and stock returns..\n"
   ]
  },
  {
   "cell_type": "markdown",
   "id": "233a21fc-84dc-4317-b387-052090a18ed2",
   "metadata": {},
   "source": [
    "## Data"
   ]
  },
  {
   "cell_type": "markdown",
   "id": "d25f74b7-6da9-4511-8b03-aa35f24d3e1c",
   "metadata": {},
   "source": [
    "The observation in the dataset will be a firm-year. For each company there will be a row in the dataframe from the year 2015 to 2022, so each company will have 8 rows in the dataset. We have chosen to examine firms in the S&P 500 to uncover any potential correlation to stock returns and the S&P 500 Bond Index to inquire about any correlation across the bond market. The sample period will be from 2015-2022. Additionally, there will be a couple of columns that are not firms but instead are bonds during the sample period in order to get a comparison of bonds to stocks in terms of correlation with interest rates. We are initially not going to exclude any specific dates from the dataset but in practice if the returns during the pandemic seem out of line with the pattern then we might choose to omit them from the final dataset. It is necessary that we have returns for each firm from 2015-2022, the dates of the FOMAC meetings during those years as well as the outcome of each (direction and magnitude of change), and the bond returns during the sample period. If possible, it would be interesting to see the trading volume changes that occur during these time periods – we would have to find a way to extract trading volume during those dates somehow. \n"
   ]
  }
 ],
 "metadata": {
  "kernelspec": {
   "display_name": "Python 3 (ipykernel)",
   "language": "python",
   "name": "python3"
  },
  "language_info": {
   "codemirror_mode": {
    "name": "ipython",
    "version": 3
   },
   "file_extension": ".py",
   "mimetype": "text/x-python",
   "name": "python",
   "nbconvert_exporter": "python",
   "pygments_lexer": "ipython3",
   "version": "3.9.13"
  }
 },
 "nbformat": 4,
 "nbformat_minor": 5
}
