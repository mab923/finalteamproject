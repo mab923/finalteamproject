{
 "cells": [
  {
   "cell_type": "markdown",
   "id": "397a8384-447b-4feb-944a-6504609a684a",
   "metadata": {},
   "source": [
    "## FINAL PROJECT PROPOSAL"
   ]
  },
  {
   "cell_type": "markdown",
   "id": "7223eb23-0f51-41df-b8b8-455dee8249be",
   "metadata": {},
   "source": [
    "## Research Question"
   ]
  },
  {
   "cell_type": "markdown",
   "id": "3dd1618c-b5b5-46be-9488-c369d7a1072c",
   "metadata": {},
   "source": [
    "Our research question is examining the correlation between the fluctuations of the reserve requirement rate and stock returns. Our inquiry aims to shed light on whether an increase or decrease in the reserve requirement rate is linked to positive or negative stock returns. Additionally, we intend to examine the magnitude of the change in the reserve requirement rate and its association with stock returns. \n",
    "\n",
    "We aim to provide a framework that allows investors to time their investments more effectively around the Federal Open Market Committee's (FOMC) scheduled meetings. The FOMC's decisions on whether to raise or lower interest rates have far-reaching effects on the economy, as well as individual stocks. We believe that our findings will be of particular interest to institutional investors who seek to enhance their capital gains while minimizing losses.\n",
    "\n",
    "Therefore, by examining the impact of their announcements on the performance of individual stocks, investing in stocks surrounding the press release of the FOMC meeting would be a potential way for institutional investors to increase their capital gains and minimize losses. We strongly believe that the insights gained from the project will provide a deeper understanding of the correlation between the reserve requirement rate and stock returns.\n"
   ]
  },
  {
   "cell_type": "markdown",
   "id": "233a21fc-84dc-4317-b387-052090a18ed2",
   "metadata": {},
   "source": [
    "## Necessary Data"
   ]
  },
  {
   "cell_type": "markdown",
   "id": "d25f74b7-6da9-4511-8b03-aa35f24d3e1c",
   "metadata": {},
   "source": [
    "Our research aims to provide a comprehensive understanding of the relationship between the stock and bond markets in the context of the S&P 500 firms. To achieve this, we will use data spans over a period of eight years -from 2015 to 2022. The dataset will include information on firms and bonds from the S&P 500, and for each company, there will be a row in the dataframe for each year from 2015 to 2022.\n",
    "\n",
    "Our primary focus will be on analyzing the correlation between the stock returns of these firms and the S&P 500 Bond Index. We believe that this analysis will provide us with important insights into how the two markets interact with each other. In addition, we will examine how changes in interest rates may influence this correlation, and to do so, we will include columns for bonds during the sample period. This will enable us to draw comparisons between the correlation of bonds and stocks with interest rates and help us gain a deeper understanding of how the two markets may be affected by changes in interest rates.\n",
    "\n",
    "To conduct our analysis, we will require data on returns for each firm from the eight years, as well as information on the dates and outcomes of FOMC meetings during those years. This information will allow us to study the impact of monetary policy decisions on the correlation between stocks and bonds. Additionally, we will include data on bond returns during the sample period to get a better understanding of the correlation between bonds and stocks."
   ]
  },
  {
   "cell_type": "markdown",
   "id": "bb545f77-4690-458d-a2a5-aa151f22b64f",
   "metadata": {},
   "source": [
    "### Additional considerations"
   ]
  },
  {
   "cell_type": "markdown",
   "id": "1f60f46b-a238-466a-93c5-f83e3dfad084",
   "metadata": {},
   "source": [
    "- While we do not plan to exclude any specific dates from the dataset initially, we will monitor the returns during the pandemic period, and may choose to exclude them if they appear to deviate from the expected pattern. We believe this will help to ensure the accuracy and validity of our findings.\n",
    "\n",
    "- We are considering exploring the changes in trading volume during these time periods, as this could provide valuable insights into how the markets respond to different economic events. Nonetheless, it remains a factor to be taken into account as we are uncertain about the availability of the data and the process of extracting it.\n",
    "\n"
   ]
  }
 ],
 "metadata": {
  "kernelspec": {
   "display_name": "Python 3 (ipykernel)",
   "language": "python",
   "name": "python3"
  },
  "language_info": {
   "codemirror_mode": {
    "name": "ipython",
    "version": 3
   },
   "file_extension": ".py",
   "mimetype": "text/x-python",
   "name": "python",
   "nbconvert_exporter": "python",
   "pygments_lexer": "ipython3",
   "version": "3.10.9"
  }
 },
 "nbformat": 4,
 "nbformat_minor": 5
}
