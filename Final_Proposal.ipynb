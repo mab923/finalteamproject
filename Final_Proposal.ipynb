{
 "cells": [
  {
   "cell_type": "markdown",
   "id": "397a8384-447b-4feb-944a-6504609a684a",
   "metadata": {},
   "source": [
    "## FINAL PROJECT PROPOSAL"
   ]
  },
  {
   "cell_type": "markdown",
   "id": "7223eb23-0f51-41df-b8b8-455dee8249be",
   "metadata": {},
   "source": [
    "## Research Question"
   ]
  },
  {
   "cell_type": "markdown",
   "id": "3dd1618c-b5b5-46be-9488-c369d7a1072c",
   "metadata": {},
   "source": [
    "Our research question examines the correlation between changes in monetary policy and market performance. We have chosen to inspect this throuhg the lense of changes in the Reserver Requirement by the Federal Open Market Committee (FOMC) and returns from the S&P 500, **LONG TERM BOND PORTFOLIO**, and **SHORT TERM BOND PORTFOLIO**.\n",
    "\n",
    "Our inquiry aims to shed light on whether an increase/decrease in the reserve requirement rate or the the magnitude of that change, is linked to positive or negative returns in the stock market, long-term bond market, or short-term bond market. \n",
    "\n",
    "The FOMC's decisions on whether to raise or lower interest rates have far-reaching effects on the economy. We aim to provide a framework that allows investors to time their investments more effectively around the FOMC's scheduled meetings. We believe that our findings will be of particular interest to institutional investors who seek to enhance their capital gains while minimizing losses through making thousands of trades with small gains that alltogether compound into a substainial profit.\n",
    "\n",
    "Therefore, by examining the impact of FOMC's offical announcements on the performance of different indexes, investing in stocks or bonds immediately surrounding the press release of a FOMC meeting could be a potentially reliable method for institutional investors to increase their capital gains and minimize losses. We strongly believe that the insights gained from the project will provide a deeper understanding of the correlation between the reserve requirement rate and market returns.\n"
   ]
  },
  {
   "cell_type": "markdown",
   "id": "8cc9f729-6d23-4c8c-8d03-87a0f378f633",
   "metadata": {},
   "source": [
    "### Hypothesis"
   ]
  },
  {
   "cell_type": "markdown",
   "id": "96606eb8-7dfd-4b0f-9d79-be26a7efc885",
   "metadata": {},
   "source": [
    "Our hypothesis is that there is a significant correlation between the reserve requirement rate and stock returns. Specifically, we anticipate that an increase in the reserve requirement rate will have a negative impact on stock returns, while a decrease in the reserve requirement rate will have a positive impact on stock returns. Additionally, we hypothesize that the magnitude of the change in the reserve requirement rate will be positively correlated with the magnitude of the change in stock returns. \n",
    "\n",
    "We predict that our research will provide evidence supporting the idea that investors can time their investments more effectively around the Federal Open Market Committee's (FOMC) scheduled meetings. Specifically, we expect that investing in stocks surrounding the press release of the FOMC meeting will yield higher capital gains and lower losses than investing outside of that time frame. "
   ]
  },
  {
   "cell_type": "markdown",
   "id": "233a21fc-84dc-4317-b387-052090a18ed2",
   "metadata": {},
   "source": [
    "## Necessary Data"
   ]
  },
  {
   "cell_type": "markdown",
   "id": "d25f74b7-6da9-4511-8b03-aa35f24d3e1c",
   "metadata": {},
   "source": [
    "Our research aims to provide a comprehensive understanding of the relationship between the stock and bond markets in the context of the S&P 500 firms. To achieve this, we will carry out an invent study. We have determine that we we will utlize data spanning over a period of eight years -from 2015 to 2022. The data set will consist of daily market return data on days t-15 to t+15 (t being date of reserve requirement change).\n",
    "\n",
    "To conduct our analysis, we will require data on market performance information sourced from the S&P 500, **LONG TERM BOND PORTFOLIO**, and **SHORT TERM BOND PORTFOLIO**. As well as information on the change in Reserve Requirement from the Federal Reserve Board for information on changes in montetary policy durong our specified time period. This information will allow us to study the impact of monetary policy decisions and potential correlation between the policy and stocks & bonds.\n",
    "\n",
    "We plan to create a row in our dataframe for each change in in the reserve requirement incdicating an increase/descrease, magitude of change, and for our market data; t-15 market value, t+15 market value, change in market value, t-15 trading volume, t+15 trading volume, change in trading volume.\n",
    "\n",
    "From this data we will create a graph for each rate change during our selected time frame, 2015-2022. Additional from these figures we will crete a summarized version. In which we will average all of the event-time reutns. "
   ]
  },
  {
   "cell_type": "markdown",
   "id": "bb545f77-4690-458d-a2a5-aa151f22b64f",
   "metadata": {},
   "source": [
    "### Additional considerations"
   ]
  },
  {
   "cell_type": "markdown",
   "id": "1f60f46b-a238-466a-93c5-f83e3dfad084",
   "metadata": {},
   "source": [
    "- While we do not plan to exclude any specific dates from the dataset initially, we will monitor the returns during the pandemic period, and may choose to exclude them if they appear to deviate from the expected pattern. We believe this will help to ensure the accuracy and validity of our findings.\n",
    "\n",
    "- We are considering exploring the changes in trading volume during these time periods, as this could provide valuable insights into how the markets respond to different economic events. Nonetheless, it remains a factor to be taken into account as we are uncertain about the availability of the data and the process of extracting it.\n",
    "\n"
   ]
  },
  {
   "cell_type": "markdown",
   "id": "3359dc07-4739-4359-9153-e535b1446d22",
   "metadata": {},
   "source": [
    "### Transforming Raw data "
   ]
  },
  {
   "cell_type": "markdown",
   "id": "16c152e4-bc3d-4f91-9d56-8444586f2b79",
   "metadata": {},
   "source": [
    "To transform the raw data into the final form, the dataset will be structured in a DataFrame with a row for each S&P 500 company for each year from 2015 to 2022. The focus will be on analyzing the correlation between stock returns, **LONG TERM BOND PORTFOLIO**, and **SHORT TERM BOND PORTFOLIO**. Data on returns for each index during the sample period will be required, as well as information on the dates and outcomes of FOMC meetings during those years. After creating our dataset, we will analyze the findings and test our hypothesis. "
   ]
  },
  {
   "cell_type": "code",
   "execution_count": null,
   "id": "ff6bbb6b-0c6c-4988-b439-7efdecfca6c9",
   "metadata": {},
   "outputs": [],
   "source": []
  }
 ],
 "metadata": {
  "kernelspec": {
   "display_name": "Python 3 (ipykernel)",
   "language": "python",
   "name": "python3"
  },
  "language_info": {
   "codemirror_mode": {
    "name": "ipython",
    "version": 3
   },
   "file_extension": ".py",
   "mimetype": "text/x-python",
   "name": "python",
   "nbconvert_exporter": "python",
   "pygments_lexer": "ipython3",
   "version": "3.9.13"
  }
 },
 "nbformat": 4,
 "nbformat_minor": 5
}
