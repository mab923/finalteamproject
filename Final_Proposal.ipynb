{
 "cells": [
  {
   "cell_type": "markdown",
   "id": "397a8384-447b-4feb-944a-6504609a684a",
   "metadata": {
    "jp-MarkdownHeadingCollapsed": true,
    "tags": []
   },
   "source": [
    "## FINAL PROJECT PROPOSAL"
   ]
  },
  {
   "cell_type": "markdown",
   "id": "7223eb23-0f51-41df-b8b8-455dee8249be",
   "metadata": {
    "tags": []
   },
   "source": [
    "## Research Question"
   ]
  },
  {
   "cell_type": "markdown",
   "id": "3dd1618c-b5b5-46be-9488-c369d7a1072c",
   "metadata": {},
   "source": [
    "Our research aims to investigate the correlation between changes in monetary policy and market performance. We have chosen to inspect this throuhg the lense of changes in the Reserver Requirement by the Federal Open Market Committee (FOMC) and returns from the S&P 500, Vanguard Long-Term Bond Index Fund Admiral Shares (VBLAX), and Vanguard Short-Term Bond Index Fund Admiral Shares (VBIRX).\n",
    "\n",
    "Our inquiry seeks to determine whether an increase or decrease in the reserve requirement rate or the the magnitude of that change, is linked to positive or negative returns in the stock market, long-term bond market (via the Vanguard Long-Term Bond Index Fund Admiral Shares), or short-term bond market (using Vanguard Short-Term Bond Index Fund Admiral Shares). \n",
    "\n",
    "The FOMC's decisions on whether to raise or lower interest rates have far-reaching effects on the economy. We aim to provide a framework that allows investors to time their investments more effectively around the FOMC's scheduled meetings. We believe that our findings will be of particular interest to institutional investors who seek to enhance their capital gains while minimizing losses through making thousands of trades with small gains that alltogether compound into a substainial profit.\n",
    "\n",
    "Therefore, by examining the impact of FOMC's offical announcements on the performance of different indexes, investing in stocks or bonds immediately surrounding the press release of a FOMC meeting could be a potentially reliable method for institutional investors to increase their capital gains and minimize losses. We strongly believe that the insights gained from the project will provide a deeper understanding of the correlation between the reserve requirement rate and market returns.\n"
   ]
  },
  {
   "cell_type": "markdown",
   "id": "8cc9f729-6d23-4c8c-8d03-87a0f378f633",
   "metadata": {},
   "source": [
    "### Hypothesis"
   ]
  },
  {
   "cell_type": "markdown",
   "id": "96606eb8-7dfd-4b0f-9d79-be26a7efc885",
   "metadata": {},
   "source": [
    "Our hypothesis is that there is a significant correlation between the reserve requirement rate and stock returns. Specifically, we anticipate that an increase in the reserve requirement rate will have a negative impact on stock returns, while a decrease in the reserve requirement rate will have a positive impact on stock returns. We also anticipate a positive correlation between the magnitude of the change in the reserve requirement rate and the magnitude of the change in stock returns.\n",
    "\n",
    "We predict that our research will provide evidence supporting the idea that investors can time their investments more effectively around the Federal Open Market Committee's (FOMC) scheduled meetings. Specifically, we expect that investing in stocks surrounding the press release of the FOMC meeting will yield higher capital gains and lower losses than investing outside of that time frame. "
   ]
  },
  {
   "cell_type": "markdown",
   "id": "233a21fc-84dc-4317-b387-052090a18ed2",
   "metadata": {},
   "source": [
    "## Necessary Data"
   ]
  },
  {
   "cell_type": "markdown",
   "id": "d25f74b7-6da9-4511-8b03-aa35f24d3e1c",
   "metadata": {},
   "source": [
    "To investigate the relationship between the stock and bond markets in the context of the S&P 500 firms. To achieve this, we will carry out an invent study. We have determine that we we will utlize data spanning over a period of eight years -from 2015 to 2022. The data set will consist of daily market return data on days t-15 to t+15, where t represents the date of the reserve requirement change.\n",
    "\n",
    "\n",
    "\n",
    "To conduct our analysis, we will require data on market performance information sourced from the S&P 500, VBLAX, and VBIRX. As well as information on the change in Reserve Requirement from the Federal Reserve Board for information on changes in montetary policy durong our specified time period. This information will allow us to study the impact of monetary policy decisions and potential correlation between the policy and stocks & bonds.\n",
    "\n",
    "We plan to create a row in our DataFrame for each change in the reserve requirement rate, indicating an increase or decrease, magnitude of change, and market data such as t-15 market value, t+15 market value, change in market value, t-15 trading volume, t+15 trading volume, and change in trading volume. We will create a graph for each rate change during our selected time frame and a summarized version, in which we will average all of the event-time returns."
   ]
  },
  {
   "cell_type": "markdown",
   "id": "bb545f77-4690-458d-a2a5-aa151f22b64f",
   "metadata": {},
   "source": [
    "### Additional considerations"
   ]
  },
  {
   "cell_type": "markdown",
   "id": "1f60f46b-a238-466a-93c5-f83e3dfad084",
   "metadata": {},
   "source": [
    "- We plan to include the returns during the pandemic period, we will closely monitor the returns during the pandemic period and note any deviations from the expected pattern. If the results differ from what we anticipated, we will report and discuss these discrepancies in our findings. This will help ensure the accuracy and validity of our analysis while remaining transparent about any unexpected results.\n",
    "\n",
    "- We are considering exploring the changes in trading volume during these time periods, as this could provide valuable insights into how the markets respond to different economic events. Nonetheless, it remains a factor to be taken into account as we are uncertain about the availability of the data and the process of extracting it.\n",
    "\n"
   ]
  },
  {
   "cell_type": "markdown",
   "id": "3359dc07-4739-4359-9153-e535b1446d22",
   "metadata": {},
   "source": [
    "### Transforming Raw data "
   ]
  },
  {
   "cell_type": "markdown",
   "id": "16c152e4-bc3d-4f91-9d56-8444586f2b79",
   "metadata": {},
   "source": [
    "To transform the raw data into the final form, the dataset will be structured in a DataFrame with a row for each S&P 500 company for each year from 2015 to 2022. The focus will be on analyzing the correlation between stock returns,VBLAX, andVBIRX. Data on returns for each index during the sample period will be required, as well as information on the dates and outcomes of FOMC meetings during those years. After creating our dataset, we will analyze the findings and test our hypothesis. "
   ]
  },
  {
   "cell_type": "markdown",
   "id": "c9c88e64-bdfc-4d8b-9661-e86df8eea8a7",
   "metadata": {},
   "source": [
    "### Discussion: \"Can ChatGPT Decipher Fedspeak?\" by Anne Lundgaard Hansen and Sophia Kazinnik."
   ]
  },
  {
   "cell_type": "markdown",
   "id": "257b2874-8ea2-4045-8cf3-8c1f29139a16",
   "metadata": {},
   "source": [
    "The paper \"Can ChatGPT Decipher Fedspeak?\" is related to the final proposal in that both involve the use of natural language processing (NLP) techniques to analyze text data related to economics and finance. The paper specifically focuses on the ability of GPT models to classify the policy stance of Federal Open Market Committee (FOMC) announcements. The final proposal, on the other hand, proposes the use of NLP techniques to analyze social media data related to cryptocurrencies, with a focus on sentiment analysis and topic modeling.\n",
    "\n",
    "Both the paper and the final proposal recognize the potential of NLP techniques to automate certain tasks in the field of economics and finance, which can save time and resources while providing valuable insights. The paper also highlights the importance of context-awareness in NLP tasks, which is also relevant to the final proposal, as sentiment analysis and topic modeling require an understanding of the context in which the text data is being used.\n",
    "\n",
    "Overall, the paper \"Can ChatGPT Decipher Fedspeak?\" provides a useful case study for the use of NLP techniques in the field of economics and finance, and the results can inform the development and evaluation of NLP models for similar tasks, including those proposed in the final proposal."
   ]
  },
  {
   "cell_type": "markdown",
   "id": "5e80c936-e9ac-4144-b4a2-f5ffe97537e5",
   "metadata": {},
   "source": [
    "### Discussion: \" Equity Term Structure Response to FOMC Announcements\" by Benjamin Golez and Ben Matthies"
   ]
  },
  {
   "cell_type": "code",
   "execution_count": null,
   "id": "f0ba1716-00e7-4d0f-b681-f5dbbcef5f44",
   "metadata": {},
   "outputs": [],
   "source": []
  },
  {
   "cell_type": "markdown",
   "id": "fc2f27f6-c667-4e9e-bd46-d667d95a3530",
   "metadata": {},
   "source": [
    "### Revisions From the Initial Proposal"
   ]
  },
  {
   "cell_type": "markdown",
   "id": "11c8d5d1-b847-4f55-bd2d-f451cff10186",
   "metadata": {},
   "source": [
    "- Fully revised Necessary Data section to make adjust our project frm discussing on annual individual firm returns to t-15 to 1+15 daily return on indexes. Separated orignal bond data from S&P 500 Bond index into VBLAX, and VBIRX. And deepened the dicussion around the summarixed graph that will be made at the end of the project.\n",
    "- Overall revision of each section's language and idea to refect the changes above. Specifically, we concentrated on rewriting the data/testing section to incorporate the feedback.\n",
    "- Revised addional consideration regarding the returns during the pandemic. \n",
    "- Included dicussion on \"Monetary Policy and the Equity Term Structure\" by Benjamin Golez and Ben Matthies as well as \"Can ChatGPT Decipher Fedspeak?\" by Anne Lundgaard Hansen and Sophia Kazinnik.\n",
    "    - **not done yet**"
   ]
  },
  {
   "cell_type": "code",
   "execution_count": null,
   "id": "cea3e52a-3135-4376-8e46-61fcd22dbd19",
   "metadata": {},
   "outputs": [],
   "source": []
  }
 ],
 "metadata": {
  "kernelspec": {
   "display_name": "Python 3 (ipykernel)",
   "language": "python",
   "name": "python3"
  },
  "language_info": {
   "codemirror_mode": {
    "name": "ipython",
    "version": 3
   },
   "file_extension": ".py",
   "mimetype": "text/x-python",
   "name": "python",
   "nbconvert_exporter": "python",
   "pygments_lexer": "ipython3",
   "version": "3.10.9"
  }
 },
 "nbformat": 4,
 "nbformat_minor": 5
}
