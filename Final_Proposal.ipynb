{
 "cells": [
  {
   "cell_type": "markdown",
   "id": "7223eb23-0f51-41df-b8b8-455dee8249be",
   "metadata": {},
   "source": [
    "## Research Question"
   ]
  },
  {
   "cell_type": "markdown",
   "id": "3dd1618c-b5b5-46be-9488-c369d7a1072c",
   "metadata": {},
   "source": [
    "Our research question is examining the correlation between the fluctuations of the reserve requirement rate and stock returns. Our inquiry aims to shed light on whether an increase or decrease in the reserve requirement rate is linked to positive or negative stock returns. Additionally, we intend to examine the magnitude of the change in the reserve requirement rate and its association with stock returns. The implications of our research are far-reaching because we aim to provide a framework that allows investors to time their investments more effectively around the Federal Open Market Committee's (FOMC) scheduled meetings. Our findings will be of particular interest to institutional investors who seek to enhance their capital gains while minimizing losses. The FOMC's decisions on whether to raise or lower interest rates have far-reaching effects on the economy, as well as individual stocks. Therefore, by examining the impact of their announcements on the performance of individual stocks, investing in stocks surrounding the press release of the FOMC meeting would be a potential way for institutional investors to increase their capital gains and minimize losses. We strongly believe that the insights gained from the project will provide a deeper understanding of the correlation between the reserve requirement rate and stock returns..\n"
   ]
  },
  {
   "cell_type": "markdown",
   "id": "233a21fc-84dc-4317-b387-052090a18ed2",
   "metadata": {},
   "source": [
    "## Data"
   ]
  },
  {
   "cell_type": "markdown",
   "id": "d25f74b7-6da9-4511-8b03-aa35f24d3e1c",
   "metadata": {},
   "source": [
    "The observation in the dataset will be a firm-year. For each company there will be a row in the dataframe from the year 2015 to 2022, so each company will have 8 rows in the dataset. We hope to provide insights into how stock returns of firms in the S&P 500 are correlated with the S&P 500 Bond Index, and how this correlation may be influenced by changes in interest rates.To obtain a complete picture of the correlation between stocks and bonds, we will also include columns for bonds during the sample period and examine the correlation between bond returns and interest rates. This will enable us to draw comparisons between the correlation of bonds and stocks with interest rates and gain a deeper understanding of how the two markets interact. While we do not plan to exclude any specific dates from the dataset initially, we will monitor the returns during the pandemic period, and may choose to exclude them if they appear to deviate from the expected pattern. We believe this will help to ensure the accuracy and validity of our findings. To conduct our analysis, we will require returns for each firm from 2015 to 2022, information on the dates and outcomes of FOMC meetings during those years, and data on bond returns during the sample period. Additionally, we are considering exploring the changes in trading volume during these time periods, as this could provide valuable insights into how the markets respond to different economic events. Overall, our research will provide a comprehensive analysis of the correlation between the reserve requirement rate and stock returns, as well as the relationship between the stock and bond markets. \n"
   ]
  }
 ],
 "metadata": {
  "kernelspec": {
   "display_name": "Python 3 (ipykernel)",
   "language": "python",
   "name": "python3"
  },
  "language_info": {
   "codemirror_mode": {
    "name": "ipython",
    "version": 3
   },
   "file_extension": ".py",
   "mimetype": "text/x-python",
   "name": "python",
   "nbconvert_exporter": "python",
   "pygments_lexer": "ipython3",
   "version": "3.9.13"
  }
 },
 "nbformat": 4,
 "nbformat_minor": 5
}
