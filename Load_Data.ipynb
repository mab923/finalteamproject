{
 "cells": [
  {
   "cell_type": "markdown",
   "id": "73a497d6-dd57-4716-b081-2d144dc89d11",
   "metadata": {},
   "source": [
    "# Load Data"
   ]
  },
  {
   "cell_type": "code",
   "execution_count": 1,
   "id": "d2b3880b-7da3-48b2-8089-2a9dc93025ab",
   "metadata": {},
   "outputs": [],
   "source": [
    "import pandas as pd"
   ]
  },
  {
   "cell_type": "markdown",
   "id": "65ecacec-879e-4f31-afd4-937bdd4d90f0",
   "metadata": {},
   "source": [
    "### FOMC Rates"
   ]
  },
  {
   "cell_type": "code",
   "execution_count": 2,
   "id": "29a9ce5f-dca1-4fa9-82e7-81868d9c26b1",
   "metadata": {},
   "outputs": [],
   "source": [
    "rates = pd.read_csv('inputs/FOMC_rates.csv')"
   ]
  },
  {
   "cell_type": "code",
   "execution_count": 3,
   "id": "0241b7d3-c206-4fc3-82f4-2633ec6220eb",
   "metadata": {},
   "outputs": [
    {
     "data": {
      "text/html": [
       "<div>\n",
       "<style scoped>\n",
       "    .dataframe tbody tr th:only-of-type {\n",
       "        vertical-align: middle;\n",
       "    }\n",
       "\n",
       "    .dataframe tbody tr th {\n",
       "        vertical-align: top;\n",
       "    }\n",
       "\n",
       "    .dataframe thead th {\n",
       "        text-align: right;\n",
       "    }\n",
       "</style>\n",
       "<table border=\"1\" class=\"dataframe\">\n",
       "  <thead>\n",
       "    <tr style=\"text-align: right;\">\n",
       "      <th></th>\n",
       "      <th>﻿Date</th>\n",
       "      <th>Increase</th>\n",
       "      <th>Decrease</th>\n",
       "      <th>Tgt_level</th>\n",
       "    </tr>\n",
       "  </thead>\n",
       "  <tbody>\n",
       "    <tr>\n",
       "      <th>0</th>\n",
       "      <td>12/17/15</td>\n",
       "      <td>25</td>\n",
       "      <td>0</td>\n",
       "      <td>0.25-0.50</td>\n",
       "    </tr>\n",
       "    <tr>\n",
       "      <th>1</th>\n",
       "      <td>12/15/16</td>\n",
       "      <td>25</td>\n",
       "      <td>0</td>\n",
       "      <td>0.50-0.75</td>\n",
       "    </tr>\n",
       "    <tr>\n",
       "      <th>2</th>\n",
       "      <td>3/16/17</td>\n",
       "      <td>25</td>\n",
       "      <td>0</td>\n",
       "      <td>0.75-1.00</td>\n",
       "    </tr>\n",
       "    <tr>\n",
       "      <th>3</th>\n",
       "      <td>6/15/17</td>\n",
       "      <td>25</td>\n",
       "      <td>0</td>\n",
       "      <td>1.00-1.25</td>\n",
       "    </tr>\n",
       "    <tr>\n",
       "      <th>4</th>\n",
       "      <td>12/14/17</td>\n",
       "      <td>25</td>\n",
       "      <td>0</td>\n",
       "      <td>1.25-1.50</td>\n",
       "    </tr>\n",
       "    <tr>\n",
       "      <th>5</th>\n",
       "      <td>3/22/18</td>\n",
       "      <td>25</td>\n",
       "      <td>0</td>\n",
       "      <td>1.50-1.75</td>\n",
       "    </tr>\n",
       "    <tr>\n",
       "      <th>6</th>\n",
       "      <td>6/14/18</td>\n",
       "      <td>25</td>\n",
       "      <td>0</td>\n",
       "      <td>1.75-2.00</td>\n",
       "    </tr>\n",
       "    <tr>\n",
       "      <th>7</th>\n",
       "      <td>9/27/18</td>\n",
       "      <td>25</td>\n",
       "      <td>0</td>\n",
       "      <td>2.00-2.25</td>\n",
       "    </tr>\n",
       "    <tr>\n",
       "      <th>8</th>\n",
       "      <td>12/20/18</td>\n",
       "      <td>25</td>\n",
       "      <td>0</td>\n",
       "      <td>2.25-2.50</td>\n",
       "    </tr>\n",
       "    <tr>\n",
       "      <th>9</th>\n",
       "      <td>8/1/19</td>\n",
       "      <td>0</td>\n",
       "      <td>25</td>\n",
       "      <td>2.00-2.25</td>\n",
       "    </tr>\n",
       "    <tr>\n",
       "      <th>10</th>\n",
       "      <td>9/19/19</td>\n",
       "      <td>0</td>\n",
       "      <td>25</td>\n",
       "      <td>1.75-2.00</td>\n",
       "    </tr>\n",
       "    <tr>\n",
       "      <th>11</th>\n",
       "      <td>10/31/19</td>\n",
       "      <td>0</td>\n",
       "      <td>25</td>\n",
       "      <td>1.50-1.75</td>\n",
       "    </tr>\n",
       "    <tr>\n",
       "      <th>12</th>\n",
       "      <td>3/3/20</td>\n",
       "      <td>0</td>\n",
       "      <td>50</td>\n",
       "      <td>1.00-1.25</td>\n",
       "    </tr>\n",
       "    <tr>\n",
       "      <th>13</th>\n",
       "      <td>3/16/20</td>\n",
       "      <td>0</td>\n",
       "      <td>100</td>\n",
       "      <td>0-0.25</td>\n",
       "    </tr>\n",
       "    <tr>\n",
       "      <th>14</th>\n",
       "      <td>3/17/22</td>\n",
       "      <td>25</td>\n",
       "      <td>0</td>\n",
       "      <td>0.25-0.50</td>\n",
       "    </tr>\n",
       "    <tr>\n",
       "      <th>15</th>\n",
       "      <td>5/5/22</td>\n",
       "      <td>50</td>\n",
       "      <td>0</td>\n",
       "      <td>0.75-1.00</td>\n",
       "    </tr>\n",
       "    <tr>\n",
       "      <th>16</th>\n",
       "      <td>6/16/22</td>\n",
       "      <td>75</td>\n",
       "      <td>0</td>\n",
       "      <td>1.50-1.75</td>\n",
       "    </tr>\n",
       "    <tr>\n",
       "      <th>17</th>\n",
       "      <td>7/28/22</td>\n",
       "      <td>75</td>\n",
       "      <td>0</td>\n",
       "      <td>2.25-2.50</td>\n",
       "    </tr>\n",
       "    <tr>\n",
       "      <th>18</th>\n",
       "      <td>9/22/22</td>\n",
       "      <td>75</td>\n",
       "      <td>0</td>\n",
       "      <td>3.00-3.25</td>\n",
       "    </tr>\n",
       "    <tr>\n",
       "      <th>19</th>\n",
       "      <td>11/3/22</td>\n",
       "      <td>75</td>\n",
       "      <td>0</td>\n",
       "      <td>3.75-4.00</td>\n",
       "    </tr>\n",
       "    <tr>\n",
       "      <th>20</th>\n",
       "      <td>12/15/22</td>\n",
       "      <td>50</td>\n",
       "      <td>0</td>\n",
       "      <td>4.25-4.50</td>\n",
       "    </tr>\n",
       "    <tr>\n",
       "      <th>21</th>\n",
       "      <td>2/2/23</td>\n",
       "      <td>25</td>\n",
       "      <td>0</td>\n",
       "      <td>4.50-4.75</td>\n",
       "    </tr>\n",
       "    <tr>\n",
       "      <th>22</th>\n",
       "      <td>3/23/23</td>\n",
       "      <td>25</td>\n",
       "      <td>0</td>\n",
       "      <td>4.75-5.00</td>\n",
       "    </tr>\n",
       "  </tbody>\n",
       "</table>\n",
       "</div>"
      ],
      "text/plain": [
       "       ﻿Date  Increase  Decrease  Tgt_level\n",
       "0   12/17/15        25         0  0.25-0.50\n",
       "1   12/15/16        25         0  0.50-0.75\n",
       "2    3/16/17        25         0  0.75-1.00\n",
       "3    6/15/17        25         0  1.00-1.25\n",
       "4   12/14/17        25         0  1.25-1.50\n",
       "5    3/22/18        25         0  1.50-1.75\n",
       "6    6/14/18        25         0  1.75-2.00\n",
       "7    9/27/18        25         0  2.00-2.25\n",
       "8   12/20/18        25         0  2.25-2.50\n",
       "9     8/1/19         0        25  2.00-2.25\n",
       "10   9/19/19         0        25  1.75-2.00\n",
       "11  10/31/19         0        25  1.50-1.75\n",
       "12    3/3/20         0        50  1.00-1.25\n",
       "13   3/16/20         0       100     0-0.25\n",
       "14   3/17/22        25         0  0.25-0.50\n",
       "15    5/5/22        50         0  0.75-1.00\n",
       "16   6/16/22        75         0  1.50-1.75\n",
       "17   7/28/22        75         0  2.25-2.50\n",
       "18   9/22/22        75         0  3.00-3.25\n",
       "19   11/3/22        75         0  3.75-4.00\n",
       "20  12/15/22        50         0  4.25-4.50\n",
       "21    2/2/23        25         0  4.50-4.75\n",
       "22   3/23/23        25         0  4.75-5.00"
      ]
     },
     "execution_count": 3,
     "metadata": {},
     "output_type": "execute_result"
    }
   ],
   "source": [
    "rates"
   ]
  },
  {
   "cell_type": "markdown",
   "id": "688d33a3-9da6-4420-8179-b9ae395f7885",
   "metadata": {},
   "source": [
    "Source: https://www.federalreserve.gov/monetarypolicy/openmarket.htm"
   ]
  },
  {
   "cell_type": "markdown",
   "id": "767634b6-f556-43ba-b2c6-7cfb5312d5ba",
   "metadata": {},
   "source": [
    "### Index Returns"
   ]
  },
  {
   "cell_type": "code",
   "execution_count": 4,
   "id": "8539cb80-3965-4e55-ae7c-023183450cde",
   "metadata": {},
   "outputs": [],
   "source": [
    "sp500_ret = pd.read_csv('inputs/SP500_ret.csv')"
   ]
  },
  {
   "cell_type": "code",
   "execution_count": 5,
   "id": "a0e188fa-1f9d-4e83-b705-68d8fe7c1c5d",
   "metadata": {},
   "outputs": [
    {
     "data": {
      "text/html": [
       "<div>\n",
       "<style scoped>\n",
       "    .dataframe tbody tr th:only-of-type {\n",
       "        vertical-align: middle;\n",
       "    }\n",
       "\n",
       "    .dataframe tbody tr th {\n",
       "        vertical-align: top;\n",
       "    }\n",
       "\n",
       "    .dataframe thead th {\n",
       "        text-align: right;\n",
       "    }\n",
       "</style>\n",
       "<table border=\"1\" class=\"dataframe\">\n",
       "  <thead>\n",
       "    <tr style=\"text-align: right;\">\n",
       "      <th></th>\n",
       "      <th>Effective_date</th>\n",
       "      <th>S&amp;P_500</th>\n",
       "    </tr>\n",
       "  </thead>\n",
       "  <tbody>\n",
       "    <tr>\n",
       "      <th>0</th>\n",
       "      <td>1/2/15</td>\n",
       "      <td>2058.20</td>\n",
       "    </tr>\n",
       "    <tr>\n",
       "      <th>1</th>\n",
       "      <td>1/5/15</td>\n",
       "      <td>2020.58</td>\n",
       "    </tr>\n",
       "    <tr>\n",
       "      <th>2</th>\n",
       "      <td>1/6/15</td>\n",
       "      <td>2002.61</td>\n",
       "    </tr>\n",
       "    <tr>\n",
       "      <th>3</th>\n",
       "      <td>1/7/15</td>\n",
       "      <td>2025.90</td>\n",
       "    </tr>\n",
       "    <tr>\n",
       "      <th>4</th>\n",
       "      <td>1/8/15</td>\n",
       "      <td>2062.14</td>\n",
       "    </tr>\n",
       "    <tr>\n",
       "      <th>...</th>\n",
       "      <td>...</td>\n",
       "      <td>...</td>\n",
       "    </tr>\n",
       "    <tr>\n",
       "      <th>2087</th>\n",
       "      <td>4/19/23</td>\n",
       "      <td>4154.52</td>\n",
       "    </tr>\n",
       "    <tr>\n",
       "      <th>2088</th>\n",
       "      <td>4/20/23</td>\n",
       "      <td>4129.79</td>\n",
       "    </tr>\n",
       "    <tr>\n",
       "      <th>2089</th>\n",
       "      <td>4/21/23</td>\n",
       "      <td>4133.52</td>\n",
       "    </tr>\n",
       "    <tr>\n",
       "      <th>2090</th>\n",
       "      <td>4/24/23</td>\n",
       "      <td>4137.04</td>\n",
       "    </tr>\n",
       "    <tr>\n",
       "      <th>2091</th>\n",
       "      <td>4/25/23</td>\n",
       "      <td>4071.63</td>\n",
       "    </tr>\n",
       "  </tbody>\n",
       "</table>\n",
       "<p>2092 rows × 2 columns</p>\n",
       "</div>"
      ],
      "text/plain": [
       "     Effective_date   S&P_500\n",
       "0             1/2/15  2058.20\n",
       "1             1/5/15  2020.58\n",
       "2             1/6/15  2002.61\n",
       "3             1/7/15  2025.90\n",
       "4             1/8/15  2062.14\n",
       "...              ...      ...\n",
       "2087         4/19/23  4154.52\n",
       "2088         4/20/23  4129.79\n",
       "2089         4/21/23  4133.52\n",
       "2090         4/24/23  4137.04\n",
       "2091         4/25/23  4071.63\n",
       "\n",
       "[2092 rows x 2 columns]"
      ]
     },
     "execution_count": 5,
     "metadata": {},
     "output_type": "execute_result"
    }
   ],
   "source": [
    "sp500_ret"
   ]
  },
  {
   "cell_type": "markdown",
   "id": "af6d9fea-0ce4-41bf-86cf-18dbdcb84c51",
   "metadata": {},
   "source": [
    "Source: https://www.spglobal.com/spdji/en/indices/equity/sp-500/#overview"
   ]
  },
  {
   "cell_type": "markdown",
   "id": "68313760-8c50-49b1-b3a6-01891df96f5c",
   "metadata": {},
   "source": [
    "### Stock Trading Volume"
   ]
  },
  {
   "cell_type": "code",
   "execution_count": 6,
   "id": "721f5673-6a73-4222-a498-c6ece28bc95c",
   "metadata": {},
   "outputs": [],
   "source": [
    "stock_tv = pd.read_csv('inputs/SP500_TV.csv')"
   ]
  },
  {
   "cell_type": "code",
   "execution_count": 7,
   "id": "7b87a910-375e-40d7-a187-8081212de672",
   "metadata": {},
   "outputs": [
    {
     "data": {
      "text/plain": [
       "0      12/2/15\n",
       "1      12/3/15\n",
       "2      12/4/15\n",
       "3      12/7/15\n",
       "4      12/8/15\n",
       "        ...   \n",
       "502    3/31/23\n",
       "503     4/3/23\n",
       "504     4/4/23\n",
       "505     4/5/23\n",
       "506     4/6/23\n",
       "Name: Date, Length: 507, dtype: object"
      ]
     },
     "execution_count": 7,
     "metadata": {},
     "output_type": "execute_result"
    }
   ],
   "source": [
    "stock_tv['Date']"
   ]
  },
  {
   "cell_type": "markdown",
   "id": "1c6889cf-3cb7-4e32-9e3d-a9786ceb9941",
   "metadata": {},
   "source": [
    "Source: https://ycharts.com/indicators/cboe_spx_volume"
   ]
  },
  {
   "cell_type": "markdown",
   "id": "82fccca5-88d5-4405-89af-4c9986a3cfba",
   "metadata": {},
   "source": [
    "### VBLAX data"
   ]
  },
  {
   "cell_type": "code",
   "execution_count": 8,
   "id": "285153bf-82f3-423f-9295-3f85b22a1b7a",
   "metadata": {},
   "outputs": [],
   "source": [
    "#pip install yfinance\n",
    "import yfinance as yf\n",
    "import pandas as pd\n",
    "from datetime import datetime"
   ]
  },
  {
   "cell_type": "code",
   "execution_count": 9,
   "id": "2832333d-4999-4f4f-8538-19b27a80b3c7",
   "metadata": {},
   "outputs": [],
   "source": [
    "start  = datetime(2015, 1, 1)\n",
    "end    = datetime(2023, 4, 25)"
   ]
  },
  {
   "cell_type": "code",
   "execution_count": 10,
   "id": "9783b145-3931-4ee6-a1d6-bf8ab7a5916a",
   "metadata": {},
   "outputs": [
    {
     "name": "stdout",
     "output_type": "stream",
     "text": [
      "[*********************100%***********************]  1 of 1 completed\n"
     ]
    }
   ],
   "source": [
    "stock_prices = yf.download('VBLAX', start=start, end=end)\n",
    "\n",
    "daily_returns = stock_prices['Adj Close'].pct_change()\n",
    "daily_price = stock_prices['Adj Close']\n",
    "daily_returns['Volume'] = stock_prices['Volume']\n",
    "\n",
    "Vblax = pd.DataFrame({'Daily Returns': daily_returns, 'Daily Price': daily_price, 'Trading Volume': stock_prices['Volume']})"
   ]
  },
  {
   "cell_type": "code",
   "execution_count": 11,
   "id": "cfea136e-5725-41e4-993b-4b5a49209626",
   "metadata": {},
   "outputs": [
    {
     "data": {
      "text/html": [
       "<div>\n",
       "<style scoped>\n",
       "    .dataframe tbody tr th:only-of-type {\n",
       "        vertical-align: middle;\n",
       "    }\n",
       "\n",
       "    .dataframe tbody tr th {\n",
       "        vertical-align: top;\n",
       "    }\n",
       "\n",
       "    .dataframe thead th {\n",
       "        text-align: right;\n",
       "    }\n",
       "</style>\n",
       "<table border=\"1\" class=\"dataframe\">\n",
       "  <thead>\n",
       "    <tr style=\"text-align: right;\">\n",
       "      <th></th>\n",
       "      <th>Daily Returns</th>\n",
       "      <th>Daily Price</th>\n",
       "      <th>Trading Volume</th>\n",
       "    </tr>\n",
       "    <tr>\n",
       "      <th>Date</th>\n",
       "      <th></th>\n",
       "      <th></th>\n",
       "      <th></th>\n",
       "    </tr>\n",
       "  </thead>\n",
       "  <tbody>\n",
       "    <tr>\n",
       "      <th>2019-02-07 00:00:00</th>\n",
       "      <td>NaN</td>\n",
       "      <td>11.382690</td>\n",
       "      <td>0.0</td>\n",
       "    </tr>\n",
       "    <tr>\n",
       "      <th>2019-02-08 00:00:00</th>\n",
       "      <td>0.002226</td>\n",
       "      <td>11.408027</td>\n",
       "      <td>0.0</td>\n",
       "    </tr>\n",
       "    <tr>\n",
       "      <th>2019-02-11 00:00:00</th>\n",
       "      <td>-0.002221</td>\n",
       "      <td>11.382690</td>\n",
       "      <td>0.0</td>\n",
       "    </tr>\n",
       "    <tr>\n",
       "      <th>2019-02-12 00:00:00</th>\n",
       "      <td>-0.002225</td>\n",
       "      <td>11.357359</td>\n",
       "      <td>0.0</td>\n",
       "    </tr>\n",
       "    <tr>\n",
       "      <th>2019-02-13 00:00:00</th>\n",
       "      <td>-0.002231</td>\n",
       "      <td>11.332026</td>\n",
       "      <td>0.0</td>\n",
       "    </tr>\n",
       "    <tr>\n",
       "      <th>...</th>\n",
       "      <td>...</td>\n",
       "      <td>...</td>\n",
       "      <td>...</td>\n",
       "    </tr>\n",
       "    <tr>\n",
       "      <th>2023-04-19 00:00:00</th>\n",
       "      <td>-0.00175</td>\n",
       "      <td>11.410000</td>\n",
       "      <td>0.0</td>\n",
       "    </tr>\n",
       "    <tr>\n",
       "      <th>2023-04-20 00:00:00</th>\n",
       "      <td>0.005259</td>\n",
       "      <td>11.470000</td>\n",
       "      <td>0.0</td>\n",
       "    </tr>\n",
       "    <tr>\n",
       "      <th>2023-04-21 00:00:00</th>\n",
       "      <td>-0.003487</td>\n",
       "      <td>11.430000</td>\n",
       "      <td>0.0</td>\n",
       "    </tr>\n",
       "    <tr>\n",
       "      <th>2023-04-24 00:00:00</th>\n",
       "      <td>0.007874</td>\n",
       "      <td>11.520000</td>\n",
       "      <td>0.0</td>\n",
       "    </tr>\n",
       "    <tr>\n",
       "      <th>Volume</th>\n",
       "      <td>Date\n",
       "2019-02-07    0\n",
       "2019-02-08    0\n",
       "2019-02-1...</td>\n",
       "      <td>NaN</td>\n",
       "      <td>NaN</td>\n",
       "    </tr>\n",
       "  </tbody>\n",
       "</table>\n",
       "<p>1061 rows × 3 columns</p>\n",
       "</div>"
      ],
      "text/plain": [
       "                                                         Daily Returns  \\\n",
       "Date                                                                     \n",
       "2019-02-07 00:00:00                                                NaN   \n",
       "2019-02-08 00:00:00                                           0.002226   \n",
       "2019-02-11 00:00:00                                          -0.002221   \n",
       "2019-02-12 00:00:00                                          -0.002225   \n",
       "2019-02-13 00:00:00                                          -0.002231   \n",
       "...                                                                ...   \n",
       "2023-04-19 00:00:00                                           -0.00175   \n",
       "2023-04-20 00:00:00                                           0.005259   \n",
       "2023-04-21 00:00:00                                          -0.003487   \n",
       "2023-04-24 00:00:00                                           0.007874   \n",
       "Volume               Date\n",
       "2019-02-07    0\n",
       "2019-02-08    0\n",
       "2019-02-1...   \n",
       "\n",
       "                     Daily Price  Trading Volume  \n",
       "Date                                              \n",
       "2019-02-07 00:00:00    11.382690             0.0  \n",
       "2019-02-08 00:00:00    11.408027             0.0  \n",
       "2019-02-11 00:00:00    11.382690             0.0  \n",
       "2019-02-12 00:00:00    11.357359             0.0  \n",
       "2019-02-13 00:00:00    11.332026             0.0  \n",
       "...                          ...             ...  \n",
       "2023-04-19 00:00:00    11.410000             0.0  \n",
       "2023-04-20 00:00:00    11.470000             0.0  \n",
       "2023-04-21 00:00:00    11.430000             0.0  \n",
       "2023-04-24 00:00:00    11.520000             0.0  \n",
       "Volume                       NaN             NaN  \n",
       "\n",
       "[1061 rows x 3 columns]"
      ]
     },
     "execution_count": 11,
     "metadata": {},
     "output_type": "execute_result"
    }
   ],
   "source": [
    "Vblax"
   ]
  },
  {
   "cell_type": "code",
   "execution_count": 12,
   "id": "674c08e9-a694-4c37-8b9a-cae98483f8d7",
   "metadata": {},
   "outputs": [
    {
     "ename": "KeyError",
     "evalue": "'Date'",
     "output_type": "error",
     "traceback": [
      "\u001b[0;31m---------------------------------------------------------------------------\u001b[0m",
      "\u001b[0;31mKeyError\u001b[0m                                  Traceback (most recent call last)",
      "File \u001b[0;32m~/anaconda3/lib/python3.10/site-packages/pandas/core/indexes/base.py:3802\u001b[0m, in \u001b[0;36mIndex.get_loc\u001b[0;34m(self, key, method, tolerance)\u001b[0m\n\u001b[1;32m   3801\u001b[0m \u001b[38;5;28;01mtry\u001b[39;00m:\n\u001b[0;32m-> 3802\u001b[0m     \u001b[38;5;28;01mreturn\u001b[39;00m \u001b[38;5;28;43mself\u001b[39;49m\u001b[38;5;241;43m.\u001b[39;49m\u001b[43m_engine\u001b[49m\u001b[38;5;241;43m.\u001b[39;49m\u001b[43mget_loc\u001b[49m\u001b[43m(\u001b[49m\u001b[43mcasted_key\u001b[49m\u001b[43m)\u001b[49m\n\u001b[1;32m   3803\u001b[0m \u001b[38;5;28;01mexcept\u001b[39;00m \u001b[38;5;167;01mKeyError\u001b[39;00m \u001b[38;5;28;01mas\u001b[39;00m err:\n",
      "File \u001b[0;32m~/anaconda3/lib/python3.10/site-packages/pandas/_libs/index.pyx:138\u001b[0m, in \u001b[0;36mpandas._libs.index.IndexEngine.get_loc\u001b[0;34m()\u001b[0m\n",
      "File \u001b[0;32m~/anaconda3/lib/python3.10/site-packages/pandas/_libs/index.pyx:165\u001b[0m, in \u001b[0;36mpandas._libs.index.IndexEngine.get_loc\u001b[0;34m()\u001b[0m\n",
      "File \u001b[0;32mpandas/_libs/hashtable_class_helper.pxi:5745\u001b[0m, in \u001b[0;36mpandas._libs.hashtable.PyObjectHashTable.get_item\u001b[0;34m()\u001b[0m\n",
      "File \u001b[0;32mpandas/_libs/hashtable_class_helper.pxi:5753\u001b[0m, in \u001b[0;36mpandas._libs.hashtable.PyObjectHashTable.get_item\u001b[0;34m()\u001b[0m\n",
      "\u001b[0;31mKeyError\u001b[0m: 'Date'",
      "\nThe above exception was the direct cause of the following exception:\n",
      "\u001b[0;31mKeyError\u001b[0m                                  Traceback (most recent call last)",
      "Cell \u001b[0;32mIn[12], line 1\u001b[0m\n\u001b[0;32m----> 1\u001b[0m Vblax[\u001b[38;5;124m'\u001b[39m\u001b[38;5;124mdate\u001b[39m\u001b[38;5;124m'\u001b[39m] \u001b[38;5;241m=\u001b[39m pd\u001b[38;5;241m.\u001b[39mto_datetime(\u001b[43mVblax\u001b[49m\u001b[43m[\u001b[49m\u001b[38;5;124;43m'\u001b[39;49m\u001b[38;5;124;43mDate\u001b[39;49m\u001b[38;5;124;43m'\u001b[39;49m\u001b[43m]\u001b[49m, errors \u001b[38;5;241m=\u001b[39m\u001b[38;5;124m'\u001b[39m\u001b[38;5;124mcoerce\u001b[39m\u001b[38;5;124m'\u001b[39m)\u001b[38;5;241m.\u001b[39mdt\u001b[38;5;241m.\u001b[39mstrftime(\u001b[38;5;124m'\u001b[39m\u001b[38;5;124m%\u001b[39m\u001b[38;5;124mm/\u001b[39m\u001b[38;5;132;01m%d\u001b[39;00m\u001b[38;5;124m/\u001b[39m\u001b[38;5;124m%\u001b[39m\u001b[38;5;124my\u001b[39m\u001b[38;5;124m'\u001b[39m)\n\u001b[1;32m      2\u001b[0m Vblax\u001b[38;5;241m.\u001b[39mdropna(subset\u001b[38;5;241m=\u001b[39m[\u001b[38;5;124m'\u001b[39m\u001b[38;5;124mdate\u001b[39m\u001b[38;5;124m'\u001b[39m], inplace\u001b[38;5;241m=\u001b[39m\u001b[38;5;28;01mTrue\u001b[39;00m)\n\u001b[1;32m      3\u001b[0m Vblax\n",
      "File \u001b[0;32m~/anaconda3/lib/python3.10/site-packages/pandas/core/frame.py:3807\u001b[0m, in \u001b[0;36mDataFrame.__getitem__\u001b[0;34m(self, key)\u001b[0m\n\u001b[1;32m   3805\u001b[0m \u001b[38;5;28;01mif\u001b[39;00m \u001b[38;5;28mself\u001b[39m\u001b[38;5;241m.\u001b[39mcolumns\u001b[38;5;241m.\u001b[39mnlevels \u001b[38;5;241m>\u001b[39m \u001b[38;5;241m1\u001b[39m:\n\u001b[1;32m   3806\u001b[0m     \u001b[38;5;28;01mreturn\u001b[39;00m \u001b[38;5;28mself\u001b[39m\u001b[38;5;241m.\u001b[39m_getitem_multilevel(key)\n\u001b[0;32m-> 3807\u001b[0m indexer \u001b[38;5;241m=\u001b[39m \u001b[38;5;28;43mself\u001b[39;49m\u001b[38;5;241;43m.\u001b[39;49m\u001b[43mcolumns\u001b[49m\u001b[38;5;241;43m.\u001b[39;49m\u001b[43mget_loc\u001b[49m\u001b[43m(\u001b[49m\u001b[43mkey\u001b[49m\u001b[43m)\u001b[49m\n\u001b[1;32m   3808\u001b[0m \u001b[38;5;28;01mif\u001b[39;00m is_integer(indexer):\n\u001b[1;32m   3809\u001b[0m     indexer \u001b[38;5;241m=\u001b[39m [indexer]\n",
      "File \u001b[0;32m~/anaconda3/lib/python3.10/site-packages/pandas/core/indexes/base.py:3804\u001b[0m, in \u001b[0;36mIndex.get_loc\u001b[0;34m(self, key, method, tolerance)\u001b[0m\n\u001b[1;32m   3802\u001b[0m     \u001b[38;5;28;01mreturn\u001b[39;00m \u001b[38;5;28mself\u001b[39m\u001b[38;5;241m.\u001b[39m_engine\u001b[38;5;241m.\u001b[39mget_loc(casted_key)\n\u001b[1;32m   3803\u001b[0m \u001b[38;5;28;01mexcept\u001b[39;00m \u001b[38;5;167;01mKeyError\u001b[39;00m \u001b[38;5;28;01mas\u001b[39;00m err:\n\u001b[0;32m-> 3804\u001b[0m     \u001b[38;5;28;01mraise\u001b[39;00m \u001b[38;5;167;01mKeyError\u001b[39;00m(key) \u001b[38;5;28;01mfrom\u001b[39;00m \u001b[38;5;21;01merr\u001b[39;00m\n\u001b[1;32m   3805\u001b[0m \u001b[38;5;28;01mexcept\u001b[39;00m \u001b[38;5;167;01mTypeError\u001b[39;00m:\n\u001b[1;32m   3806\u001b[0m     \u001b[38;5;66;03m# If we have a listlike key, _check_indexing_error will raise\u001b[39;00m\n\u001b[1;32m   3807\u001b[0m     \u001b[38;5;66;03m#  InvalidIndexError. Otherwise we fall through and re-raise\u001b[39;00m\n\u001b[1;32m   3808\u001b[0m     \u001b[38;5;66;03m#  the TypeError.\u001b[39;00m\n\u001b[1;32m   3809\u001b[0m     \u001b[38;5;28mself\u001b[39m\u001b[38;5;241m.\u001b[39m_check_indexing_error(key)\n",
      "\u001b[0;31mKeyError\u001b[0m: 'Date'"
     ]
    }
   ],
   "source": [
    "Vblax['date'] = pd.to_datetime(Vblax['Date'], errors ='coerce').dt.strftime('%m/%d/%y')\n",
    "Vblax.dropna(subset=['date'], inplace=True)\n",
    "Vblax"
   ]
  },
  {
   "cell_type": "code",
   "execution_count": 13,
   "id": "fce095e2-7884-4ffd-8be2-5a4d3fe6d7af",
   "metadata": {},
   "outputs": [
    {
     "ename": "NameError",
     "evalue": "name 'tqdm' is not defined",
     "output_type": "error",
     "traceback": [
      "\u001b[0;31m---------------------------------------------------------------------------\u001b[0m",
      "\u001b[0;31mNameError\u001b[0m                                 Traceback (most recent call last)",
      "Cell \u001b[0;32mIn[13], line 1\u001b[0m\n\u001b[0;32m----> 1\u001b[0m \u001b[38;5;28;01mfor\u001b[39;00m index, row \u001b[38;5;129;01min\u001b[39;00m \u001b[43mtqdm\u001b[49m(Vblax\u001b[38;5;241m.\u001b[39miterrows()):\n\u001b[1;32m      2\u001b[0m     \u001b[38;5;28;01mtry\u001b[39;00m:\n\u001b[1;32m      3\u001b[0m         filing_index \u001b[38;5;241m=\u001b[39m sp_returns\u001b[38;5;241m.\u001b[39mloc[(rates[\u001b[38;5;124m'\u001b[39m\u001b[38;5;124mDate\u001b[39m\u001b[38;5;124m'\u001b[39m] \u001b[38;5;241m==\u001b[39m row[\u001b[38;5;124m'\u001b[39m\u001b[38;5;124mdate\u001b[39m\u001b[38;5;124m'\u001b[39m])]\u001b[38;5;241m.\u001b[39mindex[\u001b[38;5;241m0\u001b[39m]\n",
      "\u001b[0;31mNameError\u001b[0m: name 'tqdm' is not defined"
     ]
    }
   ],
   "source": [
    "for index, row in tqdm(Vblax.iterrows()):\n",
    "    try:\n",
    "        filing_index = sp_returns.loc[(rates['Date'] == row['date'])].index[0]\n",
    "        returns = sp_returns.loc[filing_index:filing_index+2, 'ret']\n",
    "        returns = returns +1 \n",
    "        returns = returns.cumprod()\n",
    "        returns = returns.to_list()\n",
    "        cumret = returns[2]\n",
    "        cumret = cumret -1\n",
    "        sp500.loc[index, 'T-T2'] = cumret\n",
    "    except IndexError:\n",
    "        pass\n",
    "   "
   ]
  },
  {
   "cell_type": "markdown",
   "id": "80ca3c22-adaf-4e7a-891b-ba49077897ff",
   "metadata": {},
   "source": [
    "### VBIRX data"
   ]
  },
  {
   "cell_type": "code",
   "execution_count": 14,
   "id": "e5554f15-66a4-4a2a-87ad-57a994a78ac0",
   "metadata": {},
   "outputs": [
    {
     "name": "stdout",
     "output_type": "stream",
     "text": [
      "[*********************100%***********************]  1 of 1 completed\n"
     ]
    },
    {
     "data": {
      "text/html": [
       "<div>\n",
       "<style scoped>\n",
       "    .dataframe tbody tr th:only-of-type {\n",
       "        vertical-align: middle;\n",
       "    }\n",
       "\n",
       "    .dataframe tbody tr th {\n",
       "        vertical-align: top;\n",
       "    }\n",
       "\n",
       "    .dataframe thead th {\n",
       "        text-align: right;\n",
       "    }\n",
       "</style>\n",
       "<table border=\"1\" class=\"dataframe\">\n",
       "  <thead>\n",
       "    <tr style=\"text-align: right;\">\n",
       "      <th></th>\n",
       "      <th>Daily Returns</th>\n",
       "      <th>Daily Price</th>\n",
       "      <th>Trading Volume</th>\n",
       "    </tr>\n",
       "    <tr>\n",
       "      <th>Date</th>\n",
       "      <th></th>\n",
       "      <th></th>\n",
       "      <th></th>\n",
       "    </tr>\n",
       "  </thead>\n",
       "  <tbody>\n",
       "    <tr>\n",
       "      <th>2015-01-02 00:00:00</th>\n",
       "      <td>NaN</td>\n",
       "      <td>9.148488</td>\n",
       "      <td>0.0</td>\n",
       "    </tr>\n",
       "    <tr>\n",
       "      <th>2015-01-05 00:00:00</th>\n",
       "      <td>0.000953</td>\n",
       "      <td>9.157207</td>\n",
       "      <td>0.0</td>\n",
       "    </tr>\n",
       "    <tr>\n",
       "      <th>2015-01-06 00:00:00</th>\n",
       "      <td>0.000952</td>\n",
       "      <td>9.165925</td>\n",
       "      <td>0.0</td>\n",
       "    </tr>\n",
       "    <tr>\n",
       "      <th>2015-01-07 00:00:00</th>\n",
       "      <td>0.000952</td>\n",
       "      <td>9.174647</td>\n",
       "      <td>0.0</td>\n",
       "    </tr>\n",
       "    <tr>\n",
       "      <th>2015-01-08 00:00:00</th>\n",
       "      <td>-0.000951</td>\n",
       "      <td>9.165925</td>\n",
       "      <td>0.0</td>\n",
       "    </tr>\n",
       "    <tr>\n",
       "      <th>...</th>\n",
       "      <td>...</td>\n",
       "      <td>...</td>\n",
       "      <td>...</td>\n",
       "    </tr>\n",
       "    <tr>\n",
       "      <th>2023-04-19 00:00:00</th>\n",
       "      <td>-0.001001</td>\n",
       "      <td>9.980000</td>\n",
       "      <td>0.0</td>\n",
       "    </tr>\n",
       "    <tr>\n",
       "      <th>2023-04-20 00:00:00</th>\n",
       "      <td>0.002004</td>\n",
       "      <td>10.000000</td>\n",
       "      <td>0.0</td>\n",
       "    </tr>\n",
       "    <tr>\n",
       "      <th>2023-04-21 00:00:00</th>\n",
       "      <td>0.0</td>\n",
       "      <td>10.000000</td>\n",
       "      <td>0.0</td>\n",
       "    </tr>\n",
       "    <tr>\n",
       "      <th>2023-04-24 00:00:00</th>\n",
       "      <td>0.001</td>\n",
       "      <td>10.010000</td>\n",
       "      <td>0.0</td>\n",
       "    </tr>\n",
       "    <tr>\n",
       "      <th>Volume</th>\n",
       "      <td>Date\n",
       "2015-01-02    0\n",
       "2015-01-05    0\n",
       "2015-01-0...</td>\n",
       "      <td>NaN</td>\n",
       "      <td>NaN</td>\n",
       "    </tr>\n",
       "  </tbody>\n",
       "</table>\n",
       "<p>2092 rows × 3 columns</p>\n",
       "</div>"
      ],
      "text/plain": [
       "                                                         Daily Returns  \\\n",
       "Date                                                                     \n",
       "2015-01-02 00:00:00                                                NaN   \n",
       "2015-01-05 00:00:00                                           0.000953   \n",
       "2015-01-06 00:00:00                                           0.000952   \n",
       "2015-01-07 00:00:00                                           0.000952   \n",
       "2015-01-08 00:00:00                                          -0.000951   \n",
       "...                                                                ...   \n",
       "2023-04-19 00:00:00                                          -0.001001   \n",
       "2023-04-20 00:00:00                                           0.002004   \n",
       "2023-04-21 00:00:00                                                0.0   \n",
       "2023-04-24 00:00:00                                              0.001   \n",
       "Volume               Date\n",
       "2015-01-02    0\n",
       "2015-01-05    0\n",
       "2015-01-0...   \n",
       "\n",
       "                     Daily Price  Trading Volume  \n",
       "Date                                              \n",
       "2015-01-02 00:00:00     9.148488             0.0  \n",
       "2015-01-05 00:00:00     9.157207             0.0  \n",
       "2015-01-06 00:00:00     9.165925             0.0  \n",
       "2015-01-07 00:00:00     9.174647             0.0  \n",
       "2015-01-08 00:00:00     9.165925             0.0  \n",
       "...                          ...             ...  \n",
       "2023-04-19 00:00:00     9.980000             0.0  \n",
       "2023-04-20 00:00:00    10.000000             0.0  \n",
       "2023-04-21 00:00:00    10.000000             0.0  \n",
       "2023-04-24 00:00:00    10.010000             0.0  \n",
       "Volume                       NaN             NaN  \n",
       "\n",
       "[2092 rows x 3 columns]"
      ]
     },
     "execution_count": 14,
     "metadata": {},
     "output_type": "execute_result"
    }
   ],
   "source": [
    "stock_prices2 = yf.download('VBIRX', start=start, end=end)\n",
    "\n",
    "daily_returns2 = stock_prices2['Adj Close'].pct_change()\n",
    "daily_price2 = stock_prices2['Adj Close']\n",
    "daily_returns2['Volume'] = stock_prices2['Volume']\n",
    "\n",
    "Vbirx = pd.DataFrame({'Daily Returns': daily_returns2, 'Daily Price': daily_price2, 'Trading Volume': stock_prices2['Volume']})\n",
    "Vbirx"
   ]
  },
  {
   "cell_type": "markdown",
   "id": "04aa56e5-4eb9-42c0-959d-ef1d7fda62fe",
   "metadata": {},
   "source": [
    "# Cleaning and EDA"
   ]
  },
  {
   "cell_type": "code",
   "execution_count": 16,
   "id": "5024043a-c3d7-4944-b9b6-9c4dd098cb84",
   "metadata": {},
   "outputs": [],
   "source": [
    "import matplotlib.pyplot as plt\n",
    "import seaborn as sns"
   ]
  },
  {
   "cell_type": "markdown",
   "id": "5dd52904-40bd-4f65-97ec-e762ad1d1189",
   "metadata": {},
   "source": [
    "### FOMC Rates"
   ]
  },
  {
   "cell_type": "code",
   "execution_count": 17,
   "id": "a87801d1-e1b0-4161-b8dc-e7181e4454f2",
   "metadata": {},
   "outputs": [
    {
     "data": {
      "text/html": [
       "<style type=\"text/css\">\n",
       "</style>\n",
       "<table id=\"T_c8095\">\n",
       "  <thead>\n",
       "    <tr>\n",
       "      <th class=\"blank level0\" >&nbsp;</th>\n",
       "      <th id=\"T_c8095_level0_col0\" class=\"col_heading level0 col0\" >count</th>\n",
       "      <th id=\"T_c8095_level0_col1\" class=\"col_heading level0 col1\" >mean</th>\n",
       "      <th id=\"T_c8095_level0_col2\" class=\"col_heading level0 col2\" >std</th>\n",
       "      <th id=\"T_c8095_level0_col3\" class=\"col_heading level0 col3\" >min</th>\n",
       "      <th id=\"T_c8095_level0_col4\" class=\"col_heading level0 col4\" >25%</th>\n",
       "      <th id=\"T_c8095_level0_col5\" class=\"col_heading level0 col5\" >50%</th>\n",
       "      <th id=\"T_c8095_level0_col6\" class=\"col_heading level0 col6\" >75%</th>\n",
       "      <th id=\"T_c8095_level0_col7\" class=\"col_heading level0 col7\" >max</th>\n",
       "    </tr>\n",
       "  </thead>\n",
       "  <tbody>\n",
       "    <tr>\n",
       "      <th id=\"T_c8095_level0_row0\" class=\"row_heading level0 row0\" >Increase</th>\n",
       "      <td id=\"T_c8095_row0_col0\" class=\"data row0 col0\" >23.00</td>\n",
       "      <td id=\"T_c8095_row0_col1\" class=\"data row0 col1\" >30.43</td>\n",
       "      <td id=\"T_c8095_row0_col2\" class=\"data row0 col2\" >24.95</td>\n",
       "      <td id=\"T_c8095_row0_col3\" class=\"data row0 col3\" >0.00</td>\n",
       "      <td id=\"T_c8095_row0_col4\" class=\"data row0 col4\" >25.00</td>\n",
       "      <td id=\"T_c8095_row0_col5\" class=\"data row0 col5\" >25.00</td>\n",
       "      <td id=\"T_c8095_row0_col6\" class=\"data row0 col6\" >37.50</td>\n",
       "      <td id=\"T_c8095_row0_col7\" class=\"data row0 col7\" >75.00</td>\n",
       "    </tr>\n",
       "    <tr>\n",
       "      <th id=\"T_c8095_level0_row1\" class=\"row_heading level0 row1\" >Decrease</th>\n",
       "      <td id=\"T_c8095_row1_col0\" class=\"data row1 col0\" >23.00</td>\n",
       "      <td id=\"T_c8095_row1_col1\" class=\"data row1 col1\" >9.78</td>\n",
       "      <td id=\"T_c8095_row1_col2\" class=\"data row1 col2\" >23.52</td>\n",
       "      <td id=\"T_c8095_row1_col3\" class=\"data row1 col3\" >0.00</td>\n",
       "      <td id=\"T_c8095_row1_col4\" class=\"data row1 col4\" >0.00</td>\n",
       "      <td id=\"T_c8095_row1_col5\" class=\"data row1 col5\" >0.00</td>\n",
       "      <td id=\"T_c8095_row1_col6\" class=\"data row1 col6\" >0.00</td>\n",
       "      <td id=\"T_c8095_row1_col7\" class=\"data row1 col7\" >100.00</td>\n",
       "    </tr>\n",
       "  </tbody>\n",
       "</table>\n"
      ],
      "text/plain": [
       "<pandas.io.formats.style.Styler at 0x7f883b347a90>"
      ]
     },
     "execution_count": 17,
     "metadata": {},
     "output_type": "execute_result"
    }
   ],
   "source": [
    "rates.describe().T.style.format('{:,.2f}')"
   ]
  },
  {
   "cell_type": "code",
   "execution_count": 18,
   "id": "26f40007-f98a-4cbc-b051-2488e70377ec",
   "metadata": {},
   "outputs": [
    {
     "data": {
      "text/html": [
       "<style type=\"text/css\">\n",
       "</style>\n",
       "<table id=\"T_74ce0\">\n",
       "  <thead>\n",
       "    <tr>\n",
       "      <th class=\"blank level0\" >&nbsp;</th>\n",
       "      <th id=\"T_74ce0_level0_col0\" class=\"col_heading level0 col0\" >% missing</th>\n",
       "    </tr>\n",
       "  </thead>\n",
       "  <tbody>\n",
       "    <tr>\n",
       "      <th id=\"T_74ce0_level0_row0\" class=\"row_heading level0 row0\" >﻿Date</th>\n",
       "      <td id=\"T_74ce0_row0_col0\" class=\"data row0 col0\" >0.0</td>\n",
       "    </tr>\n",
       "    <tr>\n",
       "      <th id=\"T_74ce0_level0_row1\" class=\"row_heading level0 row1\" >Increase</th>\n",
       "      <td id=\"T_74ce0_row1_col0\" class=\"data row1 col0\" >0.0</td>\n",
       "    </tr>\n",
       "    <tr>\n",
       "      <th id=\"T_74ce0_level0_row2\" class=\"row_heading level0 row2\" >Decrease</th>\n",
       "      <td id=\"T_74ce0_row2_col0\" class=\"data row2 col0\" >0.0</td>\n",
       "    </tr>\n",
       "    <tr>\n",
       "      <th id=\"T_74ce0_level0_row3\" class=\"row_heading level0 row3\" >Tgt_level</th>\n",
       "      <td id=\"T_74ce0_row3_col0\" class=\"data row3 col0\" >0.0</td>\n",
       "    </tr>\n",
       "  </tbody>\n",
       "</table>\n"
      ],
      "text/plain": [
       "<pandas.io.formats.style.Styler at 0x7f883d342470>"
      ]
     },
     "execution_count": 18,
     "metadata": {},
     "output_type": "execute_result"
    }
   ],
   "source": [
    "# Missing values\n",
    "(\n",
    "    ( # these lines do the calculation - what % of missing values are there for each var\n",
    "        rates.isna()      \n",
    "       .sum(axis=0)     \n",
    "        /len(rates)       # convert # missing to % missing \n",
    "        *100            # report as percentage\n",
    "    ) \n",
    "    .sort_values(ascending=False)\n",
    "    .to_frame(name='% missing') \n",
    "    .style.format(\"{:.1f}\")     \n",
    ")"
   ]
  },
  {
   "cell_type": "code",
   "execution_count": 19,
   "id": "cb4db37c-e936-426c-a65b-7851bf42d8a7",
   "metadata": {},
   "outputs": [],
   "source": [
    "# Convert to numeric\n",
    "rates['Increase'] = pd.to_numeric(rates['Increase'])\n",
    "rates['Decrease'] = pd.to_numeric(rates['Decrease'])"
   ]
  },
  {
   "cell_type": "code",
   "execution_count": 20,
   "id": "dbf9d84c-1c04-453f-a84a-a89a2e0bf072",
   "metadata": {},
   "outputs": [],
   "source": [
    "# Making units consistent\n",
    "rates['Tgt_level'] = rates['Tgt_level'].apply(lambda x: x.replace('-', '.', 1))"
   ]
  },
  {
   "cell_type": "code",
   "execution_count": 21,
   "id": "456734c9-ed60-429c-9214-2e4f9d245d55",
   "metadata": {},
   "outputs": [
    {
     "name": "stdout",
     "output_type": "stream",
     "text": [
      "Yes, there are variables with large outliers. In the Increase column, the maximum value is 75.00, which is the 99th percentile. In the Decrease column, the maximum value is 100.00, which is also an outlier. It may be necessary to winsorize or drop those observations to prevent them from skewing the results.\n"
     ]
    }
   ],
   "source": [
    "# Outliers\n",
    "rates.describe(percentiles=[.01,.05,.95,.99]).T.style.format('{:,.2f}')\n",
    "print(\"Yes, there are variables with large outliers. In the Increase column, the maximum value is 75.00, which is the 99th percentile. In the Decrease column, the maximum value is 100.00, which is also an outlier. It may be necessary to winsorize or drop those observations to prevent them from skewing the results.\")"
   ]
  },
  {
   "cell_type": "code",
   "execution_count": 22,
   "id": "09cb1ada-df7e-4959-bd6c-f3369b7601ec",
   "metadata": {},
   "outputs": [
    {
     "name": "stdout",
     "output_type": "stream",
     "text": [
      "﻿Date        object\n",
      "Increase      int64\n",
      "Decrease      int64\n",
      "Tgt_level    object\n",
      "dtype: object\n"
     ]
    }
   ],
   "source": [
    "#Exploring dataset \n",
    "print(rates.dtypes)"
   ]
  },
  {
   "cell_type": "code",
   "execution_count": 23,
   "id": "9992e536-9140-4ef8-acb9-018398efedb8",
   "metadata": {},
   "outputs": [
    {
     "data": {
      "image/png": "[encoded data removed]",
      "text/plain": [
       "<Figure size 500x500 with 6 Axes>"
      ]
     },
     "metadata": {},
     "output_type": "display_data"
    }
   ],
   "source": [
    "sns.pairplot(rates)\n",
    "plt.show()"
   ]
  },
  {
   "cell_type": "markdown",
   "id": "fd6fe3c3-93c7-4eb8-82da-b9cd024ff925",
   "metadata": {},
   "source": [
    "### Index Returns"
   ]
  },
  {
   "cell_type": "code",
   "execution_count": 24,
   "id": "2f45adec-9094-4767-95c2-dfe0f0d95d56",
   "metadata": {},
   "outputs": [
    {
     "data": {
      "text/html": [
       "<style type=\"text/css\">\n",
       "</style>\n",
       "<table id=\"T_8a6c9\">\n",
       "  <thead>\n",
       "    <tr>\n",
       "      <th class=\"blank level0\" >&nbsp;</th>\n",
       "      <th id=\"T_8a6c9_level0_col0\" class=\"col_heading level0 col0\" >count</th>\n",
       "      <th id=\"T_8a6c9_level0_col1\" class=\"col_heading level0 col1\" >mean</th>\n",
       "      <th id=\"T_8a6c9_level0_col2\" class=\"col_heading level0 col2\" >std</th>\n",
       "      <th id=\"T_8a6c9_level0_col3\" class=\"col_heading level0 col3\" >min</th>\n",
       "      <th id=\"T_8a6c9_level0_col4\" class=\"col_heading level0 col4\" >25%</th>\n",
       "      <th id=\"T_8a6c9_level0_col5\" class=\"col_heading level0 col5\" >50%</th>\n",
       "      <th id=\"T_8a6c9_level0_col6\" class=\"col_heading level0 col6\" >75%</th>\n",
       "      <th id=\"T_8a6c9_level0_col7\" class=\"col_heading level0 col7\" >max</th>\n",
       "    </tr>\n",
       "  </thead>\n",
       "  <tbody>\n",
       "    <tr>\n",
       "      <th id=\"T_8a6c9_level0_row0\" class=\"row_heading level0 row0\" >S&P_500</th>\n",
       "      <td id=\"T_8a6c9_row0_col0\" class=\"data row0 col0\" >2,092.00</td>\n",
       "      <td id=\"T_8a6c9_row0_col1\" class=\"data row0 col1\" >3,020.61</td>\n",
       "      <td id=\"T_8a6c9_row0_col2\" class=\"data row0 col2\" >821.31</td>\n",
       "      <td id=\"T_8a6c9_row0_col3\" class=\"data row0 col3\" >1,829.08</td>\n",
       "      <td id=\"T_8a6c9_row0_col4\" class=\"data row0 col4\" >2,280.89</td>\n",
       "      <td id=\"T_8a6c9_row0_col5\" class=\"data row0 col5\" >2,823.48</td>\n",
       "      <td id=\"T_8a6c9_row0_col6\" class=\"data row0 col6\" >3,810.17</td>\n",
       "      <td id=\"T_8a6c9_row0_col7\" class=\"data row0 col7\" >4,796.56</td>\n",
       "    </tr>\n",
       "  </tbody>\n",
       "</table>\n"
      ],
      "text/plain": [
       "<pandas.io.formats.style.Styler at 0x7f88499181f0>"
      ]
     },
     "execution_count": 24,
     "metadata": {},
     "output_type": "execute_result"
    }
   ],
   "source": [
    "sp500_ret.describe().T.style.format('{:,.2f}')"
   ]
  },
  {
   "cell_type": "code",
   "execution_count": 25,
   "id": "ed76f70a-a365-4e4c-9f66-1f024295fbd5",
   "metadata": {},
   "outputs": [
    {
     "data": {
      "text/html": [
       "<style type=\"text/css\">\n",
       "</style>\n",
       "<table id=\"T_a7882\">\n",
       "  <thead>\n",
       "    <tr>\n",
       "      <th class=\"blank level0\" >&nbsp;</th>\n",
       "      <th id=\"T_a7882_level0_col0\" class=\"col_heading level0 col0\" >% missing</th>\n",
       "    </tr>\n",
       "  </thead>\n",
       "  <tbody>\n",
       "    <tr>\n",
       "      <th id=\"T_a7882_level0_row0\" class=\"row_heading level0 row0\" >Effective_date </th>\n",
       "      <td id=\"T_a7882_row0_col0\" class=\"data row0 col0\" >0.0</td>\n",
       "    </tr>\n",
       "    <tr>\n",
       "      <th id=\"T_a7882_level0_row1\" class=\"row_heading level0 row1\" >S&P_500</th>\n",
       "      <td id=\"T_a7882_row1_col0\" class=\"data row1 col0\" >0.0</td>\n",
       "    </tr>\n",
       "  </tbody>\n",
       "</table>\n"
      ],
      "text/plain": [
       "<pandas.io.formats.style.Styler at 0x7f884997e2c0>"
      ]
     },
     "execution_count": 25,
     "metadata": {},
     "output_type": "execute_result"
    }
   ],
   "source": [
    "# Missing values\n",
    "(\n",
    "    ( # these lines do the calculation - what % of missing values are there for each var\n",
    "        sp500_ret.isna()      \n",
    "       .sum(axis=0)     \n",
    "        /len(sp500_ret)       # convert # missing to % missing \n",
    "        *100            # report as percentage\n",
    "    ) \n",
    "    .sort_values(ascending=False)\n",
    "    .to_frame(name='% missing') \n",
    "    .style.format(\"{:.1f}\")     \n",
    ")"
   ]
  },
  {
   "cell_type": "code",
   "execution_count": 26,
   "id": "a8f33937-e036-45f7-b03c-bb8d90b58df3",
   "metadata": {},
   "outputs": [
    {
     "name": "stdout",
     "output_type": "stream",
     "text": [
      "Effective_date      object\n",
      "S&P_500            float64\n",
      "dtype: object\n"
     ]
    }
   ],
   "source": [
    "#Exploring dataset \n",
    "print(sp500_ret.dtypes)"
   ]
  },
  {
   "cell_type": "code",
   "execution_count": 27,
   "id": "1d1e85e0-a2e6-460a-9518-bf31a2e58e56",
   "metadata": {},
   "outputs": [
    {
     "data": {
      "image/png": "[encoded data removed]",
      "text/plain": [
       "<Figure size 250x250 with 2 Axes>"
      ]
     },
     "metadata": {},
     "output_type": "display_data"
    }
   ],
   "source": [
    "sns.pairplot(sp500_ret)\n",
    "plt.show()"
   ]
  },
  {
   "cell_type": "markdown",
   "id": "82f0d945-b9aa-46b1-a01f-8912caeb234a",
   "metadata": {},
   "source": [
    "### Stock Trading Volume"
   ]
  },
  {
   "cell_type": "code",
   "execution_count": null,
   "id": "0e2e3398-da87-4ca7-aec1-13b8265a65c2",
   "metadata": {},
   "outputs": [],
   "source": [
    "#stock_tv.describe().T.style.format('{:,.2f}')"
   ]
  },
  {
   "cell_type": "code",
   "execution_count": 28,
   "id": "81285d50-6cbb-4dbd-a076-beec9e876764",
   "metadata": {},
   "outputs": [
    {
     "data": {
      "text/html": [
       "<style type=\"text/css\">\n",
       "</style>\n",
       "<table id=\"T_3ffe4\">\n",
       "  <thead>\n",
       "    <tr>\n",
       "      <th class=\"blank level0\" >&nbsp;</th>\n",
       "      <th id=\"T_3ffe4_level0_col0\" class=\"col_heading level0 col0\" >% missing</th>\n",
       "    </tr>\n",
       "  </thead>\n",
       "  <tbody>\n",
       "    <tr>\n",
       "      <th id=\"T_3ffe4_level0_row0\" class=\"row_heading level0 row0\" >Date</th>\n",
       "      <td id=\"T_3ffe4_row0_col0\" class=\"data row0 col0\" >0.0</td>\n",
       "    </tr>\n",
       "    <tr>\n",
       "      <th id=\"T_3ffe4_level0_row1\" class=\"row_heading level0 row1\" >Value</th>\n",
       "      <td id=\"T_3ffe4_row1_col0\" class=\"data row1 col0\" >0.0</td>\n",
       "    </tr>\n",
       "  </tbody>\n",
       "</table>\n"
      ],
      "text/plain": [
       "<pandas.io.formats.style.Styler at 0x7f882a231300>"
      ]
     },
     "execution_count": 28,
     "metadata": {},
     "output_type": "execute_result"
    }
   ],
   "source": [
    "# Missing values\n",
    "(\n",
    "    ( # these lines do the calculation - what % of missing values are there for each var\n",
    "        stock_tv.isna()      \n",
    "       .sum(axis=0)     \n",
    "        /len(stock_tv)       # convert # missing to % missing \n",
    "        *100            # report as percentage\n",
    "    ) \n",
    "    .sort_values(ascending=False)\n",
    "    .to_frame(name='% missing') \n",
    "    .style.format(\"{:.1f}\")     \n",
    ")"
   ]
  },
  {
   "cell_type": "code",
   "execution_count": 29,
   "id": "565c5cc8-6bf9-4252-9cb7-26f718bec682",
   "metadata": {},
   "outputs": [
    {
     "name": "stdout",
     "output_type": "stream",
     "text": [
      "Date     object\n",
      "Value    object\n",
      "dtype: object\n"
     ]
    }
   ],
   "source": [
    "#Exploring dataset \n",
    "print(stock_tv.dtypes)"
   ]
  },
  {
   "cell_type": "code",
   "execution_count": 31,
   "id": "4b53e0b6-60dc-4982-b7d0-5f54bc40a722",
   "metadata": {},
   "outputs": [],
   "source": [
    "#sns.pairplot(stock_tv)\n",
    "#plt.show()"
   ]
  },
  {
   "cell_type": "markdown",
   "id": "dfd2e946-1789-42f8-ad04-7e1025513698",
   "metadata": {},
   "source": [
    "### Clean VBLAX data"
   ]
  },
  {
   "cell_type": "code",
   "execution_count": 32,
   "id": "aa4a8f59-1c2f-4875-b44a-db956ca81257",
   "metadata": {},
   "outputs": [
    {
     "data": {
      "text/html": [
       "<style type=\"text/css\">\n",
       "</style>\n",
       "<table id=\"T_71b4b\">\n",
       "  <thead>\n",
       "    <tr>\n",
       "      <th class=\"blank level0\" >&nbsp;</th>\n",
       "      <th id=\"T_71b4b_level0_col0\" class=\"col_heading level0 col0\" >count</th>\n",
       "      <th id=\"T_71b4b_level0_col1\" class=\"col_heading level0 col1\" >mean</th>\n",
       "      <th id=\"T_71b4b_level0_col2\" class=\"col_heading level0 col2\" >std</th>\n",
       "      <th id=\"T_71b4b_level0_col3\" class=\"col_heading level0 col3\" >min</th>\n",
       "      <th id=\"T_71b4b_level0_col4\" class=\"col_heading level0 col4\" >25%</th>\n",
       "      <th id=\"T_71b4b_level0_col5\" class=\"col_heading level0 col5\" >50%</th>\n",
       "      <th id=\"T_71b4b_level0_col6\" class=\"col_heading level0 col6\" >75%</th>\n",
       "      <th id=\"T_71b4b_level0_col7\" class=\"col_heading level0 col7\" >max</th>\n",
       "    </tr>\n",
       "  </thead>\n",
       "  <tbody>\n",
       "    <tr>\n",
       "      <th id=\"T_71b4b_level0_row0\" class=\"row_heading level0 row0\" >Daily Price</th>\n",
       "      <td id=\"T_71b4b_row0_col0\" class=\"data row0 col0\" >1,060.00</td>\n",
       "      <td id=\"T_71b4b_row0_col1\" class=\"data row0 col1\" >13.40</td>\n",
       "      <td id=\"T_71b4b_row0_col2\" class=\"data row0 col2\" >1.51</td>\n",
       "      <td id=\"T_71b4b_row0_col3\" class=\"data row0 col3\" >9.93</td>\n",
       "      <td id=\"T_71b4b_row0_col4\" class=\"data row0 col4\" >11.86</td>\n",
       "      <td id=\"T_71b4b_row0_col5\" class=\"data row0 col5\" >13.65</td>\n",
       "      <td id=\"T_71b4b_row0_col6\" class=\"data row0 col6\" >14.83</td>\n",
       "      <td id=\"T_71b4b_row0_col7\" class=\"data row0 col7\" >15.84</td>\n",
       "    </tr>\n",
       "    <tr>\n",
       "      <th id=\"T_71b4b_level0_row1\" class=\"row_heading level0 row1\" >Trading Volume</th>\n",
       "      <td id=\"T_71b4b_row1_col0\" class=\"data row1 col0\" >1,060.00</td>\n",
       "      <td id=\"T_71b4b_row1_col1\" class=\"data row1 col1\" >0.00</td>\n",
       "      <td id=\"T_71b4b_row1_col2\" class=\"data row1 col2\" >0.00</td>\n",
       "      <td id=\"T_71b4b_row1_col3\" class=\"data row1 col3\" >0.00</td>\n",
       "      <td id=\"T_71b4b_row1_col4\" class=\"data row1 col4\" >0.00</td>\n",
       "      <td id=\"T_71b4b_row1_col5\" class=\"data row1 col5\" >0.00</td>\n",
       "      <td id=\"T_71b4b_row1_col6\" class=\"data row1 col6\" >0.00</td>\n",
       "      <td id=\"T_71b4b_row1_col7\" class=\"data row1 col7\" >0.00</td>\n",
       "    </tr>\n",
       "  </tbody>\n",
       "</table>\n"
      ],
      "text/plain": [
       "<pandas.io.formats.style.Styler at 0x7f8849918820>"
      ]
     },
     "execution_count": 32,
     "metadata": {},
     "output_type": "execute_result"
    }
   ],
   "source": [
    "Vblax.describe().T.style.format('{:,.2f}')"
   ]
  },
  {
   "cell_type": "code",
   "execution_count": 33,
   "id": "2ab54bcf-d222-4695-8d28-8b2a3337a564",
   "metadata": {},
   "outputs": [
    {
     "data": {
      "text/html": [
       "<style type=\"text/css\">\n",
       "</style>\n",
       "<table id=\"T_79665\">\n",
       "  <thead>\n",
       "    <tr>\n",
       "      <th class=\"blank level0\" >&nbsp;</th>\n",
       "      <th id=\"T_79665_level0_col0\" class=\"col_heading level0 col0\" >% missing</th>\n",
       "    </tr>\n",
       "  </thead>\n",
       "  <tbody>\n",
       "    <tr>\n",
       "      <th id=\"T_79665_level0_row0\" class=\"row_heading level0 row0\" >Daily Returns</th>\n",
       "      <td id=\"T_79665_row0_col0\" class=\"data row0 col0\" >0.1</td>\n",
       "    </tr>\n",
       "    <tr>\n",
       "      <th id=\"T_79665_level0_row1\" class=\"row_heading level0 row1\" >Daily Price</th>\n",
       "      <td id=\"T_79665_row1_col0\" class=\"data row1 col0\" >0.1</td>\n",
       "    </tr>\n",
       "    <tr>\n",
       "      <th id=\"T_79665_level0_row2\" class=\"row_heading level0 row2\" >Trading Volume</th>\n",
       "      <td id=\"T_79665_row2_col0\" class=\"data row2 col0\" >0.1</td>\n",
       "    </tr>\n",
       "  </tbody>\n",
       "</table>\n"
      ],
      "text/plain": [
       "<pandas.io.formats.style.Styler at 0x7f884997d7b0>"
      ]
     },
     "execution_count": 33,
     "metadata": {},
     "output_type": "execute_result"
    }
   ],
   "source": [
    "# Missing values\n",
    "(\n",
    "    ( # these lines do the calculation - what % of missing values are there for each var\n",
    "        Vblax.isna()      \n",
    "       .sum(axis=0)     \n",
    "        /len(Vblax)       # convert # missing to % missing \n",
    "        *100            # report as percentage\n",
    "    ) \n",
    "    .sort_values(ascending=False)\n",
    "    .to_frame(name='% missing') \n",
    "    .style.format(\"{:.1f}\")     \n",
    ")"
   ]
  },
  {
   "cell_type": "code",
   "execution_count": 34,
   "id": "4a1ba462-efa3-4709-844b-bea17c30ecf6",
   "metadata": {},
   "outputs": [
    {
     "name": "stdout",
     "output_type": "stream",
     "text": [
      "Daily Returns      object\n",
      "Daily Price       float64\n",
      "Trading Volume    float64\n",
      "dtype: object\n"
     ]
    }
   ],
   "source": [
    "#Exploring dataset \n",
    "print(Vblax.dtypes)"
   ]
  },
  {
   "cell_type": "code",
   "execution_count": null,
   "id": "00b1646b-2f95-48dd-b3ed-8dd48ccd489c",
   "metadata": {},
   "outputs": [],
   "source": []
  },
  {
   "cell_type": "markdown",
   "id": "c805078b-1367-4f20-b165-fda945af5c62",
   "metadata": {},
   "source": [
    "### Clean VBIRX data"
   ]
  },
  {
   "cell_type": "code",
   "execution_count": 35,
   "id": "4a8d51c1-432b-4c31-8af4-af044419f174",
   "metadata": {},
   "outputs": [
    {
     "data": {
      "text/html": [
       "<style type=\"text/css\">\n",
       "</style>\n",
       "<table id=\"T_1ac51\">\n",
       "  <thead>\n",
       "    <tr>\n",
       "      <th class=\"blank level0\" >&nbsp;</th>\n",
       "      <th id=\"T_1ac51_level0_col0\" class=\"col_heading level0 col0\" >count</th>\n",
       "      <th id=\"T_1ac51_level0_col1\" class=\"col_heading level0 col1\" >mean</th>\n",
       "      <th id=\"T_1ac51_level0_col2\" class=\"col_heading level0 col2\" >std</th>\n",
       "      <th id=\"T_1ac51_level0_col3\" class=\"col_heading level0 col3\" >min</th>\n",
       "      <th id=\"T_1ac51_level0_col4\" class=\"col_heading level0 col4\" >25%</th>\n",
       "      <th id=\"T_1ac51_level0_col5\" class=\"col_heading level0 col5\" >50%</th>\n",
       "      <th id=\"T_1ac51_level0_col6\" class=\"col_heading level0 col6\" >75%</th>\n",
       "      <th id=\"T_1ac51_level0_col7\" class=\"col_heading level0 col7\" >max</th>\n",
       "    </tr>\n",
       "  </thead>\n",
       "  <tbody>\n",
       "    <tr>\n",
       "      <th id=\"T_1ac51_level0_row0\" class=\"row_heading level0 row0\" >Daily Price</th>\n",
       "      <td id=\"T_1ac51_row0_col0\" class=\"data row0 col0\" >2,091.00</td>\n",
       "      <td id=\"T_1ac51_row0_col1\" class=\"data row0 col1\" >9.78</td>\n",
       "      <td id=\"T_1ac51_row0_col2\" class=\"data row0 col2\" >0.45</td>\n",
       "      <td id=\"T_1ac51_row0_col3\" class=\"data row0 col3\" >9.15</td>\n",
       "      <td id=\"T_1ac51_row0_col4\" class=\"data row0 col4\" >9.40</td>\n",
       "      <td id=\"T_1ac51_row0_col5\" class=\"data row0 col5\" >9.65</td>\n",
       "      <td id=\"T_1ac51_row0_col6\" class=\"data row0 col6\" >10.14</td>\n",
       "      <td id=\"T_1ac51_row0_col7\" class=\"data row0 col7\" >10.55</td>\n",
       "    </tr>\n",
       "    <tr>\n",
       "      <th id=\"T_1ac51_level0_row1\" class=\"row_heading level0 row1\" >Trading Volume</th>\n",
       "      <td id=\"T_1ac51_row1_col0\" class=\"data row1 col0\" >2,091.00</td>\n",
       "      <td id=\"T_1ac51_row1_col1\" class=\"data row1 col1\" >0.00</td>\n",
       "      <td id=\"T_1ac51_row1_col2\" class=\"data row1 col2\" >0.00</td>\n",
       "      <td id=\"T_1ac51_row1_col3\" class=\"data row1 col3\" >0.00</td>\n",
       "      <td id=\"T_1ac51_row1_col4\" class=\"data row1 col4\" >0.00</td>\n",
       "      <td id=\"T_1ac51_row1_col5\" class=\"data row1 col5\" >0.00</td>\n",
       "      <td id=\"T_1ac51_row1_col6\" class=\"data row1 col6\" >0.00</td>\n",
       "      <td id=\"T_1ac51_row1_col7\" class=\"data row1 col7\" >0.00</td>\n",
       "    </tr>\n",
       "  </tbody>\n",
       "</table>\n"
      ],
      "text/plain": [
       "<pandas.io.formats.style.Styler at 0x7f88497e7d90>"
      ]
     },
     "execution_count": 35,
     "metadata": {},
     "output_type": "execute_result"
    }
   ],
   "source": [
    "Vbirx.describe().T.style.format('{:,.2f}')"
   ]
  },
  {
   "cell_type": "code",
   "execution_count": 36,
   "id": "53bad8d3-0e3e-4073-ac91-6d0c78e3c7b5",
   "metadata": {},
   "outputs": [
    {
     "data": {
      "text/html": [
       "<style type=\"text/css\">\n",
       "</style>\n",
       "<table id=\"T_67a0b\">\n",
       "  <thead>\n",
       "    <tr>\n",
       "      <th class=\"blank level0\" >&nbsp;</th>\n",
       "      <th id=\"T_67a0b_level0_col0\" class=\"col_heading level0 col0\" >% missing</th>\n",
       "    </tr>\n",
       "  </thead>\n",
       "  <tbody>\n",
       "    <tr>\n",
       "      <th id=\"T_67a0b_level0_row0\" class=\"row_heading level0 row0\" >Daily Returns</th>\n",
       "      <td id=\"T_67a0b_row0_col0\" class=\"data row0 col0\" >0.0</td>\n",
       "    </tr>\n",
       "    <tr>\n",
       "      <th id=\"T_67a0b_level0_row1\" class=\"row_heading level0 row1\" >Daily Price</th>\n",
       "      <td id=\"T_67a0b_row1_col0\" class=\"data row1 col0\" >0.0</td>\n",
       "    </tr>\n",
       "    <tr>\n",
       "      <th id=\"T_67a0b_level0_row2\" class=\"row_heading level0 row2\" >Trading Volume</th>\n",
       "      <td id=\"T_67a0b_row2_col0\" class=\"data row2 col0\" >0.0</td>\n",
       "    </tr>\n",
       "  </tbody>\n",
       "</table>\n"
      ],
      "text/plain": [
       "<pandas.io.formats.style.Styler at 0x7f883a55fac0>"
      ]
     },
     "execution_count": 36,
     "metadata": {},
     "output_type": "execute_result"
    }
   ],
   "source": [
    "# Missing values\n",
    "(\n",
    "    ( # these lines do the calculation - what % of missing values are there for each var\n",
    "        Vbirx.isna()      \n",
    "       .sum(axis=0)     \n",
    "        /len(Vbirx)       # convert # missing to % missing \n",
    "        *100            # report as percentage\n",
    "    ) \n",
    "    .sort_values(ascending=False)\n",
    "    .to_frame(name='% missing') \n",
    "    .style.format(\"{:.1f}\")     \n",
    ")"
   ]
  },
  {
   "cell_type": "code",
   "execution_count": 37,
   "id": "bfa88d7c-8b7f-45c4-9bb1-7273f4d5a118",
   "metadata": {},
   "outputs": [
    {
     "name": "stdout",
     "output_type": "stream",
     "text": [
      "Daily Returns      object\n",
      "Daily Price       float64\n",
      "Trading Volume    float64\n",
      "dtype: object\n"
     ]
    }
   ],
   "source": [
    "#Exploring dataset \n",
    "print(Vbirx.dtypes)"
   ]
  },
  {
   "cell_type": "code",
   "execution_count": null,
   "id": "55cc6e16-ec9b-4da1-8ead-72503f7dae46",
   "metadata": {},
   "outputs": [],
   "source": []
  }
 ],
 "metadata": {
  "kernelspec": {
   "display_name": "Python 3 (ipykernel)",
   "language": "python",
   "name": "python3"
  },
  "language_info": {
   "codemirror_mode": {
    "name": "ipython",
    "version": 3
   },
   "file_extension": ".py",
   "mimetype": "text/x-python",
   "name": "python",
   "nbconvert_exporter": "python",
   "pygments_lexer": "ipython3",
   "version": "3.10.9"
  }
 },
 "nbformat": 4,
 "nbformat_minor": 5
}
