{
 "cells": [
  {
   "cell_type": "markdown",
   "id": "73a497d6-dd57-4716-b081-2d144dc89d11",
   "metadata": {},
   "source": [
    "# Load Data"
   ]
  },
  {
   "cell_type": "code",
   "execution_count": 1,
   "id": "d2b3880b-7da3-48b2-8089-2a9dc93025ab",
   "metadata": {},
   "outputs": [],
   "source": [
    "import pandas as pd\n",
    "import numpy as np"
   ]
  },
  {
   "cell_type": "markdown",
   "id": "65ecacec-879e-4f31-afd4-937bdd4d90f0",
   "metadata": {},
   "source": [
    "### FOMC Rates"
   ]
  },
  {
   "cell_type": "code",
   "execution_count": 2,
   "id": "29a9ce5f-dca1-4fa9-82e7-81868d9c26b1",
   "metadata": {},
   "outputs": [],
   "source": [
    "rates = pd.read_csv('inputs/FOMC_rates.csv')"
   ]
  },
  {
   "cell_type": "code",
   "execution_count": 3,
   "id": "0241b7d3-c206-4fc3-82f4-2633ec6220eb",
   "metadata": {},
   "outputs": [
    {
     "data": {
      "text/html": [
       "<div>\n",
       "<style scoped>\n",
       "    .dataframe tbody tr th:only-of-type {\n",
       "        vertical-align: middle;\n",
       "    }\n",
       "\n",
       "    .dataframe tbody tr th {\n",
       "        vertical-align: top;\n",
       "    }\n",
       "\n",
       "    .dataframe thead th {\n",
       "        text-align: right;\n",
       "    }\n",
       "</style>\n",
       "<table border=\"1\" class=\"dataframe\">\n",
       "  <thead>\n",
       "    <tr style=\"text-align: right;\">\n",
       "      <th></th>\n",
       "      <th>﻿Date</th>\n",
       "      <th>Increase</th>\n",
       "      <th>Decrease</th>\n",
       "      <th>Tgt_level</th>\n",
       "    </tr>\n",
       "  </thead>\n",
       "  <tbody>\n",
       "    <tr>\n",
       "      <th>0</th>\n",
       "      <td>12/17/15</td>\n",
       "      <td>25</td>\n",
       "      <td>0</td>\n",
       "      <td>0.25-0.50</td>\n",
       "    </tr>\n",
       "    <tr>\n",
       "      <th>1</th>\n",
       "      <td>12/15/16</td>\n",
       "      <td>25</td>\n",
       "      <td>0</td>\n",
       "      <td>0.50-0.75</td>\n",
       "    </tr>\n",
       "    <tr>\n",
       "      <th>2</th>\n",
       "      <td>3/16/17</td>\n",
       "      <td>25</td>\n",
       "      <td>0</td>\n",
       "      <td>0.75-1.00</td>\n",
       "    </tr>\n",
       "    <tr>\n",
       "      <th>3</th>\n",
       "      <td>6/15/17</td>\n",
       "      <td>25</td>\n",
       "      <td>0</td>\n",
       "      <td>1.00-1.25</td>\n",
       "    </tr>\n",
       "    <tr>\n",
       "      <th>4</th>\n",
       "      <td>12/14/17</td>\n",
       "      <td>25</td>\n",
       "      <td>0</td>\n",
       "      <td>1.25-1.50</td>\n",
       "    </tr>\n",
       "    <tr>\n",
       "      <th>5</th>\n",
       "      <td>3/22/18</td>\n",
       "      <td>25</td>\n",
       "      <td>0</td>\n",
       "      <td>1.50-1.75</td>\n",
       "    </tr>\n",
       "    <tr>\n",
       "      <th>6</th>\n",
       "      <td>6/14/18</td>\n",
       "      <td>25</td>\n",
       "      <td>0</td>\n",
       "      <td>1.75-2.00</td>\n",
       "    </tr>\n",
       "    <tr>\n",
       "      <th>7</th>\n",
       "      <td>9/27/18</td>\n",
       "      <td>25</td>\n",
       "      <td>0</td>\n",
       "      <td>2.00-2.25</td>\n",
       "    </tr>\n",
       "    <tr>\n",
       "      <th>8</th>\n",
       "      <td>12/20/18</td>\n",
       "      <td>25</td>\n",
       "      <td>0</td>\n",
       "      <td>2.25-2.50</td>\n",
       "    </tr>\n",
       "    <tr>\n",
       "      <th>9</th>\n",
       "      <td>8/1/19</td>\n",
       "      <td>0</td>\n",
       "      <td>25</td>\n",
       "      <td>2.00-2.25</td>\n",
       "    </tr>\n",
       "    <tr>\n",
       "      <th>10</th>\n",
       "      <td>9/19/19</td>\n",
       "      <td>0</td>\n",
       "      <td>25</td>\n",
       "      <td>1.75-2.00</td>\n",
       "    </tr>\n",
       "    <tr>\n",
       "      <th>11</th>\n",
       "      <td>10/31/19</td>\n",
       "      <td>0</td>\n",
       "      <td>25</td>\n",
       "      <td>1.50-1.75</td>\n",
       "    </tr>\n",
       "    <tr>\n",
       "      <th>12</th>\n",
       "      <td>3/3/20</td>\n",
       "      <td>0</td>\n",
       "      <td>50</td>\n",
       "      <td>1.00-1.25</td>\n",
       "    </tr>\n",
       "    <tr>\n",
       "      <th>13</th>\n",
       "      <td>3/16/20</td>\n",
       "      <td>0</td>\n",
       "      <td>100</td>\n",
       "      <td>0-0.25</td>\n",
       "    </tr>\n",
       "    <tr>\n",
       "      <th>14</th>\n",
       "      <td>3/17/22</td>\n",
       "      <td>25</td>\n",
       "      <td>0</td>\n",
       "      <td>0.25-0.50</td>\n",
       "    </tr>\n",
       "    <tr>\n",
       "      <th>15</th>\n",
       "      <td>5/5/22</td>\n",
       "      <td>50</td>\n",
       "      <td>0</td>\n",
       "      <td>0.75-1.00</td>\n",
       "    </tr>\n",
       "    <tr>\n",
       "      <th>16</th>\n",
       "      <td>6/16/22</td>\n",
       "      <td>75</td>\n",
       "      <td>0</td>\n",
       "      <td>1.50-1.75</td>\n",
       "    </tr>\n",
       "    <tr>\n",
       "      <th>17</th>\n",
       "      <td>7/28/22</td>\n",
       "      <td>75</td>\n",
       "      <td>0</td>\n",
       "      <td>2.25-2.50</td>\n",
       "    </tr>\n",
       "    <tr>\n",
       "      <th>18</th>\n",
       "      <td>9/22/22</td>\n",
       "      <td>75</td>\n",
       "      <td>0</td>\n",
       "      <td>3.00-3.25</td>\n",
       "    </tr>\n",
       "    <tr>\n",
       "      <th>19</th>\n",
       "      <td>11/3/22</td>\n",
       "      <td>75</td>\n",
       "      <td>0</td>\n",
       "      <td>3.75-4.00</td>\n",
       "    </tr>\n",
       "    <tr>\n",
       "      <th>20</th>\n",
       "      <td>12/15/22</td>\n",
       "      <td>50</td>\n",
       "      <td>0</td>\n",
       "      <td>4.25-4.50</td>\n",
       "    </tr>\n",
       "    <tr>\n",
       "      <th>21</th>\n",
       "      <td>2/2/23</td>\n",
       "      <td>25</td>\n",
       "      <td>0</td>\n",
       "      <td>4.50-4.75</td>\n",
       "    </tr>\n",
       "    <tr>\n",
       "      <th>22</th>\n",
       "      <td>3/23/23</td>\n",
       "      <td>25</td>\n",
       "      <td>0</td>\n",
       "      <td>4.75-5.00</td>\n",
       "    </tr>\n",
       "  </tbody>\n",
       "</table>\n",
       "</div>"
      ],
      "text/plain": [
       "       ﻿Date  Increase  Decrease  Tgt_level\n",
       "0   12/17/15        25         0  0.25-0.50\n",
       "1   12/15/16        25         0  0.50-0.75\n",
       "2    3/16/17        25         0  0.75-1.00\n",
       "3    6/15/17        25         0  1.00-1.25\n",
       "4   12/14/17        25         0  1.25-1.50\n",
       "5    3/22/18        25         0  1.50-1.75\n",
       "6    6/14/18        25         0  1.75-2.00\n",
       "7    9/27/18        25         0  2.00-2.25\n",
       "8   12/20/18        25         0  2.25-2.50\n",
       "9     8/1/19         0        25  2.00-2.25\n",
       "10   9/19/19         0        25  1.75-2.00\n",
       "11  10/31/19         0        25  1.50-1.75\n",
       "12    3/3/20         0        50  1.00-1.25\n",
       "13   3/16/20         0       100     0-0.25\n",
       "14   3/17/22        25         0  0.25-0.50\n",
       "15    5/5/22        50         0  0.75-1.00\n",
       "16   6/16/22        75         0  1.50-1.75\n",
       "17   7/28/22        75         0  2.25-2.50\n",
       "18   9/22/22        75         0  3.00-3.25\n",
       "19   11/3/22        75         0  3.75-4.00\n",
       "20  12/15/22        50         0  4.25-4.50\n",
       "21    2/2/23        25         0  4.50-4.75\n",
       "22   3/23/23        25         0  4.75-5.00"
      ]
     },
     "execution_count": 3,
     "metadata": {},
     "output_type": "execute_result"
    }
   ],
   "source": [
    "rates"
   ]
  },
  {
   "cell_type": "markdown",
   "id": "688d33a3-9da6-4420-8179-b9ae395f7885",
   "metadata": {},
   "source": [
    "Source: https://www.federalreserve.gov/monetarypolicy/openmarket.htm"
   ]
  },
  {
   "cell_type": "markdown",
   "id": "767634b6-f556-43ba-b2c6-7cfb5312d5ba",
   "metadata": {},
   "source": [
    "### Index Returns"
   ]
  },
  {
   "cell_type": "code",
   "execution_count": 4,
   "id": "8539cb80-3965-4e55-ae7c-023183450cde",
   "metadata": {},
   "outputs": [],
   "source": [
    "sp500_ret = pd.read_csv('inputs/SP500_ret.csv')"
   ]
  },
  {
   "cell_type": "code",
   "execution_count": 5,
   "id": "a0e188fa-1f9d-4e83-b705-68d8fe7c1c5d",
   "metadata": {},
   "outputs": [
    {
     "data": {
      "text/html": [
       "<div>\n",
       "<style scoped>\n",
       "    .dataframe tbody tr th:only-of-type {\n",
       "        vertical-align: middle;\n",
       "    }\n",
       "\n",
       "    .dataframe tbody tr th {\n",
       "        vertical-align: top;\n",
       "    }\n",
       "\n",
       "    .dataframe thead th {\n",
       "        text-align: right;\n",
       "    }\n",
       "</style>\n",
       "<table border=\"1\" class=\"dataframe\">\n",
       "  <thead>\n",
       "    <tr style=\"text-align: right;\">\n",
       "      <th></th>\n",
       "      <th>Effective_date</th>\n",
       "      <th>S&amp;P_500</th>\n",
       "    </tr>\n",
       "  </thead>\n",
       "  <tbody>\n",
       "    <tr>\n",
       "      <th>0</th>\n",
       "      <td>1/2/15</td>\n",
       "      <td>2058.20</td>\n",
       "    </tr>\n",
       "    <tr>\n",
       "      <th>1</th>\n",
       "      <td>1/5/15</td>\n",
       "      <td>2020.58</td>\n",
       "    </tr>\n",
       "    <tr>\n",
       "      <th>2</th>\n",
       "      <td>1/6/15</td>\n",
       "      <td>2002.61</td>\n",
       "    </tr>\n",
       "    <tr>\n",
       "      <th>3</th>\n",
       "      <td>1/7/15</td>\n",
       "      <td>2025.90</td>\n",
       "    </tr>\n",
       "    <tr>\n",
       "      <th>4</th>\n",
       "      <td>1/8/15</td>\n",
       "      <td>2062.14</td>\n",
       "    </tr>\n",
       "    <tr>\n",
       "      <th>...</th>\n",
       "      <td>...</td>\n",
       "      <td>...</td>\n",
       "    </tr>\n",
       "    <tr>\n",
       "      <th>2087</th>\n",
       "      <td>4/19/23</td>\n",
       "      <td>4154.52</td>\n",
       "    </tr>\n",
       "    <tr>\n",
       "      <th>2088</th>\n",
       "      <td>4/20/23</td>\n",
       "      <td>4129.79</td>\n",
       "    </tr>\n",
       "    <tr>\n",
       "      <th>2089</th>\n",
       "      <td>4/21/23</td>\n",
       "      <td>4133.52</td>\n",
       "    </tr>\n",
       "    <tr>\n",
       "      <th>2090</th>\n",
       "      <td>4/24/23</td>\n",
       "      <td>4137.04</td>\n",
       "    </tr>\n",
       "    <tr>\n",
       "      <th>2091</th>\n",
       "      <td>4/25/23</td>\n",
       "      <td>4071.63</td>\n",
       "    </tr>\n",
       "  </tbody>\n",
       "</table>\n",
       "<p>2092 rows × 2 columns</p>\n",
       "</div>"
      ],
      "text/plain": [
       "     Effective_date   S&P_500\n",
       "0             1/2/15  2058.20\n",
       "1             1/5/15  2020.58\n",
       "2             1/6/15  2002.61\n",
       "3             1/7/15  2025.90\n",
       "4             1/8/15  2062.14\n",
       "...              ...      ...\n",
       "2087         4/19/23  4154.52\n",
       "2088         4/20/23  4129.79\n",
       "2089         4/21/23  4133.52\n",
       "2090         4/24/23  4137.04\n",
       "2091         4/25/23  4071.63\n",
       "\n",
       "[2092 rows x 2 columns]"
      ]
     },
     "execution_count": 5,
     "metadata": {},
     "output_type": "execute_result"
    }
   ],
   "source": [
    "sp500_ret"
   ]
  },
  {
   "cell_type": "markdown",
   "id": "af6d9fea-0ce4-41bf-86cf-18dbdcb84c51",
   "metadata": {},
   "source": [
    "Source: https://www.spglobal.com/spdji/en/indices/equity/sp-500/#overview"
   ]
  },
  {
   "cell_type": "markdown",
   "id": "68313760-8c50-49b1-b3a6-01891df96f5c",
   "metadata": {},
   "source": [
    "### Stock Trading Volume"
   ]
  },
  {
   "cell_type": "code",
   "execution_count": 6,
   "id": "721f5673-6a73-4222-a498-c6ece28bc95c",
   "metadata": {},
   "outputs": [],
   "source": [
    "stock_tv = pd.read_csv('inputs/SP500_TV.csv')"
   ]
  },
  {
   "cell_type": "code",
   "execution_count": 7,
   "id": "86259d73-bfa6-4f31-a798-e738150eb103",
   "metadata": {},
   "outputs": [
    {
     "data": {
      "text/html": [
       "<div>\n",
       "<style scoped>\n",
       "    .dataframe tbody tr th:only-of-type {\n",
       "        vertical-align: middle;\n",
       "    }\n",
       "\n",
       "    .dataframe tbody tr th {\n",
       "        vertical-align: top;\n",
       "    }\n",
       "\n",
       "    .dataframe thead th {\n",
       "        text-align: right;\n",
       "    }\n",
       "</style>\n",
       "<table border=\"1\" class=\"dataframe\">\n",
       "  <thead>\n",
       "    <tr style=\"text-align: right;\">\n",
       "      <th></th>\n",
       "      <th>Date</th>\n",
       "      <th>Value</th>\n",
       "    </tr>\n",
       "  </thead>\n",
       "  <tbody>\n",
       "    <tr>\n",
       "      <th>0</th>\n",
       "      <td>12/2/15</td>\n",
       "      <td>1088000</td>\n",
       "    </tr>\n",
       "    <tr>\n",
       "      <th>1</th>\n",
       "      <td>12/3/15</td>\n",
       "      <td>1379000</td>\n",
       "    </tr>\n",
       "    <tr>\n",
       "      <th>2</th>\n",
       "      <td>12/4/15</td>\n",
       "      <td>1308000</td>\n",
       "    </tr>\n",
       "    <tr>\n",
       "      <th>3</th>\n",
       "      <td>12/7/15</td>\n",
       "      <td>712744</td>\n",
       "    </tr>\n",
       "    <tr>\n",
       "      <th>4</th>\n",
       "      <td>12/8/15</td>\n",
       "      <td>670998</td>\n",
       "    </tr>\n",
       "    <tr>\n",
       "      <th>...</th>\n",
       "      <td>...</td>\n",
       "      <td>...</td>\n",
       "    </tr>\n",
       "    <tr>\n",
       "      <th>502</th>\n",
       "      <td>3/31/23</td>\n",
       "      <td>3293000</td>\n",
       "    </tr>\n",
       "    <tr>\n",
       "      <th>503</th>\n",
       "      <td>4/3/23</td>\n",
       "      <td>2494000</td>\n",
       "    </tr>\n",
       "    <tr>\n",
       "      <th>504</th>\n",
       "      <td>4/4/23</td>\n",
       "      <td>2687000</td>\n",
       "    </tr>\n",
       "    <tr>\n",
       "      <th>505</th>\n",
       "      <td>4/5/23</td>\n",
       "      <td>2311000</td>\n",
       "    </tr>\n",
       "    <tr>\n",
       "      <th>506</th>\n",
       "      <td>4/6/23</td>\n",
       "      <td>2462000</td>\n",
       "    </tr>\n",
       "  </tbody>\n",
       "</table>\n",
       "<p>507 rows × 2 columns</p>\n",
       "</div>"
      ],
      "text/plain": [
       "        Date    Value\n",
       "0    12/2/15  1088000\n",
       "1    12/3/15  1379000\n",
       "2    12/4/15  1308000\n",
       "3    12/7/15   712744\n",
       "4    12/8/15   670998\n",
       "..       ...      ...\n",
       "502  3/31/23  3293000\n",
       "503   4/3/23  2494000\n",
       "504   4/4/23  2687000\n",
       "505   4/5/23  2311000\n",
       "506   4/6/23  2462000\n",
       "\n",
       "[507 rows x 2 columns]"
      ]
     },
     "execution_count": 7,
     "metadata": {},
     "output_type": "execute_result"
    }
   ],
   "source": [
    "stock_tv"
   ]
  },
  {
   "cell_type": "markdown",
   "id": "1c6889cf-3cb7-4e32-9e3d-a9786ceb9941",
   "metadata": {},
   "source": [
    "Source: https://ycharts.com/indicators/cboe_spx_volume"
   ]
  },
  {
   "cell_type": "markdown",
   "id": "82fccca5-88d5-4405-89af-4c9986a3cfba",
   "metadata": {},
   "source": [
    "### Vbilx data"
   ]
  },
  {
   "cell_type": "code",
   "execution_count": 8,
   "id": "285153bf-82f3-423f-9295-3f85b22a1b7a",
   "metadata": {},
   "outputs": [],
   "source": [
    "#pip install yfinance\n",
    "import yfinance as yf\n",
    "import pandas as pd\n",
    "from datetime import datetime\n",
    "from scipy import stats"
   ]
  },
  {
   "cell_type": "code",
   "execution_count": 9,
   "id": "2832333d-4999-4f4f-8538-19b27a80b3c7",
   "metadata": {},
   "outputs": [],
   "source": [
    "start  = datetime(2015, 1, 1)\n",
    "end    = datetime(2023, 4, 25)"
   ]
  },
  {
   "cell_type": "code",
   "execution_count": 10,
   "id": "a76a661f-0027-419e-ac39-30d75930fd33",
   "metadata": {},
   "outputs": [
    {
     "name": "stdout",
     "output_type": "stream",
     "text": [
      "[*********************100%***********************]  1 of 1 completed\n"
     ]
    }
   ],
   "source": [
    "stock_prices = yf.download('VBILX', start=start, end=end)\n",
    "\n",
    "daily_returns = stock_prices['Adj Close'].pct_change().fillna(0)\n",
    "daily_price = stock_prices['Adj Close']\n",
    "daily_returns['Volume'] = stock_prices['Volume']\n",
    "\n",
    "Vbilx = pd.DataFrame({'Daily Returns': daily_returns, 'Daily Price': daily_price, 'Trading Volume': stock_prices['Volume']})"
   ]
  },
  {
   "cell_type": "code",
   "execution_count": 11,
   "id": "cfea136e-5725-41e4-993b-4b5a49209626",
   "metadata": {},
   "outputs": [
    {
     "data": {
      "text/html": [
       "<div>\n",
       "<style scoped>\n",
       "    .dataframe tbody tr th:only-of-type {\n",
       "        vertical-align: middle;\n",
       "    }\n",
       "\n",
       "    .dataframe tbody tr th {\n",
       "        vertical-align: top;\n",
       "    }\n",
       "\n",
       "    .dataframe thead th {\n",
       "        text-align: right;\n",
       "    }\n",
       "</style>\n",
       "<table border=\"1\" class=\"dataframe\">\n",
       "  <thead>\n",
       "    <tr style=\"text-align: right;\">\n",
       "      <th></th>\n",
       "      <th>Daily Returns</th>\n",
       "      <th>Daily Price</th>\n",
       "      <th>Trading Volume</th>\n",
       "    </tr>\n",
       "    <tr>\n",
       "      <th>Date</th>\n",
       "      <th></th>\n",
       "      <th></th>\n",
       "      <th></th>\n",
       "    </tr>\n",
       "  </thead>\n",
       "  <tbody>\n",
       "    <tr>\n",
       "      <th>2015-01-02 00:00:00</th>\n",
       "      <td>0.0</td>\n",
       "      <td>9.095692</td>\n",
       "      <td>0.0</td>\n",
       "    </tr>\n",
       "    <tr>\n",
       "      <th>2015-01-05 00:00:00</th>\n",
       "      <td>0.004348</td>\n",
       "      <td>9.135242</td>\n",
       "      <td>0.0</td>\n",
       "    </tr>\n",
       "    <tr>\n",
       "      <th>2015-01-06 00:00:00</th>\n",
       "      <td>0.004329</td>\n",
       "      <td>9.174790</td>\n",
       "      <td>0.0</td>\n",
       "    </tr>\n",
       "    <tr>\n",
       "      <th>2015-01-07 00:00:00</th>\n",
       "      <td>0.0</td>\n",
       "      <td>9.174790</td>\n",
       "      <td>0.0</td>\n",
       "    </tr>\n",
       "    <tr>\n",
       "      <th>2015-01-08 00:00:00</th>\n",
       "      <td>-0.002586</td>\n",
       "      <td>9.151062</td>\n",
       "      <td>0.0</td>\n",
       "    </tr>\n",
       "    <tr>\n",
       "      <th>...</th>\n",
       "      <td>...</td>\n",
       "      <td>...</td>\n",
       "      <td>...</td>\n",
       "    </tr>\n",
       "    <tr>\n",
       "      <th>2023-04-19 00:00:00</th>\n",
       "      <td>-0.001934</td>\n",
       "      <td>10.320000</td>\n",
       "      <td>0.0</td>\n",
       "    </tr>\n",
       "    <tr>\n",
       "      <th>2023-04-20 00:00:00</th>\n",
       "      <td>0.003876</td>\n",
       "      <td>10.360000</td>\n",
       "      <td>0.0</td>\n",
       "    </tr>\n",
       "    <tr>\n",
       "      <th>2023-04-21 00:00:00</th>\n",
       "      <td>-0.00193</td>\n",
       "      <td>10.340000</td>\n",
       "      <td>0.0</td>\n",
       "    </tr>\n",
       "    <tr>\n",
       "      <th>2023-04-24 00:00:00</th>\n",
       "      <td>0.003868</td>\n",
       "      <td>10.380000</td>\n",
       "      <td>0.0</td>\n",
       "    </tr>\n",
       "    <tr>\n",
       "      <th>Volume</th>\n",
       "      <td>Date\n",
       "2015-01-02    0\n",
       "2015-01-05    0\n",
       "2015-01-0...</td>\n",
       "      <td>NaN</td>\n",
       "      <td>NaN</td>\n",
       "    </tr>\n",
       "  </tbody>\n",
       "</table>\n",
       "<p>2092 rows × 3 columns</p>\n",
       "</div>"
      ],
      "text/plain": [
       "                                                         Daily Returns  \\\n",
       "Date                                                                     \n",
       "2015-01-02 00:00:00                                                0.0   \n",
       "2015-01-05 00:00:00                                           0.004348   \n",
       "2015-01-06 00:00:00                                           0.004329   \n",
       "2015-01-07 00:00:00                                                0.0   \n",
       "2015-01-08 00:00:00                                          -0.002586   \n",
       "...                                                                ...   \n",
       "2023-04-19 00:00:00                                          -0.001934   \n",
       "2023-04-20 00:00:00                                           0.003876   \n",
       "2023-04-21 00:00:00                                           -0.00193   \n",
       "2023-04-24 00:00:00                                           0.003868   \n",
       "Volume               Date\n",
       "2015-01-02    0\n",
       "2015-01-05    0\n",
       "2015-01-0...   \n",
       "\n",
       "                     Daily Price  Trading Volume  \n",
       "Date                                              \n",
       "2015-01-02 00:00:00     9.095692             0.0  \n",
       "2015-01-05 00:00:00     9.135242             0.0  \n",
       "2015-01-06 00:00:00     9.174790             0.0  \n",
       "2015-01-07 00:00:00     9.174790             0.0  \n",
       "2015-01-08 00:00:00     9.151062             0.0  \n",
       "...                          ...             ...  \n",
       "2023-04-19 00:00:00    10.320000             0.0  \n",
       "2023-04-20 00:00:00    10.360000             0.0  \n",
       "2023-04-21 00:00:00    10.340000             0.0  \n",
       "2023-04-24 00:00:00    10.380000             0.0  \n",
       "Volume                       NaN             NaN  \n",
       "\n",
       "[2092 rows x 3 columns]"
      ]
     },
     "execution_count": 11,
     "metadata": {},
     "output_type": "execute_result"
    }
   ],
   "source": [
    "Vbilx"
   ]
  },
  {
   "cell_type": "markdown",
   "id": "80ca3c22-adaf-4e7a-891b-ba49077897ff",
   "metadata": {},
   "source": [
    "### VBIRX data"
   ]
  },
  {
   "cell_type": "code",
   "execution_count": 12,
   "id": "e5554f15-66a4-4a2a-87ad-57a994a78ac0",
   "metadata": {},
   "outputs": [
    {
     "name": "stdout",
     "output_type": "stream",
     "text": [
      "[*********************100%***********************]  1 of 1 completed\n"
     ]
    },
    {
     "data": {
      "text/html": [
       "<div>\n",
       "<style scoped>\n",
       "    .dataframe tbody tr th:only-of-type {\n",
       "        vertical-align: middle;\n",
       "    }\n",
       "\n",
       "    .dataframe tbody tr th {\n",
       "        vertical-align: top;\n",
       "    }\n",
       "\n",
       "    .dataframe thead th {\n",
       "        text-align: right;\n",
       "    }\n",
       "</style>\n",
       "<table border=\"1\" class=\"dataframe\">\n",
       "  <thead>\n",
       "    <tr style=\"text-align: right;\">\n",
       "      <th></th>\n",
       "      <th>Daily Returns</th>\n",
       "      <th>Daily Price</th>\n",
       "      <th>Trading Volume</th>\n",
       "    </tr>\n",
       "    <tr>\n",
       "      <th>Date</th>\n",
       "      <th></th>\n",
       "      <th></th>\n",
       "      <th></th>\n",
       "    </tr>\n",
       "  </thead>\n",
       "  <tbody>\n",
       "    <tr>\n",
       "      <th>2015-01-02 00:00:00</th>\n",
       "      <td>NaN</td>\n",
       "      <td>9.148484</td>\n",
       "      <td>0.0</td>\n",
       "    </tr>\n",
       "    <tr>\n",
       "      <th>2015-01-05 00:00:00</th>\n",
       "      <td>0.000954</td>\n",
       "      <td>9.157212</td>\n",
       "      <td>0.0</td>\n",
       "    </tr>\n",
       "    <tr>\n",
       "      <th>2015-01-06 00:00:00</th>\n",
       "      <td>0.000952</td>\n",
       "      <td>9.165929</td>\n",
       "      <td>0.0</td>\n",
       "    </tr>\n",
       "    <tr>\n",
       "      <th>2015-01-07 00:00:00</th>\n",
       "      <td>0.000951</td>\n",
       "      <td>9.174650</td>\n",
       "      <td>0.0</td>\n",
       "    </tr>\n",
       "    <tr>\n",
       "      <th>2015-01-08 00:00:00</th>\n",
       "      <td>-0.000951</td>\n",
       "      <td>9.165929</td>\n",
       "      <td>0.0</td>\n",
       "    </tr>\n",
       "    <tr>\n",
       "      <th>...</th>\n",
       "      <td>...</td>\n",
       "      <td>...</td>\n",
       "      <td>...</td>\n",
       "    </tr>\n",
       "    <tr>\n",
       "      <th>2023-04-19 00:00:00</th>\n",
       "      <td>-0.001001</td>\n",
       "      <td>9.980000</td>\n",
       "      <td>0.0</td>\n",
       "    </tr>\n",
       "    <tr>\n",
       "      <th>2023-04-20 00:00:00</th>\n",
       "      <td>0.002004</td>\n",
       "      <td>10.000000</td>\n",
       "      <td>0.0</td>\n",
       "    </tr>\n",
       "    <tr>\n",
       "      <th>2023-04-21 00:00:00</th>\n",
       "      <td>0.0</td>\n",
       "      <td>10.000000</td>\n",
       "      <td>0.0</td>\n",
       "    </tr>\n",
       "    <tr>\n",
       "      <th>2023-04-24 00:00:00</th>\n",
       "      <td>0.001</td>\n",
       "      <td>10.010000</td>\n",
       "      <td>0.0</td>\n",
       "    </tr>\n",
       "    <tr>\n",
       "      <th>Volume</th>\n",
       "      <td>Date\n",
       "2015-01-02    0\n",
       "2015-01-05    0\n",
       "2015-01-0...</td>\n",
       "      <td>NaN</td>\n",
       "      <td>NaN</td>\n",
       "    </tr>\n",
       "  </tbody>\n",
       "</table>\n",
       "<p>2092 rows × 3 columns</p>\n",
       "</div>"
      ],
      "text/plain": [
       "                                                         Daily Returns  \\\n",
       "Date                                                                     \n",
       "2015-01-02 00:00:00                                                NaN   \n",
       "2015-01-05 00:00:00                                           0.000954   \n",
       "2015-01-06 00:00:00                                           0.000952   \n",
       "2015-01-07 00:00:00                                           0.000951   \n",
       "2015-01-08 00:00:00                                          -0.000951   \n",
       "...                                                                ...   \n",
       "2023-04-19 00:00:00                                          -0.001001   \n",
       "2023-04-20 00:00:00                                           0.002004   \n",
       "2023-04-21 00:00:00                                                0.0   \n",
       "2023-04-24 00:00:00                                              0.001   \n",
       "Volume               Date\n",
       "2015-01-02    0\n",
       "2015-01-05    0\n",
       "2015-01-0...   \n",
       "\n",
       "                     Daily Price  Trading Volume  \n",
       "Date                                              \n",
       "2015-01-02 00:00:00     9.148484             0.0  \n",
       "2015-01-05 00:00:00     9.157212             0.0  \n",
       "2015-01-06 00:00:00     9.165929             0.0  \n",
       "2015-01-07 00:00:00     9.174650             0.0  \n",
       "2015-01-08 00:00:00     9.165929             0.0  \n",
       "...                          ...             ...  \n",
       "2023-04-19 00:00:00     9.980000             0.0  \n",
       "2023-04-20 00:00:00    10.000000             0.0  \n",
       "2023-04-21 00:00:00    10.000000             0.0  \n",
       "2023-04-24 00:00:00    10.010000             0.0  \n",
       "Volume                       NaN             NaN  \n",
       "\n",
       "[2092 rows x 3 columns]"
      ]
     },
     "execution_count": 12,
     "metadata": {},
     "output_type": "execute_result"
    }
   ],
   "source": [
    "stock_prices2 = yf.download('VBIRX', start=start, end=end)\n",
    "\n",
    "daily_returns2 = stock_prices2['Adj Close'].pct_change()\n",
    "daily_price2 = stock_prices2['Adj Close']\n",
    "daily_returns2['Volume'] = stock_prices2['Volume']\n",
    "\n",
    "Vbirx = pd.DataFrame({'Daily Returns': daily_returns2, 'Daily Price': daily_price2, 'Trading Volume': stock_prices2['Volume']})\n",
    "Vbirx"
   ]
  },
  {
   "cell_type": "markdown",
   "id": "04aa56e5-4eb9-42c0-959d-ef1d7fda62fe",
   "metadata": {},
   "source": [
    "# Cleaning and EDA"
   ]
  },
  {
   "cell_type": "code",
   "execution_count": 13,
   "id": "5024043a-c3d7-4944-b9b6-9c4dd098cb84",
   "metadata": {},
   "outputs": [],
   "source": [
    "import matplotlib.pyplot as plt\n",
    "import seaborn as sns"
   ]
  },
  {
   "cell_type": "markdown",
   "id": "5dd52904-40bd-4f65-97ec-e762ad1d1189",
   "metadata": {},
   "source": [
    "### FOMC Rates"
   ]
  },
  {
   "cell_type": "code",
   "execution_count": 14,
   "id": "a87801d1-e1b0-4161-b8dc-e7181e4454f2",
   "metadata": {},
   "outputs": [
    {
     "data": {
      "text/html": [
       "<style type=\"text/css\">\n",
       "</style>\n",
       "<table id=\"T_b5cbe\">\n",
       "  <thead>\n",
       "    <tr>\n",
       "      <th class=\"blank level0\" >&nbsp;</th>\n",
       "      <th id=\"T_b5cbe_level0_col0\" class=\"col_heading level0 col0\" >count</th>\n",
       "      <th id=\"T_b5cbe_level0_col1\" class=\"col_heading level0 col1\" >mean</th>\n",
       "      <th id=\"T_b5cbe_level0_col2\" class=\"col_heading level0 col2\" >std</th>\n",
       "      <th id=\"T_b5cbe_level0_col3\" class=\"col_heading level0 col3\" >min</th>\n",
       "      <th id=\"T_b5cbe_level0_col4\" class=\"col_heading level0 col4\" >25%</th>\n",
       "      <th id=\"T_b5cbe_level0_col5\" class=\"col_heading level0 col5\" >50%</th>\n",
       "      <th id=\"T_b5cbe_level0_col6\" class=\"col_heading level0 col6\" >75%</th>\n",
       "      <th id=\"T_b5cbe_level0_col7\" class=\"col_heading level0 col7\" >max</th>\n",
       "    </tr>\n",
       "  </thead>\n",
       "  <tbody>\n",
       "    <tr>\n",
       "      <th id=\"T_b5cbe_level0_row0\" class=\"row_heading level0 row0\" >Increase</th>\n",
       "      <td id=\"T_b5cbe_row0_col0\" class=\"data row0 col0\" >23.00</td>\n",
       "      <td id=\"T_b5cbe_row0_col1\" class=\"data row0 col1\" >30.43</td>\n",
       "      <td id=\"T_b5cbe_row0_col2\" class=\"data row0 col2\" >24.95</td>\n",
       "      <td id=\"T_b5cbe_row0_col3\" class=\"data row0 col3\" >0.00</td>\n",
       "      <td id=\"T_b5cbe_row0_col4\" class=\"data row0 col4\" >25.00</td>\n",
       "      <td id=\"T_b5cbe_row0_col5\" class=\"data row0 col5\" >25.00</td>\n",
       "      <td id=\"T_b5cbe_row0_col6\" class=\"data row0 col6\" >37.50</td>\n",
       "      <td id=\"T_b5cbe_row0_col7\" class=\"data row0 col7\" >75.00</td>\n",
       "    </tr>\n",
       "    <tr>\n",
       "      <th id=\"T_b5cbe_level0_row1\" class=\"row_heading level0 row1\" >Decrease</th>\n",
       "      <td id=\"T_b5cbe_row1_col0\" class=\"data row1 col0\" >23.00</td>\n",
       "      <td id=\"T_b5cbe_row1_col1\" class=\"data row1 col1\" >9.78</td>\n",
       "      <td id=\"T_b5cbe_row1_col2\" class=\"data row1 col2\" >23.52</td>\n",
       "      <td id=\"T_b5cbe_row1_col3\" class=\"data row1 col3\" >0.00</td>\n",
       "      <td id=\"T_b5cbe_row1_col4\" class=\"data row1 col4\" >0.00</td>\n",
       "      <td id=\"T_b5cbe_row1_col5\" class=\"data row1 col5\" >0.00</td>\n",
       "      <td id=\"T_b5cbe_row1_col6\" class=\"data row1 col6\" >0.00</td>\n",
       "      <td id=\"T_b5cbe_row1_col7\" class=\"data row1 col7\" >100.00</td>\n",
       "    </tr>\n",
       "  </tbody>\n",
       "</table>\n"
      ],
      "text/plain": [
       "<pandas.io.formats.style.Styler at 0x7f9762ca37f0>"
      ]
     },
     "execution_count": 14,
     "metadata": {},
     "output_type": "execute_result"
    }
   ],
   "source": [
    "rates.describe().T.style.format('{:,.2f}')"
   ]
  },
  {
   "cell_type": "code",
   "execution_count": 15,
   "id": "eb21ac75-60fa-4c7c-88a6-4c32073c0394",
   "metadata": {},
   "outputs": [
    {
     "data": {
      "text/html": [
       "<style type=\"text/css\">\n",
       "</style>\n",
       "<table id=\"T_f93d3\">\n",
       "  <thead>\n",
       "    <tr>\n",
       "      <th class=\"blank level0\" >&nbsp;</th>\n",
       "      <th id=\"T_f93d3_level0_col0\" class=\"col_heading level0 col0\" >﻿Date</th>\n",
       "      <th id=\"T_f93d3_level0_col1\" class=\"col_heading level0 col1\" >Increase</th>\n",
       "      <th id=\"T_f93d3_level0_col2\" class=\"col_heading level0 col2\" >Decrease</th>\n",
       "      <th id=\"T_f93d3_level0_col3\" class=\"col_heading level0 col3\" >Tgt_level</th>\n",
       "    </tr>\n",
       "  </thead>\n",
       "  <tbody>\n",
       "    <tr>\n",
       "      <th id=\"T_f93d3_level0_row0\" class=\"row_heading level0 row0\" >0</th>\n",
       "      <td id=\"T_f93d3_row0_col0\" class=\"data row0 col0\" >12/17/15</td>\n",
       "      <td id=\"T_f93d3_row0_col1\" class=\"data row0 col1\" >25</td>\n",
       "      <td id=\"T_f93d3_row0_col2\" class=\"data row0 col2\" >0</td>\n",
       "      <td id=\"T_f93d3_row0_col3\" class=\"data row0 col3\" >0.25-0.50</td>\n",
       "    </tr>\n",
       "    <tr>\n",
       "      <th id=\"T_f93d3_level0_row1\" class=\"row_heading level0 row1\" >1</th>\n",
       "      <td id=\"T_f93d3_row1_col0\" class=\"data row1 col0\" >12/15/16</td>\n",
       "      <td id=\"T_f93d3_row1_col1\" class=\"data row1 col1\" >25</td>\n",
       "      <td id=\"T_f93d3_row1_col2\" class=\"data row1 col2\" >0</td>\n",
       "      <td id=\"T_f93d3_row1_col3\" class=\"data row1 col3\" >0.50-0.75</td>\n",
       "    </tr>\n",
       "    <tr>\n",
       "      <th id=\"T_f93d3_level0_row2\" class=\"row_heading level0 row2\" >2</th>\n",
       "      <td id=\"T_f93d3_row2_col0\" class=\"data row2 col0\" >3/16/17</td>\n",
       "      <td id=\"T_f93d3_row2_col1\" class=\"data row2 col1\" >25</td>\n",
       "      <td id=\"T_f93d3_row2_col2\" class=\"data row2 col2\" >0</td>\n",
       "      <td id=\"T_f93d3_row2_col3\" class=\"data row2 col3\" >0.75-1.00</td>\n",
       "    </tr>\n",
       "    <tr>\n",
       "      <th id=\"T_f93d3_level0_row3\" class=\"row_heading level0 row3\" >3</th>\n",
       "      <td id=\"T_f93d3_row3_col0\" class=\"data row3 col0\" >6/15/17</td>\n",
       "      <td id=\"T_f93d3_row3_col1\" class=\"data row3 col1\" >25</td>\n",
       "      <td id=\"T_f93d3_row3_col2\" class=\"data row3 col2\" >0</td>\n",
       "      <td id=\"T_f93d3_row3_col3\" class=\"data row3 col3\" >1.00-1.25</td>\n",
       "    </tr>\n",
       "    <tr>\n",
       "      <th id=\"T_f93d3_level0_row4\" class=\"row_heading level0 row4\" >4</th>\n",
       "      <td id=\"T_f93d3_row4_col0\" class=\"data row4 col0\" >12/14/17</td>\n",
       "      <td id=\"T_f93d3_row4_col1\" class=\"data row4 col1\" >25</td>\n",
       "      <td id=\"T_f93d3_row4_col2\" class=\"data row4 col2\" >0</td>\n",
       "      <td id=\"T_f93d3_row4_col3\" class=\"data row4 col3\" >1.25-1.50</td>\n",
       "    </tr>\n",
       "  </tbody>\n",
       "</table>\n"
      ],
      "text/plain": [
       "<pandas.io.formats.style.Styler at 0x7f97638ffc40>"
      ]
     },
     "execution_count": 15,
     "metadata": {},
     "output_type": "execute_result"
    }
   ],
   "source": [
    "rates.head().style"
   ]
  },
  {
   "cell_type": "code",
   "execution_count": 16,
   "id": "26f40007-f98a-4cbc-b051-2488e70377ec",
   "metadata": {},
   "outputs": [
    {
     "data": {
      "text/html": [
       "<style type=\"text/css\">\n",
       "</style>\n",
       "<table id=\"T_99190\">\n",
       "  <thead>\n",
       "    <tr>\n",
       "      <th class=\"blank level0\" >&nbsp;</th>\n",
       "      <th id=\"T_99190_level0_col0\" class=\"col_heading level0 col0\" >% missing</th>\n",
       "    </tr>\n",
       "  </thead>\n",
       "  <tbody>\n",
       "    <tr>\n",
       "      <th id=\"T_99190_level0_row0\" class=\"row_heading level0 row0\" >﻿Date</th>\n",
       "      <td id=\"T_99190_row0_col0\" class=\"data row0 col0\" >0.000</td>\n",
       "    </tr>\n",
       "    <tr>\n",
       "      <th id=\"T_99190_level0_row1\" class=\"row_heading level0 row1\" >Increase</th>\n",
       "      <td id=\"T_99190_row1_col0\" class=\"data row1 col0\" >0.000</td>\n",
       "    </tr>\n",
       "    <tr>\n",
       "      <th id=\"T_99190_level0_row2\" class=\"row_heading level0 row2\" >Decrease</th>\n",
       "      <td id=\"T_99190_row2_col0\" class=\"data row2 col0\" >0.000</td>\n",
       "    </tr>\n",
       "    <tr>\n",
       "      <th id=\"T_99190_level0_row3\" class=\"row_heading level0 row3\" >Tgt_level</th>\n",
       "      <td id=\"T_99190_row3_col0\" class=\"data row3 col0\" >0.000</td>\n",
       "    </tr>\n",
       "  </tbody>\n",
       "</table>\n"
      ],
      "text/plain": [
       "<pandas.io.formats.style.Styler at 0x7f97638fe200>"
      ]
     },
     "execution_count": 16,
     "metadata": {},
     "output_type": "execute_result"
    }
   ],
   "source": [
    "# Missing values\n",
    "(\n",
    "    ( # these lines do the calculation - what % of missing values are there for each var\n",
    "        rates.isna()      \n",
    "       .sum(axis=0)     \n",
    "        /len(rates)       # convert # missing to % missing \n",
    "        *100            # report as percentage\n",
    "    ) \n",
    "    .sort_values(ascending=False)\n",
    "    .to_frame(name='% missing') \n",
    "    .style.format(\"{:.3f}\")     \n",
    ")"
   ]
  },
  {
   "cell_type": "code",
   "execution_count": 17,
   "id": "cb4db37c-e936-426c-a65b-7851bf42d8a7",
   "metadata": {},
   "outputs": [],
   "source": [
    "# Convert to numeric\n",
    "rates['Increase'] = rates['Increase'].astype(float)\n",
    "rates['Decrease'] = rates['Decrease'].astype(float)"
   ]
  },
  {
   "cell_type": "code",
   "execution_count": 18,
   "id": "dbf9d84c-1c04-453f-a84a-a89a2e0bf072",
   "metadata": {},
   "outputs": [],
   "source": [
    "# Making units consistent\n",
    "rates['Tgt_level'] = rates['Tgt_level'].apply(lambda x: x.replace('-', '.', 1))"
   ]
  },
  {
   "cell_type": "code",
   "execution_count": 19,
   "id": "456734c9-ed60-429c-9214-2e4f9d245d55",
   "metadata": {},
   "outputs": [
    {
     "data": {
      "text/html": [
       "<style type=\"text/css\">\n",
       "</style>\n",
       "<table id=\"T_04e90\">\n",
       "  <thead>\n",
       "    <tr>\n",
       "      <th class=\"blank level0\" >&nbsp;</th>\n",
       "      <th id=\"T_04e90_level0_col0\" class=\"col_heading level0 col0\" >count</th>\n",
       "      <th id=\"T_04e90_level0_col1\" class=\"col_heading level0 col1\" >mean</th>\n",
       "      <th id=\"T_04e90_level0_col2\" class=\"col_heading level0 col2\" >std</th>\n",
       "      <th id=\"T_04e90_level0_col3\" class=\"col_heading level0 col3\" >min</th>\n",
       "      <th id=\"T_04e90_level0_col4\" class=\"col_heading level0 col4\" >1%</th>\n",
       "      <th id=\"T_04e90_level0_col5\" class=\"col_heading level0 col5\" >5%</th>\n",
       "      <th id=\"T_04e90_level0_col6\" class=\"col_heading level0 col6\" >50%</th>\n",
       "      <th id=\"T_04e90_level0_col7\" class=\"col_heading level0 col7\" >95%</th>\n",
       "      <th id=\"T_04e90_level0_col8\" class=\"col_heading level0 col8\" >99%</th>\n",
       "      <th id=\"T_04e90_level0_col9\" class=\"col_heading level0 col9\" >max</th>\n",
       "    </tr>\n",
       "  </thead>\n",
       "  <tbody>\n",
       "    <tr>\n",
       "      <th id=\"T_04e90_level0_row0\" class=\"row_heading level0 row0\" >Increase</th>\n",
       "      <td id=\"T_04e90_row0_col0\" class=\"data row0 col0\" >23.00</td>\n",
       "      <td id=\"T_04e90_row0_col1\" class=\"data row0 col1\" >30.43</td>\n",
       "      <td id=\"T_04e90_row0_col2\" class=\"data row0 col2\" >24.95</td>\n",
       "      <td id=\"T_04e90_row0_col3\" class=\"data row0 col3\" >0.00</td>\n",
       "      <td id=\"T_04e90_row0_col4\" class=\"data row0 col4\" >0.00</td>\n",
       "      <td id=\"T_04e90_row0_col5\" class=\"data row0 col5\" >0.00</td>\n",
       "      <td id=\"T_04e90_row0_col6\" class=\"data row0 col6\" >25.00</td>\n",
       "      <td id=\"T_04e90_row0_col7\" class=\"data row0 col7\" >75.00</td>\n",
       "      <td id=\"T_04e90_row0_col8\" class=\"data row0 col8\" >75.00</td>\n",
       "      <td id=\"T_04e90_row0_col9\" class=\"data row0 col9\" >75.00</td>\n",
       "    </tr>\n",
       "    <tr>\n",
       "      <th id=\"T_04e90_level0_row1\" class=\"row_heading level0 row1\" >Decrease</th>\n",
       "      <td id=\"T_04e90_row1_col0\" class=\"data row1 col0\" >23.00</td>\n",
       "      <td id=\"T_04e90_row1_col1\" class=\"data row1 col1\" >9.78</td>\n",
       "      <td id=\"T_04e90_row1_col2\" class=\"data row1 col2\" >23.52</td>\n",
       "      <td id=\"T_04e90_row1_col3\" class=\"data row1 col3\" >0.00</td>\n",
       "      <td id=\"T_04e90_row1_col4\" class=\"data row1 col4\" >0.00</td>\n",
       "      <td id=\"T_04e90_row1_col5\" class=\"data row1 col5\" >0.00</td>\n",
       "      <td id=\"T_04e90_row1_col6\" class=\"data row1 col6\" >0.00</td>\n",
       "      <td id=\"T_04e90_row1_col7\" class=\"data row1 col7\" >47.50</td>\n",
       "      <td id=\"T_04e90_row1_col8\" class=\"data row1 col8\" >89.00</td>\n",
       "      <td id=\"T_04e90_row1_col9\" class=\"data row1 col9\" >100.00</td>\n",
       "    </tr>\n",
       "  </tbody>\n",
       "</table>\n"
      ],
      "text/plain": [
       "<pandas.io.formats.style.Styler at 0x7f9762ce36d0>"
      ]
     },
     "execution_count": 19,
     "metadata": {},
     "output_type": "execute_result"
    }
   ],
   "source": [
    "# Outliers\n",
    "rates.describe(percentiles=[.01,.05,.95,.99]).T.style.format('{:,.2f}')"
   ]
  },
  {
   "cell_type": "markdown",
   "id": "c2e7a886-9a95-4323-b3c7-2c8e02a65185",
   "metadata": {},
   "source": [
    "This suggest that there are variables with large outliers. In the Increase column, the maximum value is 75.00, which is the 99th percentile. In the Decrease column, the maximum value is 100.00, which is also an outlier. It may be necessary to drop those observations to prevent them from skewing the results.\n"
   ]
  },
  {
   "cell_type": "code",
   "execution_count": 20,
   "id": "09cb1ada-df7e-4959-bd6c-f3369b7601ec",
   "metadata": {},
   "outputs": [
    {
     "name": "stdout",
     "output_type": "stream",
     "text": [
      "﻿Date         object\n",
      "Increase     float64\n",
      "Decrease     float64\n",
      "Tgt_level     object\n",
      "dtype: object\n"
     ]
    }
   ],
   "source": [
    "#Exploring dataset \n",
    "print(rates.dtypes)"
   ]
  },
  {
   "cell_type": "code",
   "execution_count": 21,
   "id": "9992e536-9140-4ef8-acb9-018398efedb8",
   "metadata": {},
   "outputs": [
    {
     "data": {
      "image/png": "[encoded data removed]",
      "text/plain": [
       "<Figure size 500x500 with 6 Axes>"
      ]
     },
     "metadata": {},
     "output_type": "display_data"
    }
   ],
   "source": [
    "sns.pairplot(rates)\n",
    "plt.show()"
   ]
  },
  {
   "cell_type": "markdown",
   "id": "fd6fe3c3-93c7-4eb8-82da-b9cd024ff925",
   "metadata": {},
   "source": [
    "### Index Returns"
   ]
  },
  {
   "cell_type": "code",
   "execution_count": 22,
   "id": "2f45adec-9094-4767-95c2-dfe0f0d95d56",
   "metadata": {},
   "outputs": [
    {
     "data": {
      "text/html": [
       "<style type=\"text/css\">\n",
       "</style>\n",
       "<table id=\"T_a0cbb\">\n",
       "  <thead>\n",
       "    <tr>\n",
       "      <th class=\"blank level0\" >&nbsp;</th>\n",
       "      <th id=\"T_a0cbb_level0_col0\" class=\"col_heading level0 col0\" >count</th>\n",
       "      <th id=\"T_a0cbb_level0_col1\" class=\"col_heading level0 col1\" >mean</th>\n",
       "      <th id=\"T_a0cbb_level0_col2\" class=\"col_heading level0 col2\" >std</th>\n",
       "      <th id=\"T_a0cbb_level0_col3\" class=\"col_heading level0 col3\" >min</th>\n",
       "      <th id=\"T_a0cbb_level0_col4\" class=\"col_heading level0 col4\" >25%</th>\n",
       "      <th id=\"T_a0cbb_level0_col5\" class=\"col_heading level0 col5\" >50%</th>\n",
       "      <th id=\"T_a0cbb_level0_col6\" class=\"col_heading level0 col6\" >75%</th>\n",
       "      <th id=\"T_a0cbb_level0_col7\" class=\"col_heading level0 col7\" >max</th>\n",
       "    </tr>\n",
       "  </thead>\n",
       "  <tbody>\n",
       "    <tr>\n",
       "      <th id=\"T_a0cbb_level0_row0\" class=\"row_heading level0 row0\" >S&P_500</th>\n",
       "      <td id=\"T_a0cbb_row0_col0\" class=\"data row0 col0\" >2,092.00</td>\n",
       "      <td id=\"T_a0cbb_row0_col1\" class=\"data row0 col1\" >3,020.61</td>\n",
       "      <td id=\"T_a0cbb_row0_col2\" class=\"data row0 col2\" >821.31</td>\n",
       "      <td id=\"T_a0cbb_row0_col3\" class=\"data row0 col3\" >1,829.08</td>\n",
       "      <td id=\"T_a0cbb_row0_col4\" class=\"data row0 col4\" >2,280.89</td>\n",
       "      <td id=\"T_a0cbb_row0_col5\" class=\"data row0 col5\" >2,823.48</td>\n",
       "      <td id=\"T_a0cbb_row0_col6\" class=\"data row0 col6\" >3,810.17</td>\n",
       "      <td id=\"T_a0cbb_row0_col7\" class=\"data row0 col7\" >4,796.56</td>\n",
       "    </tr>\n",
       "  </tbody>\n",
       "</table>\n"
      ],
      "text/plain": [
       "<pandas.io.formats.style.Styler at 0x7f97639fb700>"
      ]
     },
     "execution_count": 22,
     "metadata": {},
     "output_type": "execute_result"
    }
   ],
   "source": [
    "sp500_ret.describe().T.style.format('{:,.2f}')"
   ]
  },
  {
   "cell_type": "code",
   "execution_count": 23,
   "id": "853a79f6-2514-4cfc-8e61-cc4c2a9e986e",
   "metadata": {},
   "outputs": [
    {
     "data": {
      "text/html": [
       "<style type=\"text/css\">\n",
       "</style>\n",
       "<table id=\"T_54cb5\">\n",
       "  <thead>\n",
       "    <tr>\n",
       "      <th class=\"blank level0\" >&nbsp;</th>\n",
       "      <th id=\"T_54cb5_level0_col0\" class=\"col_heading level0 col0\" >Effective_date </th>\n",
       "      <th id=\"T_54cb5_level0_col1\" class=\"col_heading level0 col1\" >S&P_500</th>\n",
       "    </tr>\n",
       "  </thead>\n",
       "  <tbody>\n",
       "    <tr>\n",
       "      <th id=\"T_54cb5_level0_row0\" class=\"row_heading level0 row0\" >0</th>\n",
       "      <td id=\"T_54cb5_row0_col0\" class=\"data row0 col0\" >1/2/15</td>\n",
       "      <td id=\"T_54cb5_row0_col1\" class=\"data row0 col1\" >2058.200000</td>\n",
       "    </tr>\n",
       "    <tr>\n",
       "      <th id=\"T_54cb5_level0_row1\" class=\"row_heading level0 row1\" >1</th>\n",
       "      <td id=\"T_54cb5_row1_col0\" class=\"data row1 col0\" >1/5/15</td>\n",
       "      <td id=\"T_54cb5_row1_col1\" class=\"data row1 col1\" >2020.580000</td>\n",
       "    </tr>\n",
       "    <tr>\n",
       "      <th id=\"T_54cb5_level0_row2\" class=\"row_heading level0 row2\" >2</th>\n",
       "      <td id=\"T_54cb5_row2_col0\" class=\"data row2 col0\" >1/6/15</td>\n",
       "      <td id=\"T_54cb5_row2_col1\" class=\"data row2 col1\" >2002.610000</td>\n",
       "    </tr>\n",
       "    <tr>\n",
       "      <th id=\"T_54cb5_level0_row3\" class=\"row_heading level0 row3\" >3</th>\n",
       "      <td id=\"T_54cb5_row3_col0\" class=\"data row3 col0\" >1/7/15</td>\n",
       "      <td id=\"T_54cb5_row3_col1\" class=\"data row3 col1\" >2025.900000</td>\n",
       "    </tr>\n",
       "    <tr>\n",
       "      <th id=\"T_54cb5_level0_row4\" class=\"row_heading level0 row4\" >4</th>\n",
       "      <td id=\"T_54cb5_row4_col0\" class=\"data row4 col0\" >1/8/15</td>\n",
       "      <td id=\"T_54cb5_row4_col1\" class=\"data row4 col1\" >2062.140000</td>\n",
       "    </tr>\n",
       "  </tbody>\n",
       "</table>\n"
      ],
      "text/plain": [
       "<pandas.io.formats.style.Styler at 0x7f9763a8f460>"
      ]
     },
     "execution_count": 23,
     "metadata": {},
     "output_type": "execute_result"
    }
   ],
   "source": [
    "sp500_ret.head().style"
   ]
  },
  {
   "cell_type": "code",
   "execution_count": 24,
   "id": "ed76f70a-a365-4e4c-9f66-1f024295fbd5",
   "metadata": {},
   "outputs": [
    {
     "data": {
      "text/html": [
       "<style type=\"text/css\">\n",
       "</style>\n",
       "<table id=\"T_f6b2f\">\n",
       "  <thead>\n",
       "    <tr>\n",
       "      <th class=\"blank level0\" >&nbsp;</th>\n",
       "      <th id=\"T_f6b2f_level0_col0\" class=\"col_heading level0 col0\" >% missing</th>\n",
       "    </tr>\n",
       "  </thead>\n",
       "  <tbody>\n",
       "    <tr>\n",
       "      <th id=\"T_f6b2f_level0_row0\" class=\"row_heading level0 row0\" >Effective_date </th>\n",
       "      <td id=\"T_f6b2f_row0_col0\" class=\"data row0 col0\" >0.000</td>\n",
       "    </tr>\n",
       "    <tr>\n",
       "      <th id=\"T_f6b2f_level0_row1\" class=\"row_heading level0 row1\" >S&P_500</th>\n",
       "      <td id=\"T_f6b2f_row1_col0\" class=\"data row1 col0\" >0.000</td>\n",
       "    </tr>\n",
       "  </tbody>\n",
       "</table>\n"
      ],
      "text/plain": [
       "<pandas.io.formats.style.Styler at 0x7f97638ffdf0>"
      ]
     },
     "execution_count": 24,
     "metadata": {},
     "output_type": "execute_result"
    }
   ],
   "source": [
    "# Missing values\n",
    "(\n",
    "    ( # these lines do the calculation - what % of missing values are there for each var\n",
    "        sp500_ret.isna()      \n",
    "       .sum(axis=0)     \n",
    "        /len(sp500_ret)       # convert # missing to % missing \n",
    "        *100            # report as percentage\n",
    "    ) \n",
    "    .sort_values(ascending=False)\n",
    "    .to_frame(name='% missing') \n",
    "    .style.format(\"{:.3f}\")     \n",
    ")"
   ]
  },
  {
   "cell_type": "code",
   "execution_count": 25,
   "id": "e0359ed6-19bf-4d62-b56d-7583b2e8d9a3",
   "metadata": {},
   "outputs": [],
   "source": [
    "# Convert to numeric\n",
    "sp500_ret['S&P_500'] = pd.to_numeric(sp500_ret['S&P_500'])"
   ]
  },
  {
   "cell_type": "code",
   "execution_count": 26,
   "id": "92e054ad-e185-4892-b6c6-209a6749c710",
   "metadata": {},
   "outputs": [
    {
     "data": {
      "text/html": [
       "<style type=\"text/css\">\n",
       "</style>\n",
       "<table id=\"T_c4f15\">\n",
       "  <thead>\n",
       "    <tr>\n",
       "      <th class=\"blank level0\" >&nbsp;</th>\n",
       "      <th id=\"T_c4f15_level0_col0\" class=\"col_heading level0 col0\" >count</th>\n",
       "      <th id=\"T_c4f15_level0_col1\" class=\"col_heading level0 col1\" >mean</th>\n",
       "      <th id=\"T_c4f15_level0_col2\" class=\"col_heading level0 col2\" >std</th>\n",
       "      <th id=\"T_c4f15_level0_col3\" class=\"col_heading level0 col3\" >min</th>\n",
       "      <th id=\"T_c4f15_level0_col4\" class=\"col_heading level0 col4\" >1%</th>\n",
       "      <th id=\"T_c4f15_level0_col5\" class=\"col_heading level0 col5\" >5%</th>\n",
       "      <th id=\"T_c4f15_level0_col6\" class=\"col_heading level0 col6\" >50%</th>\n",
       "      <th id=\"T_c4f15_level0_col7\" class=\"col_heading level0 col7\" >95%</th>\n",
       "      <th id=\"T_c4f15_level0_col8\" class=\"col_heading level0 col8\" >99%</th>\n",
       "      <th id=\"T_c4f15_level0_col9\" class=\"col_heading level0 col9\" >max</th>\n",
       "    </tr>\n",
       "  </thead>\n",
       "  <tbody>\n",
       "    <tr>\n",
       "      <th id=\"T_c4f15_level0_row0\" class=\"row_heading level0 row0\" >S&P_500</th>\n",
       "      <td id=\"T_c4f15_row0_col0\" class=\"data row0 col0\" >2,092.00</td>\n",
       "      <td id=\"T_c4f15_row0_col1\" class=\"data row0 col1\" >3,020.61</td>\n",
       "      <td id=\"T_c4f15_row0_col2\" class=\"data row0 col2\" >821.31</td>\n",
       "      <td id=\"T_c4f15_row0_col3\" class=\"data row0 col3\" >1,829.08</td>\n",
       "      <td id=\"T_c4f15_row0_col4\" class=\"data row0 col4\" >1,906.61</td>\n",
       "      <td id=\"T_c4f15_row0_col5\" class=\"data row0 col5\" >2,023.04</td>\n",
       "      <td id=\"T_c4f15_row0_col6\" class=\"data row0 col6\" >2,823.48</td>\n",
       "      <td id=\"T_c4f15_row0_col7\" class=\"data row0 col7\" >4,471.20</td>\n",
       "      <td id=\"T_c4f15_row0_col8\" class=\"data row0 col8\" >4,696.10</td>\n",
       "      <td id=\"T_c4f15_row0_col9\" class=\"data row0 col9\" >4,796.56</td>\n",
       "    </tr>\n",
       "  </tbody>\n",
       "</table>\n"
      ],
      "text/plain": [
       "<pandas.io.formats.style.Styler at 0x7f97638feb30>"
      ]
     },
     "execution_count": 26,
     "metadata": {},
     "output_type": "execute_result"
    }
   ],
   "source": [
    "# Outliers\n",
    "sp500_ret.describe(percentiles=[.01,.05,.95,.99]).T.style.format('{:,.2f}')"
   ]
  },
  {
   "cell_type": "markdown",
   "id": "c789908a-a0cb-4d7d-a7ed-bbfa64d1a712",
   "metadata": {},
   "source": [
    "This suggests that there are some extreme values in the upper end of the return distribution, which are likely to be the outliers."
   ]
  },
  {
   "cell_type": "code",
   "execution_count": 27,
   "id": "a8f33937-e036-45f7-b03c-bb8d90b58df3",
   "metadata": {},
   "outputs": [
    {
     "name": "stdout",
     "output_type": "stream",
     "text": [
      "Effective_date      object\n",
      "S&P_500            float64\n",
      "dtype: object\n"
     ]
    }
   ],
   "source": [
    "#Exploring dataset \n",
    "print(sp500_ret.dtypes)"
   ]
  },
  {
   "cell_type": "code",
   "execution_count": 28,
   "id": "1d1e85e0-a2e6-460a-9518-bf31a2e58e56",
   "metadata": {},
   "outputs": [
    {
     "data": {
      "image/png": "[encoded data removed]",
      "text/plain": [
       "<Figure size 250x250 with 2 Axes>"
      ]
     },
     "metadata": {},
     "output_type": "display_data"
    }
   ],
   "source": [
    "sns.pairplot(sp500_ret)\n",
    "plt.show()"
   ]
  },
  {
   "cell_type": "markdown",
   "id": "82f0d945-b9aa-46b1-a01f-8912caeb234a",
   "metadata": {},
   "source": [
    "### Stock Trading Volume"
   ]
  },
  {
   "cell_type": "code",
   "execution_count": 29,
   "id": "0e2e3398-da87-4ca7-aec1-13b8265a65c2",
   "metadata": {},
   "outputs": [
    {
     "data": {
      "text/html": [
       "<style type=\"text/css\">\n",
       "</style>\n",
       "<table id=\"T_27885\">\n",
       "  <thead>\n",
       "    <tr>\n",
       "      <th class=\"blank level0\" >&nbsp;</th>\n",
       "      <th id=\"T_27885_level0_col0\" class=\"col_heading level0 col0\" >count</th>\n",
       "      <th id=\"T_27885_level0_col1\" class=\"col_heading level0 col1\" >unique</th>\n",
       "      <th id=\"T_27885_level0_col2\" class=\"col_heading level0 col2\" >top</th>\n",
       "      <th id=\"T_27885_level0_col3\" class=\"col_heading level0 col3\" >freq</th>\n",
       "    </tr>\n",
       "  </thead>\n",
       "  <tbody>\n",
       "    <tr>\n",
       "      <th id=\"T_27885_level0_row0\" class=\"row_heading level0 row0\" >Date</th>\n",
       "      <td id=\"T_27885_row0_col0\" class=\"data row0 col0\" >507</td>\n",
       "      <td id=\"T_27885_row0_col1\" class=\"data row0 col1\" >494</td>\n",
       "      <td id=\"T_27885_row0_col2\" class=\"data row0 col2\" >3/2/20</td>\n",
       "      <td id=\"T_27885_row0_col3\" class=\"data row0 col3\" >2</td>\n",
       "    </tr>\n",
       "    <tr>\n",
       "      <th id=\"T_27885_level0_row1\" class=\"row_heading level0 row1\" >Value</th>\n",
       "      <td id=\"T_27885_row1_col0\" class=\"data row1 col0\" >507</td>\n",
       "      <td id=\"T_27885_row1_col1\" class=\"data row1 col1\" >461</td>\n",
       "      <td id=\"T_27885_row1_col2\" class=\"data row1 col2\" >1576000</td>\n",
       "      <td id=\"T_27885_row1_col3\" class=\"data row1 col3\" >3</td>\n",
       "    </tr>\n",
       "  </tbody>\n",
       "</table>\n"
      ],
      "text/plain": [
       "<pandas.io.formats.style.Styler at 0x7f9763a8e8f0>"
      ]
     },
     "execution_count": 29,
     "metadata": {},
     "output_type": "execute_result"
    }
   ],
   "source": [
    "stock_tv.describe().T.style"
   ]
  },
  {
   "cell_type": "code",
   "execution_count": 30,
   "id": "59d23ee4-7abb-4cf3-a19e-f4fdd9056f30",
   "metadata": {},
   "outputs": [
    {
     "data": {
      "text/html": [
       "<style type=\"text/css\">\n",
       "</style>\n",
       "<table id=\"T_6f143\">\n",
       "  <thead>\n",
       "    <tr>\n",
       "      <th class=\"blank level0\" >&nbsp;</th>\n",
       "      <th id=\"T_6f143_level0_col0\" class=\"col_heading level0 col0\" >Date</th>\n",
       "      <th id=\"T_6f143_level0_col1\" class=\"col_heading level0 col1\" >Value</th>\n",
       "    </tr>\n",
       "  </thead>\n",
       "  <tbody>\n",
       "    <tr>\n",
       "      <th id=\"T_6f143_level0_row0\" class=\"row_heading level0 row0\" >0</th>\n",
       "      <td id=\"T_6f143_row0_col0\" class=\"data row0 col0\" >12/2/15</td>\n",
       "      <td id=\"T_6f143_row0_col1\" class=\"data row0 col1\" >1088000</td>\n",
       "    </tr>\n",
       "    <tr>\n",
       "      <th id=\"T_6f143_level0_row1\" class=\"row_heading level0 row1\" >1</th>\n",
       "      <td id=\"T_6f143_row1_col0\" class=\"data row1 col0\" >12/3/15</td>\n",
       "      <td id=\"T_6f143_row1_col1\" class=\"data row1 col1\" >1379000</td>\n",
       "    </tr>\n",
       "    <tr>\n",
       "      <th id=\"T_6f143_level0_row2\" class=\"row_heading level0 row2\" >2</th>\n",
       "      <td id=\"T_6f143_row2_col0\" class=\"data row2 col0\" >12/4/15</td>\n",
       "      <td id=\"T_6f143_row2_col1\" class=\"data row2 col1\" >1308000</td>\n",
       "    </tr>\n",
       "    <tr>\n",
       "      <th id=\"T_6f143_level0_row3\" class=\"row_heading level0 row3\" >3</th>\n",
       "      <td id=\"T_6f143_row3_col0\" class=\"data row3 col0\" >12/7/15</td>\n",
       "      <td id=\"T_6f143_row3_col1\" class=\"data row3 col1\" >712744</td>\n",
       "    </tr>\n",
       "    <tr>\n",
       "      <th id=\"T_6f143_level0_row4\" class=\"row_heading level0 row4\" >4</th>\n",
       "      <td id=\"T_6f143_row4_col0\" class=\"data row4 col0\" >12/8/15</td>\n",
       "      <td id=\"T_6f143_row4_col1\" class=\"data row4 col1\" >670998</td>\n",
       "    </tr>\n",
       "  </tbody>\n",
       "</table>\n"
      ],
      "text/plain": [
       "<pandas.io.formats.style.Styler at 0x7f9740250ee0>"
      ]
     },
     "execution_count": 30,
     "metadata": {},
     "output_type": "execute_result"
    }
   ],
   "source": [
    "stock_tv.head().style"
   ]
  },
  {
   "cell_type": "code",
   "execution_count": 31,
   "id": "81285d50-6cbb-4dbd-a076-beec9e876764",
   "metadata": {},
   "outputs": [
    {
     "data": {
      "text/html": [
       "<style type=\"text/css\">\n",
       "</style>\n",
       "<table id=\"T_ee492\">\n",
       "  <thead>\n",
       "    <tr>\n",
       "      <th class=\"blank level0\" >&nbsp;</th>\n",
       "      <th id=\"T_ee492_level0_col0\" class=\"col_heading level0 col0\" >% missing</th>\n",
       "    </tr>\n",
       "  </thead>\n",
       "  <tbody>\n",
       "    <tr>\n",
       "      <th id=\"T_ee492_level0_row0\" class=\"row_heading level0 row0\" >Date</th>\n",
       "      <td id=\"T_ee492_row0_col0\" class=\"data row0 col0\" >0.000</td>\n",
       "    </tr>\n",
       "    <tr>\n",
       "      <th id=\"T_ee492_level0_row1\" class=\"row_heading level0 row1\" >Value</th>\n",
       "      <td id=\"T_ee492_row1_col0\" class=\"data row1 col0\" >0.000</td>\n",
       "    </tr>\n",
       "  </tbody>\n",
       "</table>\n"
      ],
      "text/plain": [
       "<pandas.io.formats.style.Styler at 0x7f9763a8f9a0>"
      ]
     },
     "execution_count": 31,
     "metadata": {},
     "output_type": "execute_result"
    }
   ],
   "source": [
    "# Missing values\n",
    "(\n",
    "    ( # these lines do the calculation - what % of missing values are there for each var\n",
    "        stock_tv.isna()      \n",
    "       .sum(axis=0)     \n",
    "        /len(stock_tv)       # convert # missing to % missing \n",
    "        *100            # report as percentage\n",
    "    ) \n",
    "    .sort_values(ascending=False)\n",
    "    .to_frame(name='% missing') \n",
    "    .style.format(\"{:.3f}\")     \n",
    ")"
   ]
  },
  {
   "cell_type": "code",
   "execution_count": 32,
   "id": "c7504576-07c9-430e-9606-487f892a1638",
   "metadata": {},
   "outputs": [],
   "source": [
    "# cleaning for missing data\n",
    "stock_tv.dropna(inplace=True)"
   ]
  },
  {
   "cell_type": "code",
   "execution_count": 33,
   "id": "9e784586-c278-4597-9a94-0ef67e624d37",
   "metadata": {},
   "outputs": [],
   "source": [
    "# Convert to numeric\n",
    "stock_tv['Value'] = stock_tv['Value'].replace('#VALUE!', np.nan)\n",
    "\n",
    "stock_tv['Value'] = stock_tv['Value'].astype(float)"
   ]
  },
  {
   "cell_type": "code",
   "execution_count": 34,
   "id": "f4a05333-92cd-4eed-841d-285810ef5df5",
   "metadata": {},
   "outputs": [
    {
     "data": {
      "text/html": [
       "<style type=\"text/css\">\n",
       "</style>\n",
       "<table id=\"T_f11de\">\n",
       "  <thead>\n",
       "    <tr>\n",
       "      <th class=\"blank level0\" >&nbsp;</th>\n",
       "      <th id=\"T_f11de_level0_col0\" class=\"col_heading level0 col0\" >count</th>\n",
       "      <th id=\"T_f11de_level0_col1\" class=\"col_heading level0 col1\" >mean</th>\n",
       "      <th id=\"T_f11de_level0_col2\" class=\"col_heading level0 col2\" >std</th>\n",
       "      <th id=\"T_f11de_level0_col3\" class=\"col_heading level0 col3\" >min</th>\n",
       "      <th id=\"T_f11de_level0_col4\" class=\"col_heading level0 col4\" >1%</th>\n",
       "      <th id=\"T_f11de_level0_col5\" class=\"col_heading level0 col5\" >5%</th>\n",
       "      <th id=\"T_f11de_level0_col6\" class=\"col_heading level0 col6\" >50%</th>\n",
       "      <th id=\"T_f11de_level0_col7\" class=\"col_heading level0 col7\" >95%</th>\n",
       "      <th id=\"T_f11de_level0_col8\" class=\"col_heading level0 col8\" >99%</th>\n",
       "      <th id=\"T_f11de_level0_col9\" class=\"col_heading level0 col9\" >max</th>\n",
       "    </tr>\n",
       "  </thead>\n",
       "  <tbody>\n",
       "    <tr>\n",
       "      <th id=\"T_f11de_level0_row0\" class=\"row_heading level0 row0\" >Value</th>\n",
       "      <td id=\"T_f11de_row0_col0\" class=\"data row0 col0\" >505.00</td>\n",
       "      <td id=\"T_f11de_row0_col1\" class=\"data row0 col1\" >1,828,502.60</td>\n",
       "      <td id=\"T_f11de_row0_col2\" class=\"data row0 col2\" >724,755.14</td>\n",
       "      <td id=\"T_f11de_row0_col3\" class=\"data row0 col3\" >462,036.00</td>\n",
       "      <td id=\"T_f11de_row0_col4\" class=\"data row0 col4\" >672,667.84</td>\n",
       "      <td id=\"T_f11de_row0_col5\" class=\"data row0 col5\" >879,416.40</td>\n",
       "      <td id=\"T_f11de_row0_col6\" class=\"data row0 col6\" >1,710,000.00</td>\n",
       "      <td id=\"T_f11de_row0_col7\" class=\"data row0 col7\" >3,119,200.00</td>\n",
       "      <td id=\"T_f11de_row0_col8\" class=\"data row0 col8\" >3,491,680.00</td>\n",
       "      <td id=\"T_f11de_row0_col9\" class=\"data row0 col9\" >4,203,000.00</td>\n",
       "    </tr>\n",
       "  </tbody>\n",
       "</table>\n"
      ],
      "text/plain": [
       "<pandas.io.formats.style.Styler at 0x7f9763a8f910>"
      ]
     },
     "execution_count": 34,
     "metadata": {},
     "output_type": "execute_result"
    }
   ],
   "source": [
    "# Outliers\n",
    "stock_tv.describe(percentiles=[.01,.05,.95,.99]).T.style.format('{:,.2f}')"
   ]
  },
  {
   "cell_type": "markdown",
   "id": "8a37b2c6-dd8d-4fa2-89d7-318bd0ce46ea",
   "metadata": {},
   "source": [
    "This suggests that there are extreme values in the dataset that are much larger than the typical range of values. "
   ]
  },
  {
   "cell_type": "code",
   "execution_count": 35,
   "id": "565c5cc8-6bf9-4252-9cb7-26f718bec682",
   "metadata": {},
   "outputs": [
    {
     "name": "stdout",
     "output_type": "stream",
     "text": [
      "Date      object\n",
      "Value    float64\n",
      "dtype: object\n"
     ]
    }
   ],
   "source": [
    "#Exploring dataset \n",
    "print(stock_tv.dtypes)"
   ]
  },
  {
   "cell_type": "code",
   "execution_count": 36,
   "id": "4b53e0b6-60dc-4982-b7d0-5f54bc40a722",
   "metadata": {},
   "outputs": [
    {
     "data": {
      "image/png": "[encoded data removed]",
      "text/plain": [
       "<Figure size 250x250 with 2 Axes>"
      ]
     },
     "metadata": {},
     "output_type": "display_data"
    }
   ],
   "source": [
    "sns.pairplot(stock_tv)\n",
    "plt.show()"
   ]
  },
  {
   "cell_type": "markdown",
   "id": "dfd2e946-1789-42f8-ad04-7e1025513698",
   "metadata": {},
   "source": [
    "### VBLIX"
   ]
  },
  {
   "cell_type": "code",
   "execution_count": 37,
   "id": "aa4a8f59-1c2f-4875-b44a-db956ca81257",
   "metadata": {},
   "outputs": [
    {
     "data": {
      "text/html": [
       "<style type=\"text/css\">\n",
       "</style>\n",
       "<table id=\"T_f0dc4\">\n",
       "  <thead>\n",
       "    <tr>\n",
       "      <th class=\"blank level0\" >&nbsp;</th>\n",
       "      <th id=\"T_f0dc4_level0_col0\" class=\"col_heading level0 col0\" >count</th>\n",
       "      <th id=\"T_f0dc4_level0_col1\" class=\"col_heading level0 col1\" >mean</th>\n",
       "      <th id=\"T_f0dc4_level0_col2\" class=\"col_heading level0 col2\" >std</th>\n",
       "      <th id=\"T_f0dc4_level0_col3\" class=\"col_heading level0 col3\" >min</th>\n",
       "      <th id=\"T_f0dc4_level0_col4\" class=\"col_heading level0 col4\" >25%</th>\n",
       "      <th id=\"T_f0dc4_level0_col5\" class=\"col_heading level0 col5\" >50%</th>\n",
       "      <th id=\"T_f0dc4_level0_col6\" class=\"col_heading level0 col6\" >75%</th>\n",
       "      <th id=\"T_f0dc4_level0_col7\" class=\"col_heading level0 col7\" >max</th>\n",
       "    </tr>\n",
       "  </thead>\n",
       "  <tbody>\n",
       "    <tr>\n",
       "      <th id=\"T_f0dc4_level0_row0\" class=\"row_heading level0 row0\" >Daily Price</th>\n",
       "      <td id=\"T_f0dc4_row0_col0\" class=\"data row0 col0\" >2,091.00</td>\n",
       "      <td id=\"T_f0dc4_row0_col1\" class=\"data row0 col1\" >10.26</td>\n",
       "      <td id=\"T_f0dc4_row0_col2\" class=\"data row0 col2\" >0.87</td>\n",
       "      <td id=\"T_f0dc4_row0_col3\" class=\"data row0 col3\" >9.02</td>\n",
       "      <td id=\"T_f0dc4_row0_col4\" class=\"data row0 col4\" >9.56</td>\n",
       "      <td id=\"T_f0dc4_row0_col5\" class=\"data row0 col5\" >9.88</td>\n",
       "      <td id=\"T_f0dc4_row0_col6\" class=\"data row0 col6\" >11.00</td>\n",
       "      <td id=\"T_f0dc4_row0_col7\" class=\"data row0 col7\" >11.85</td>\n",
       "    </tr>\n",
       "    <tr>\n",
       "      <th id=\"T_f0dc4_level0_row1\" class=\"row_heading level0 row1\" >Trading Volume</th>\n",
       "      <td id=\"T_f0dc4_row1_col0\" class=\"data row1 col0\" >2,091.00</td>\n",
       "      <td id=\"T_f0dc4_row1_col1\" class=\"data row1 col1\" >0.00</td>\n",
       "      <td id=\"T_f0dc4_row1_col2\" class=\"data row1 col2\" >0.00</td>\n",
       "      <td id=\"T_f0dc4_row1_col3\" class=\"data row1 col3\" >0.00</td>\n",
       "      <td id=\"T_f0dc4_row1_col4\" class=\"data row1 col4\" >0.00</td>\n",
       "      <td id=\"T_f0dc4_row1_col5\" class=\"data row1 col5\" >0.00</td>\n",
       "      <td id=\"T_f0dc4_row1_col6\" class=\"data row1 col6\" >0.00</td>\n",
       "      <td id=\"T_f0dc4_row1_col7\" class=\"data row1 col7\" >0.00</td>\n",
       "    </tr>\n",
       "  </tbody>\n",
       "</table>\n"
      ],
      "text/plain": [
       "<pandas.io.formats.style.Styler at 0x7f9763ac0190>"
      ]
     },
     "execution_count": 37,
     "metadata": {},
     "output_type": "execute_result"
    }
   ],
   "source": [
    "Vbilx.describe().T.style.format('{:,.2f}')"
   ]
  },
  {
   "cell_type": "code",
   "execution_count": 38,
   "id": "6ff786d4-225c-4000-b167-2c7b9abcc419",
   "metadata": {},
   "outputs": [
    {
     "data": {
      "text/html": [
       "<style type=\"text/css\">\n",
       "</style>\n",
       "<table id=\"T_49b13\">\n",
       "  <thead>\n",
       "    <tr>\n",
       "      <th class=\"blank level0\" >&nbsp;</th>\n",
       "      <th id=\"T_49b13_level0_col0\" class=\"col_heading level0 col0\" >Daily Returns</th>\n",
       "      <th id=\"T_49b13_level0_col1\" class=\"col_heading level0 col1\" >Daily Price</th>\n",
       "      <th id=\"T_49b13_level0_col2\" class=\"col_heading level0 col2\" >Trading Volume</th>\n",
       "    </tr>\n",
       "    <tr>\n",
       "      <th class=\"index_name level0\" >Date</th>\n",
       "      <th class=\"blank col0\" >&nbsp;</th>\n",
       "      <th class=\"blank col1\" >&nbsp;</th>\n",
       "      <th class=\"blank col2\" >&nbsp;</th>\n",
       "    </tr>\n",
       "  </thead>\n",
       "  <tbody>\n",
       "    <tr>\n",
       "      <th id=\"T_49b13_level0_row0\" class=\"row_heading level0 row0\" >2015-01-02 00:00:00</th>\n",
       "      <td id=\"T_49b13_row0_col0\" class=\"data row0 col0\" >0.000000</td>\n",
       "      <td id=\"T_49b13_row0_col1\" class=\"data row0 col1\" >9.095692</td>\n",
       "      <td id=\"T_49b13_row0_col2\" class=\"data row0 col2\" >0.000000</td>\n",
       "    </tr>\n",
       "    <tr>\n",
       "      <th id=\"T_49b13_level0_row1\" class=\"row_heading level0 row1\" >2015-01-05 00:00:00</th>\n",
       "      <td id=\"T_49b13_row1_col0\" class=\"data row1 col0\" >0.004348</td>\n",
       "      <td id=\"T_49b13_row1_col1\" class=\"data row1 col1\" >9.135242</td>\n",
       "      <td id=\"T_49b13_row1_col2\" class=\"data row1 col2\" >0.000000</td>\n",
       "    </tr>\n",
       "    <tr>\n",
       "      <th id=\"T_49b13_level0_row2\" class=\"row_heading level0 row2\" >2015-01-06 00:00:00</th>\n",
       "      <td id=\"T_49b13_row2_col0\" class=\"data row2 col0\" >0.004329</td>\n",
       "      <td id=\"T_49b13_row2_col1\" class=\"data row2 col1\" >9.174790</td>\n",
       "      <td id=\"T_49b13_row2_col2\" class=\"data row2 col2\" >0.000000</td>\n",
       "    </tr>\n",
       "    <tr>\n",
       "      <th id=\"T_49b13_level0_row3\" class=\"row_heading level0 row3\" >2015-01-07 00:00:00</th>\n",
       "      <td id=\"T_49b13_row3_col0\" class=\"data row3 col0\" >0.000000</td>\n",
       "      <td id=\"T_49b13_row3_col1\" class=\"data row3 col1\" >9.174790</td>\n",
       "      <td id=\"T_49b13_row3_col2\" class=\"data row3 col2\" >0.000000</td>\n",
       "    </tr>\n",
       "    <tr>\n",
       "      <th id=\"T_49b13_level0_row4\" class=\"row_heading level0 row4\" >2015-01-08 00:00:00</th>\n",
       "      <td id=\"T_49b13_row4_col0\" class=\"data row4 col0\" >-0.002586</td>\n",
       "      <td id=\"T_49b13_row4_col1\" class=\"data row4 col1\" >9.151062</td>\n",
       "      <td id=\"T_49b13_row4_col2\" class=\"data row4 col2\" >0.000000</td>\n",
       "    </tr>\n",
       "  </tbody>\n",
       "</table>\n"
      ],
      "text/plain": [
       "<pandas.io.formats.style.Styler at 0x7f977261a0b0>"
      ]
     },
     "execution_count": 38,
     "metadata": {},
     "output_type": "execute_result"
    }
   ],
   "source": [
    "Vbilx.head().style"
   ]
  },
  {
   "cell_type": "code",
   "execution_count": 39,
   "id": "2ab54bcf-d222-4695-8d28-8b2a3337a564",
   "metadata": {},
   "outputs": [
    {
     "data": {
      "text/html": [
       "<style type=\"text/css\">\n",
       "</style>\n",
       "<table id=\"T_9279d\">\n",
       "  <thead>\n",
       "    <tr>\n",
       "      <th class=\"blank level0\" >&nbsp;</th>\n",
       "      <th id=\"T_9279d_level0_col0\" class=\"col_heading level0 col0\" >% missing</th>\n",
       "    </tr>\n",
       "  </thead>\n",
       "  <tbody>\n",
       "    <tr>\n",
       "      <th id=\"T_9279d_level0_row0\" class=\"row_heading level0 row0\" >Daily Price</th>\n",
       "      <td id=\"T_9279d_row0_col0\" class=\"data row0 col0\" >0.048</td>\n",
       "    </tr>\n",
       "    <tr>\n",
       "      <th id=\"T_9279d_level0_row1\" class=\"row_heading level0 row1\" >Trading Volume</th>\n",
       "      <td id=\"T_9279d_row1_col0\" class=\"data row1 col0\" >0.048</td>\n",
       "    </tr>\n",
       "    <tr>\n",
       "      <th id=\"T_9279d_level0_row2\" class=\"row_heading level0 row2\" >Daily Returns</th>\n",
       "      <td id=\"T_9279d_row2_col0\" class=\"data row2 col0\" >0.000</td>\n",
       "    </tr>\n",
       "  </tbody>\n",
       "</table>\n"
      ],
      "text/plain": [
       "<pandas.io.formats.style.Styler at 0x7f9761a17fa0>"
      ]
     },
     "execution_count": 39,
     "metadata": {},
     "output_type": "execute_result"
    }
   ],
   "source": [
    "# Missing values\n",
    "(\n",
    "    ( # these lines do the calculation - what % of missing values are there for each var\n",
    "        Vbilx.isna()      \n",
    "       .sum(axis=0)     \n",
    "        /len(Vbilx)       # convert # missing to % missing \n",
    "        *100            # report as percentage\n",
    "    ) \n",
    "    .sort_values(ascending=False)\n",
    "    .to_frame(name='% missing') \n",
    "    .style.format(\"{:.3f}\")     \n",
    ")"
   ]
  },
  {
   "cell_type": "code",
   "execution_count": 40,
   "id": "c3e5c42f-df33-4b45-80fc-bfb1e605fa15",
   "metadata": {},
   "outputs": [],
   "source": [
    "# cleaning for missing data\n",
    "Vbilx.dropna(inplace=True)"
   ]
  },
  {
   "cell_type": "code",
   "execution_count": 41,
   "id": "3b4a167e-d1c5-4c94-95a9-fdf4ba466b33",
   "metadata": {},
   "outputs": [],
   "source": [
    "# Convert to numeric\n",
    "Vbilx['Daily Returns'] = Vbilx['Daily Returns'].astype(float)\n",
    "\n",
    "Vbilx['Trading Volume'] = Vbilx['Trading Volume'].astype(float)"
   ]
  },
  {
   "cell_type": "code",
   "execution_count": 42,
   "id": "e4a4ade0-d9ec-4e4e-9fb4-9ae2906740dc",
   "metadata": {},
   "outputs": [
    {
     "data": {
      "text/html": [
       "<style type=\"text/css\">\n",
       "</style>\n",
       "<table id=\"T_19979\">\n",
       "  <thead>\n",
       "    <tr>\n",
       "      <th class=\"blank level0\" >&nbsp;</th>\n",
       "      <th id=\"T_19979_level0_col0\" class=\"col_heading level0 col0\" >count</th>\n",
       "      <th id=\"T_19979_level0_col1\" class=\"col_heading level0 col1\" >mean</th>\n",
       "      <th id=\"T_19979_level0_col2\" class=\"col_heading level0 col2\" >std</th>\n",
       "      <th id=\"T_19979_level0_col3\" class=\"col_heading level0 col3\" >min</th>\n",
       "      <th id=\"T_19979_level0_col4\" class=\"col_heading level0 col4\" >1%</th>\n",
       "      <th id=\"T_19979_level0_col5\" class=\"col_heading level0 col5\" >5%</th>\n",
       "      <th id=\"T_19979_level0_col6\" class=\"col_heading level0 col6\" >50%</th>\n",
       "      <th id=\"T_19979_level0_col7\" class=\"col_heading level0 col7\" >95%</th>\n",
       "      <th id=\"T_19979_level0_col8\" class=\"col_heading level0 col8\" >99%</th>\n",
       "      <th id=\"T_19979_level0_col9\" class=\"col_heading level0 col9\" >max</th>\n",
       "    </tr>\n",
       "  </thead>\n",
       "  <tbody>\n",
       "    <tr>\n",
       "      <th id=\"T_19979_level0_row0\" class=\"row_heading level0 row0\" >Daily Returns</th>\n",
       "      <td id=\"T_19979_row0_col0\" class=\"data row0 col0\" >2,091.00</td>\n",
       "      <td id=\"T_19979_row0_col1\" class=\"data row0 col1\" >0.00</td>\n",
       "      <td id=\"T_19979_row0_col2\" class=\"data row0 col2\" >0.00</td>\n",
       "      <td id=\"T_19979_row0_col3\" class=\"data row0 col3\" >-0.02</td>\n",
       "      <td id=\"T_19979_row0_col4\" class=\"data row0 col4\" >-0.01</td>\n",
       "      <td id=\"T_19979_row0_col5\" class=\"data row0 col5\" >-0.01</td>\n",
       "      <td id=\"T_19979_row0_col6\" class=\"data row0 col6\" >0.00</td>\n",
       "      <td id=\"T_19979_row0_col7\" class=\"data row0 col7\" >0.00</td>\n",
       "      <td id=\"T_19979_row0_col8\" class=\"data row0 col8\" >0.01</td>\n",
       "      <td id=\"T_19979_row0_col9\" class=\"data row0 col9\" >0.02</td>\n",
       "    </tr>\n",
       "    <tr>\n",
       "      <th id=\"T_19979_level0_row1\" class=\"row_heading level0 row1\" >Daily Price</th>\n",
       "      <td id=\"T_19979_row1_col0\" class=\"data row1 col0\" >2,091.00</td>\n",
       "      <td id=\"T_19979_row1_col1\" class=\"data row1 col1\" >10.26</td>\n",
       "      <td id=\"T_19979_row1_col2\" class=\"data row1 col2\" >0.87</td>\n",
       "      <td id=\"T_19979_row1_col3\" class=\"data row1 col3\" >9.02</td>\n",
       "      <td id=\"T_19979_row1_col4\" class=\"data row1 col4\" >9.10</td>\n",
       "      <td id=\"T_19979_row1_col5\" class=\"data row1 col5\" >9.18</td>\n",
       "      <td id=\"T_19979_row1_col6\" class=\"data row1 col6\" >9.88</td>\n",
       "      <td id=\"T_19979_row1_col7\" class=\"data row1 col7\" >11.75</td>\n",
       "      <td id=\"T_19979_row1_col8\" class=\"data row1 col8\" >11.80</td>\n",
       "      <td id=\"T_19979_row1_col9\" class=\"data row1 col9\" >11.85</td>\n",
       "    </tr>\n",
       "    <tr>\n",
       "      <th id=\"T_19979_level0_row2\" class=\"row_heading level0 row2\" >Trading Volume</th>\n",
       "      <td id=\"T_19979_row2_col0\" class=\"data row2 col0\" >2,091.00</td>\n",
       "      <td id=\"T_19979_row2_col1\" class=\"data row2 col1\" >0.00</td>\n",
       "      <td id=\"T_19979_row2_col2\" class=\"data row2 col2\" >0.00</td>\n",
       "      <td id=\"T_19979_row2_col3\" class=\"data row2 col3\" >0.00</td>\n",
       "      <td id=\"T_19979_row2_col4\" class=\"data row2 col4\" >0.00</td>\n",
       "      <td id=\"T_19979_row2_col5\" class=\"data row2 col5\" >0.00</td>\n",
       "      <td id=\"T_19979_row2_col6\" class=\"data row2 col6\" >0.00</td>\n",
       "      <td id=\"T_19979_row2_col7\" class=\"data row2 col7\" >0.00</td>\n",
       "      <td id=\"T_19979_row2_col8\" class=\"data row2 col8\" >0.00</td>\n",
       "      <td id=\"T_19979_row2_col9\" class=\"data row2 col9\" >0.00</td>\n",
       "    </tr>\n",
       "  </tbody>\n",
       "</table>\n"
      ],
      "text/plain": [
       "<pandas.io.formats.style.Styler at 0x7f97725f1f90>"
      ]
     },
     "execution_count": 42,
     "metadata": {},
     "output_type": "execute_result"
    }
   ],
   "source": [
    "# Outliers\n",
    "Vbilx.describe(percentiles=[.01,.05,.95,.99]).T.style.format('{:,.2f}')"
   ]
  },
  {
   "cell_type": "markdown",
   "id": "44daab62-b88a-4890-9858-5bb3571db771",
   "metadata": {},
   "source": [
    "This suggests that the outliers are heavily skewed towards the upper end of the distribution."
   ]
  },
  {
   "cell_type": "code",
   "execution_count": 43,
   "id": "4a1ba462-efa3-4709-844b-bea17c30ecf6",
   "metadata": {},
   "outputs": [
    {
     "name": "stdout",
     "output_type": "stream",
     "text": [
      "Daily Returns     float64\n",
      "Daily Price       float64\n",
      "Trading Volume    float64\n",
      "dtype: object\n"
     ]
    }
   ],
   "source": [
    "#Exploring dataset \n",
    "print(Vbilx.dtypes)"
   ]
  },
  {
   "cell_type": "code",
   "execution_count": 44,
   "id": "00b1646b-2f95-48dd-b3ed-8dd48ccd489c",
   "metadata": {},
   "outputs": [
    {
     "data": {
      "image/png": "[encoded data removed]",
      "text/plain": [
       "<Figure size 750x750 with 12 Axes>"
      ]
     },
     "metadata": {},
     "output_type": "display_data"
    }
   ],
   "source": [
    "sns.pairplot(Vbilx)\n",
    "plt.show()"
   ]
  },
  {
   "cell_type": "markdown",
   "id": "c805078b-1367-4f20-b165-fda945af5c62",
   "metadata": {},
   "source": [
    "### VBIRX"
   ]
  },
  {
   "cell_type": "code",
   "execution_count": 45,
   "id": "4a8d51c1-432b-4c31-8af4-af044419f174",
   "metadata": {},
   "outputs": [
    {
     "data": {
      "text/html": [
       "<style type=\"text/css\">\n",
       "</style>\n",
       "<table id=\"T_0f712\">\n",
       "  <thead>\n",
       "    <tr>\n",
       "      <th class=\"blank level0\" >&nbsp;</th>\n",
       "      <th id=\"T_0f712_level0_col0\" class=\"col_heading level0 col0\" >count</th>\n",
       "      <th id=\"T_0f712_level0_col1\" class=\"col_heading level0 col1\" >mean</th>\n",
       "      <th id=\"T_0f712_level0_col2\" class=\"col_heading level0 col2\" >std</th>\n",
       "      <th id=\"T_0f712_level0_col3\" class=\"col_heading level0 col3\" >min</th>\n",
       "      <th id=\"T_0f712_level0_col4\" class=\"col_heading level0 col4\" >25%</th>\n",
       "      <th id=\"T_0f712_level0_col5\" class=\"col_heading level0 col5\" >50%</th>\n",
       "      <th id=\"T_0f712_level0_col6\" class=\"col_heading level0 col6\" >75%</th>\n",
       "      <th id=\"T_0f712_level0_col7\" class=\"col_heading level0 col7\" >max</th>\n",
       "    </tr>\n",
       "  </thead>\n",
       "  <tbody>\n",
       "    <tr>\n",
       "      <th id=\"T_0f712_level0_row0\" class=\"row_heading level0 row0\" >Daily Price</th>\n",
       "      <td id=\"T_0f712_row0_col0\" class=\"data row0 col0\" >2,091.00</td>\n",
       "      <td id=\"T_0f712_row0_col1\" class=\"data row0 col1\" >9.78</td>\n",
       "      <td id=\"T_0f712_row0_col2\" class=\"data row0 col2\" >0.45</td>\n",
       "      <td id=\"T_0f712_row0_col3\" class=\"data row0 col3\" >9.15</td>\n",
       "      <td id=\"T_0f712_row0_col4\" class=\"data row0 col4\" >9.40</td>\n",
       "      <td id=\"T_0f712_row0_col5\" class=\"data row0 col5\" >9.65</td>\n",
       "      <td id=\"T_0f712_row0_col6\" class=\"data row0 col6\" >10.14</td>\n",
       "      <td id=\"T_0f712_row0_col7\" class=\"data row0 col7\" >10.55</td>\n",
       "    </tr>\n",
       "    <tr>\n",
       "      <th id=\"T_0f712_level0_row1\" class=\"row_heading level0 row1\" >Trading Volume</th>\n",
       "      <td id=\"T_0f712_row1_col0\" class=\"data row1 col0\" >2,091.00</td>\n",
       "      <td id=\"T_0f712_row1_col1\" class=\"data row1 col1\" >0.00</td>\n",
       "      <td id=\"T_0f712_row1_col2\" class=\"data row1 col2\" >0.00</td>\n",
       "      <td id=\"T_0f712_row1_col3\" class=\"data row1 col3\" >0.00</td>\n",
       "      <td id=\"T_0f712_row1_col4\" class=\"data row1 col4\" >0.00</td>\n",
       "      <td id=\"T_0f712_row1_col5\" class=\"data row1 col5\" >0.00</td>\n",
       "      <td id=\"T_0f712_row1_col6\" class=\"data row1 col6\" >0.00</td>\n",
       "      <td id=\"T_0f712_row1_col7\" class=\"data row1 col7\" >0.00</td>\n",
       "    </tr>\n",
       "  </tbody>\n",
       "</table>\n"
      ],
      "text/plain": [
       "<pandas.io.formats.style.Styler at 0x7f9763b77e50>"
      ]
     },
     "execution_count": 45,
     "metadata": {},
     "output_type": "execute_result"
    }
   ],
   "source": [
    "Vbirx.describe().T.style.format('{:,.2f}')"
   ]
  },
  {
   "cell_type": "code",
   "execution_count": 46,
   "id": "95cde9cb-497b-40e4-962a-542a92583baa",
   "metadata": {},
   "outputs": [
    {
     "data": {
      "text/html": [
       "<style type=\"text/css\">\n",
       "</style>\n",
       "<table id=\"T_63e5b\">\n",
       "  <thead>\n",
       "    <tr>\n",
       "      <th class=\"blank level0\" >&nbsp;</th>\n",
       "      <th id=\"T_63e5b_level0_col0\" class=\"col_heading level0 col0\" >Daily Returns</th>\n",
       "      <th id=\"T_63e5b_level0_col1\" class=\"col_heading level0 col1\" >Daily Price</th>\n",
       "      <th id=\"T_63e5b_level0_col2\" class=\"col_heading level0 col2\" >Trading Volume</th>\n",
       "    </tr>\n",
       "    <tr>\n",
       "      <th class=\"index_name level0\" >Date</th>\n",
       "      <th class=\"blank col0\" >&nbsp;</th>\n",
       "      <th class=\"blank col1\" >&nbsp;</th>\n",
       "      <th class=\"blank col2\" >&nbsp;</th>\n",
       "    </tr>\n",
       "  </thead>\n",
       "  <tbody>\n",
       "    <tr>\n",
       "      <th id=\"T_63e5b_level0_row0\" class=\"row_heading level0 row0\" >2015-01-02 00:00:00</th>\n",
       "      <td id=\"T_63e5b_row0_col0\" class=\"data row0 col0\" >nan</td>\n",
       "      <td id=\"T_63e5b_row0_col1\" class=\"data row0 col1\" >9.148484</td>\n",
       "      <td id=\"T_63e5b_row0_col2\" class=\"data row0 col2\" >0.000000</td>\n",
       "    </tr>\n",
       "    <tr>\n",
       "      <th id=\"T_63e5b_level0_row1\" class=\"row_heading level0 row1\" >2015-01-05 00:00:00</th>\n",
       "      <td id=\"T_63e5b_row1_col0\" class=\"data row1 col0\" >0.000954</td>\n",
       "      <td id=\"T_63e5b_row1_col1\" class=\"data row1 col1\" >9.157212</td>\n",
       "      <td id=\"T_63e5b_row1_col2\" class=\"data row1 col2\" >0.000000</td>\n",
       "    </tr>\n",
       "    <tr>\n",
       "      <th id=\"T_63e5b_level0_row2\" class=\"row_heading level0 row2\" >2015-01-06 00:00:00</th>\n",
       "      <td id=\"T_63e5b_row2_col0\" class=\"data row2 col0\" >0.000952</td>\n",
       "      <td id=\"T_63e5b_row2_col1\" class=\"data row2 col1\" >9.165929</td>\n",
       "      <td id=\"T_63e5b_row2_col2\" class=\"data row2 col2\" >0.000000</td>\n",
       "    </tr>\n",
       "    <tr>\n",
       "      <th id=\"T_63e5b_level0_row3\" class=\"row_heading level0 row3\" >2015-01-07 00:00:00</th>\n",
       "      <td id=\"T_63e5b_row3_col0\" class=\"data row3 col0\" >0.000951</td>\n",
       "      <td id=\"T_63e5b_row3_col1\" class=\"data row3 col1\" >9.174650</td>\n",
       "      <td id=\"T_63e5b_row3_col2\" class=\"data row3 col2\" >0.000000</td>\n",
       "    </tr>\n",
       "    <tr>\n",
       "      <th id=\"T_63e5b_level0_row4\" class=\"row_heading level0 row4\" >2015-01-08 00:00:00</th>\n",
       "      <td id=\"T_63e5b_row4_col0\" class=\"data row4 col0\" >-0.000951</td>\n",
       "      <td id=\"T_63e5b_row4_col1\" class=\"data row4 col1\" >9.165929</td>\n",
       "      <td id=\"T_63e5b_row4_col2\" class=\"data row4 col2\" >0.000000</td>\n",
       "    </tr>\n",
       "  </tbody>\n",
       "</table>\n"
      ],
      "text/plain": [
       "<pandas.io.formats.style.Styler at 0x7f977277b670>"
      ]
     },
     "execution_count": 46,
     "metadata": {},
     "output_type": "execute_result"
    }
   ],
   "source": [
    "Vbirx.head().style"
   ]
  },
  {
   "cell_type": "code",
   "execution_count": 47,
   "id": "53bad8d3-0e3e-4073-ac91-6d0c78e3c7b5",
   "metadata": {},
   "outputs": [
    {
     "data": {
      "text/html": [
       "<style type=\"text/css\">\n",
       "</style>\n",
       "<table id=\"T_ae8b7\">\n",
       "  <thead>\n",
       "    <tr>\n",
       "      <th class=\"blank level0\" >&nbsp;</th>\n",
       "      <th id=\"T_ae8b7_level0_col0\" class=\"col_heading level0 col0\" >% missing</th>\n",
       "    </tr>\n",
       "  </thead>\n",
       "  <tbody>\n",
       "    <tr>\n",
       "      <th id=\"T_ae8b7_level0_row0\" class=\"row_heading level0 row0\" >Daily Returns</th>\n",
       "      <td id=\"T_ae8b7_row0_col0\" class=\"data row0 col0\" >0.048</td>\n",
       "    </tr>\n",
       "    <tr>\n",
       "      <th id=\"T_ae8b7_level0_row1\" class=\"row_heading level0 row1\" >Daily Price</th>\n",
       "      <td id=\"T_ae8b7_row1_col0\" class=\"data row1 col0\" >0.048</td>\n",
       "    </tr>\n",
       "    <tr>\n",
       "      <th id=\"T_ae8b7_level0_row2\" class=\"row_heading level0 row2\" >Trading Volume</th>\n",
       "      <td id=\"T_ae8b7_row2_col0\" class=\"data row2 col0\" >0.048</td>\n",
       "    </tr>\n",
       "  </tbody>\n",
       "</table>\n"
      ],
      "text/plain": [
       "<pandas.io.formats.style.Styler at 0x7f977277b760>"
      ]
     },
     "execution_count": 47,
     "metadata": {},
     "output_type": "execute_result"
    }
   ],
   "source": [
    "# Missing values\n",
    "(\n",
    "    ( # these lines do the calculation - what % of missing values are there for each var\n",
    "        Vbirx.isna()      \n",
    "       .sum(axis=0)     \n",
    "        /len(Vbirx)       # convert # missing to % missing \n",
    "        *100            # report as percentage\n",
    "    ) \n",
    "    .sort_values(ascending=False)\n",
    "    .to_frame(name='% missing') \n",
    "    .style.format(\"{:.3f}\")     \n",
    ")"
   ]
  },
  {
   "cell_type": "code",
   "execution_count": 48,
   "id": "2a6476f6-181d-40b5-800b-9790c2a2e8d7",
   "metadata": {},
   "outputs": [],
   "source": [
    "Vbirx.dropna(inplace=True)"
   ]
  },
  {
   "cell_type": "code",
   "execution_count": 49,
   "id": "d221c147-d89e-48d0-9f50-a7ae9806638d",
   "metadata": {},
   "outputs": [],
   "source": [
    "# Convert to numeric\n",
    "Vbirx['Daily Returns'] = Vbirx['Daily Returns'].astype(float)\n",
    "Vbirx['Trading Volume'] = Vbirx['Trading Volume'].astype(float)"
   ]
  },
  {
   "cell_type": "code",
   "execution_count": 50,
   "id": "a3690881-b9e0-4b97-ad66-acb1d6ff7e38",
   "metadata": {},
   "outputs": [
    {
     "data": {
      "text/html": [
       "<style type=\"text/css\">\n",
       "</style>\n",
       "<table id=\"T_ef6ac\">\n",
       "  <thead>\n",
       "    <tr>\n",
       "      <th class=\"blank level0\" >&nbsp;</th>\n",
       "      <th id=\"T_ef6ac_level0_col0\" class=\"col_heading level0 col0\" >count</th>\n",
       "      <th id=\"T_ef6ac_level0_col1\" class=\"col_heading level0 col1\" >mean</th>\n",
       "      <th id=\"T_ef6ac_level0_col2\" class=\"col_heading level0 col2\" >std</th>\n",
       "      <th id=\"T_ef6ac_level0_col3\" class=\"col_heading level0 col3\" >min</th>\n",
       "      <th id=\"T_ef6ac_level0_col4\" class=\"col_heading level0 col4\" >1%</th>\n",
       "      <th id=\"T_ef6ac_level0_col5\" class=\"col_heading level0 col5\" >5%</th>\n",
       "      <th id=\"T_ef6ac_level0_col6\" class=\"col_heading level0 col6\" >50%</th>\n",
       "      <th id=\"T_ef6ac_level0_col7\" class=\"col_heading level0 col7\" >95%</th>\n",
       "      <th id=\"T_ef6ac_level0_col8\" class=\"col_heading level0 col8\" >99%</th>\n",
       "      <th id=\"T_ef6ac_level0_col9\" class=\"col_heading level0 col9\" >max</th>\n",
       "    </tr>\n",
       "  </thead>\n",
       "  <tbody>\n",
       "    <tr>\n",
       "      <th id=\"T_ef6ac_level0_row0\" class=\"row_heading level0 row0\" >Daily Returns</th>\n",
       "      <td id=\"T_ef6ac_row0_col0\" class=\"data row0 col0\" >2,090.00</td>\n",
       "      <td id=\"T_ef6ac_row0_col1\" class=\"data row0 col1\" >0.00</td>\n",
       "      <td id=\"T_ef6ac_row0_col2\" class=\"data row0 col2\" >0.00</td>\n",
       "      <td id=\"T_ef6ac_row0_col3\" class=\"data row0 col3\" >-0.01</td>\n",
       "      <td id=\"T_ef6ac_row0_col4\" class=\"data row0 col4\" >-0.00</td>\n",
       "      <td id=\"T_ef6ac_row0_col5\" class=\"data row0 col5\" >-0.00</td>\n",
       "      <td id=\"T_ef6ac_row0_col6\" class=\"data row0 col6\" >0.00</td>\n",
       "      <td id=\"T_ef6ac_row0_col7\" class=\"data row0 col7\" >0.00</td>\n",
       "      <td id=\"T_ef6ac_row0_col8\" class=\"data row0 col8\" >0.00</td>\n",
       "      <td id=\"T_ef6ac_row0_col9\" class=\"data row0 col9\" >0.01</td>\n",
       "    </tr>\n",
       "    <tr>\n",
       "      <th id=\"T_ef6ac_level0_row1\" class=\"row_heading level0 row1\" >Daily Price</th>\n",
       "      <td id=\"T_ef6ac_row1_col0\" class=\"data row1 col0\" >2,090.00</td>\n",
       "      <td id=\"T_ef6ac_row1_col1\" class=\"data row1 col1\" >9.78</td>\n",
       "      <td id=\"T_ef6ac_row1_col2\" class=\"data row1 col2\" >0.45</td>\n",
       "      <td id=\"T_ef6ac_row1_col3\" class=\"data row1 col3\" >9.16</td>\n",
       "      <td id=\"T_ef6ac_row1_col4\" class=\"data row1 col4\" >9.18</td>\n",
       "      <td id=\"T_ef6ac_row1_col5\" class=\"data row1 col5\" >9.22</td>\n",
       "      <td id=\"T_ef6ac_row1_col6\" class=\"data row1 col6\" >9.65</td>\n",
       "      <td id=\"T_ef6ac_row1_col7\" class=\"data row1 col7\" >10.51</td>\n",
       "      <td id=\"T_ef6ac_row1_col8\" class=\"data row1 col8\" >10.53</td>\n",
       "      <td id=\"T_ef6ac_row1_col9\" class=\"data row1 col9\" >10.55</td>\n",
       "    </tr>\n",
       "    <tr>\n",
       "      <th id=\"T_ef6ac_level0_row2\" class=\"row_heading level0 row2\" >Trading Volume</th>\n",
       "      <td id=\"T_ef6ac_row2_col0\" class=\"data row2 col0\" >2,090.00</td>\n",
       "      <td id=\"T_ef6ac_row2_col1\" class=\"data row2 col1\" >0.00</td>\n",
       "      <td id=\"T_ef6ac_row2_col2\" class=\"data row2 col2\" >0.00</td>\n",
       "      <td id=\"T_ef6ac_row2_col3\" class=\"data row2 col3\" >0.00</td>\n",
       "      <td id=\"T_ef6ac_row2_col4\" class=\"data row2 col4\" >0.00</td>\n",
       "      <td id=\"T_ef6ac_row2_col5\" class=\"data row2 col5\" >0.00</td>\n",
       "      <td id=\"T_ef6ac_row2_col6\" class=\"data row2 col6\" >0.00</td>\n",
       "      <td id=\"T_ef6ac_row2_col7\" class=\"data row2 col7\" >0.00</td>\n",
       "      <td id=\"T_ef6ac_row2_col8\" class=\"data row2 col8\" >0.00</td>\n",
       "      <td id=\"T_ef6ac_row2_col9\" class=\"data row2 col9\" >0.00</td>\n",
       "    </tr>\n",
       "  </tbody>\n",
       "</table>\n"
      ],
      "text/plain": [
       "<pandas.io.formats.style.Styler at 0x7f977277b970>"
      ]
     },
     "execution_count": 50,
     "metadata": {},
     "output_type": "execute_result"
    }
   ],
   "source": [
    "# Outliers\n",
    "Vbirx.describe(percentiles=[.01,.05,.95,.99]).T.style.format('{:,.2f}')"
   ]
  },
  {
   "cell_type": "code",
   "execution_count": 51,
   "id": "bfa88d7c-8b7f-45c4-9bb1-7273f4d5a118",
   "metadata": {},
   "outputs": [
    {
     "name": "stdout",
     "output_type": "stream",
     "text": [
      "Daily Returns     float64\n",
      "Daily Price       float64\n",
      "Trading Volume    float64\n",
      "dtype: object\n"
     ]
    }
   ],
   "source": [
    "#Exploring dataset \n",
    "print(Vbirx.dtypes)"
   ]
  },
  {
   "cell_type": "code",
   "execution_count": 52,
   "id": "08b34a01-7374-49bc-9e45-af082911b61d",
   "metadata": {},
   "outputs": [
    {
     "ename": "NameError",
     "evalue": "name 'Vblax' is not defined",
     "output_type": "error",
     "traceback": [
      "\u001b[0;31m---------------------------------------------------------------------------\u001b[0m",
      "\u001b[0;31mNameError\u001b[0m                                 Traceback (most recent call last)",
      "Cell \u001b[0;32mIn[52], line 1\u001b[0m\n\u001b[0;32m----> 1\u001b[0m sns\u001b[38;5;241m.\u001b[39mpairplot(\u001b[43mVblax\u001b[49m)\n\u001b[1;32m      2\u001b[0m plt\u001b[38;5;241m.\u001b[39mshow()\n",
      "\u001b[0;31mNameError\u001b[0m: name 'Vblax' is not defined"
     ]
    }
   ],
   "source": [
    "sns.pairplot(Vblax)\n",
    "plt.show()"
   ]
  },
  {
   "cell_type": "markdown",
   "id": "5e4c41f0-3bf5-4632-9b53-9ea2dda767d7",
   "metadata": {},
   "source": [
    "## Exporting Clean Data"
   ]
  },
  {
   "cell_type": "code",
   "execution_count": null,
   "id": "4c5b1f70-c452-48e8-8bfe-5b719301c40e",
   "metadata": {},
   "outputs": [],
   "source": [
    "rates.to_csv('inputs/Clean_Data/Clean_Rates.csv', index=False)"
   ]
  },
  {
   "cell_type": "code",
   "execution_count": null,
   "id": "3118bf53-e17b-408f-bcfb-18dc5a138ad3",
   "metadata": {},
   "outputs": [],
   "source": [
    "sp500_ret.to_csv('inputs/Clean_Data/Clean_sp500_ret.csv', index=False)"
   ]
  },
  {
   "cell_type": "code",
   "execution_count": null,
   "id": "04746d56-bf4d-4599-a8ff-efd2d699262b",
   "metadata": {},
   "outputs": [],
   "source": [
    "stock_tv.to_csv('inputs/Clean_Data/Clean_stock_tv.csv', index=False)"
   ]
  },
  {
   "cell_type": "code",
   "execution_count": null,
   "id": "7eec753c-ceac-4f0d-8eb0-114d2e270540",
   "metadata": {},
   "outputs": [],
   "source": [
    "Vbilx.to_csv('inputs/Clean_Data/Clean_Vbilx.csv', index=False)"
   ]
  },
  {
   "cell_type": "code",
   "execution_count": null,
   "id": "81524d40-7a1d-463e-917e-0343c6e274ec",
   "metadata": {},
   "outputs": [],
   "source": [
    "Vbirx.to_csv('inputs/Clean_Data/Clean_Vbirx.csv', index=False)"
   ]
  }
 ],
 "metadata": {
  "kernelspec": {
   "display_name": "Python 3 (ipykernel)",
   "language": "python",
   "name": "python3"
  },
  "language_info": {
   "codemirror_mode": {
    "name": "ipython",
    "version": 3
   },
   "file_extension": ".py",
   "mimetype": "text/x-python",
   "name": "python",
   "nbconvert_exporter": "python",
   "pygments_lexer": "ipython3",
   "version": "3.10.9"
  }
 },
 "nbformat": 4,
 "nbformat_minor": 5
}
