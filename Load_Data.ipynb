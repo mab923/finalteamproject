{
 "cells": [
  {
   "cell_type": "markdown",
   "id": "73a497d6-dd57-4716-b081-2d144dc89d11",
   "metadata": {},
   "source": [
    "# Load Data"
   ]
  },
  {
   "cell_type": "code",
   "execution_count": 1,
   "id": "d2b3880b-7da3-48b2-8089-2a9dc93025ab",
   "metadata": {},
   "outputs": [],
   "source": [
    "import pandas as pd"
   ]
  },
  {
   "cell_type": "markdown",
   "id": "65ecacec-879e-4f31-afd4-937bdd4d90f0",
   "metadata": {},
   "source": [
    "### FOMC Rates"
   ]
  },
  {
   "cell_type": "code",
   "execution_count": 2,
   "id": "6dbdd053-0625-440b-bf9a-a6766e998470",
   "metadata": {},
   "outputs": [],
   "source": [
    "import os\n"
   ]
  },
  {
   "cell_type": "code",
   "execution_count": 3,
   "id": "f3e73c0c-829a-4b7c-beff-8062784395e6",
   "metadata": {},
   "outputs": [
    {
     "data": {
      "text/plain": [
       "['page2.md',\n",
       " 'pics',\n",
       " 'README.md',\n",
       " 'example.ipynb',\n",
       " 'Load_Data.ipynb',\n",
       " '.gitignore',\n",
       " '_config.yml',\n",
       " '.ipynb_checkpoints',\n",
       " '.git',\n",
       " 'notebooks',\n",
       " 'inputs']"
      ]
     },
     "execution_count": 3,
     "metadata": {},
     "output_type": "execute_result"
    }
   ],
   "source": [
    "os.listdir()"
   ]
  },
  {
   "cell_type": "code",
   "execution_count": 4,
   "id": "29a9ce5f-dca1-4fa9-82e7-81868d9c26b1",
   "metadata": {},
   "outputs": [],
   "source": [
    "rates = pd.read_csv('inputs/FOMC_rates.csv')"
   ]
  },
  {
   "cell_type": "code",
   "execution_count": 5,
   "id": "0241b7d3-c206-4fc3-82f4-2633ec6220eb",
   "metadata": {},
   "outputs": [
    {
     "data": {
      "text/html": [
       "<div>\n",
       "<style scoped>\n",
       "    .dataframe tbody tr th:only-of-type {\n",
       "        vertical-align: middle;\n",
       "    }\n",
       "\n",
       "    .dataframe tbody tr th {\n",
       "        vertical-align: top;\n",
       "    }\n",
       "\n",
       "    .dataframe thead th {\n",
       "        text-align: right;\n",
       "    }\n",
       "</style>\n",
       "<table border=\"1\" class=\"dataframe\">\n",
       "  <thead>\n",
       "    <tr style=\"text-align: right;\">\n",
       "      <th></th>\n",
       "      <th>Date</th>\n",
       "      <th>Increase</th>\n",
       "      <th>Decrease</th>\n",
       "      <th>Tgt_level</th>\n",
       "    </tr>\n",
       "  </thead>\n",
       "  <tbody>\n",
       "    <tr>\n",
       "      <th>0</th>\n",
       "      <td>3/23/23</td>\n",
       "      <td>25</td>\n",
       "      <td>0</td>\n",
       "      <td>4.75-5.00</td>\n",
       "    </tr>\n",
       "    <tr>\n",
       "      <th>1</th>\n",
       "      <td>2/2/23</td>\n",
       "      <td>25</td>\n",
       "      <td>0</td>\n",
       "      <td>4.50-4.75</td>\n",
       "    </tr>\n",
       "    <tr>\n",
       "      <th>2</th>\n",
       "      <td>12/15/22</td>\n",
       "      <td>50</td>\n",
       "      <td>0</td>\n",
       "      <td>4.25-4.50</td>\n",
       "    </tr>\n",
       "    <tr>\n",
       "      <th>3</th>\n",
       "      <td>11/3/22</td>\n",
       "      <td>75</td>\n",
       "      <td>0</td>\n",
       "      <td>3.75-4.00</td>\n",
       "    </tr>\n",
       "    <tr>\n",
       "      <th>4</th>\n",
       "      <td>9/22/22</td>\n",
       "      <td>75</td>\n",
       "      <td>0</td>\n",
       "      <td>3.00-3.25</td>\n",
       "    </tr>\n",
       "    <tr>\n",
       "      <th>5</th>\n",
       "      <td>7/28/22</td>\n",
       "      <td>75</td>\n",
       "      <td>0</td>\n",
       "      <td>2.25-2.50</td>\n",
       "    </tr>\n",
       "    <tr>\n",
       "      <th>6</th>\n",
       "      <td>6/16/22</td>\n",
       "      <td>75</td>\n",
       "      <td>0</td>\n",
       "      <td>1.50-1.75</td>\n",
       "    </tr>\n",
       "    <tr>\n",
       "      <th>7</th>\n",
       "      <td>5/5/22</td>\n",
       "      <td>50</td>\n",
       "      <td>0</td>\n",
       "      <td>0.75-1.00</td>\n",
       "    </tr>\n",
       "    <tr>\n",
       "      <th>8</th>\n",
       "      <td>3/17/22</td>\n",
       "      <td>25</td>\n",
       "      <td>0</td>\n",
       "      <td>0.25-0.50</td>\n",
       "    </tr>\n",
       "    <tr>\n",
       "      <th>9</th>\n",
       "      <td>3/16/20</td>\n",
       "      <td>0</td>\n",
       "      <td>100</td>\n",
       "      <td>0-0.25</td>\n",
       "    </tr>\n",
       "    <tr>\n",
       "      <th>10</th>\n",
       "      <td>3/3/20</td>\n",
       "      <td>0</td>\n",
       "      <td>50</td>\n",
       "      <td>1.00-1.25</td>\n",
       "    </tr>\n",
       "    <tr>\n",
       "      <th>11</th>\n",
       "      <td>10/31/19</td>\n",
       "      <td>0</td>\n",
       "      <td>25</td>\n",
       "      <td>1.50-1.75</td>\n",
       "    </tr>\n",
       "    <tr>\n",
       "      <th>12</th>\n",
       "      <td>9/19/19</td>\n",
       "      <td>0</td>\n",
       "      <td>25</td>\n",
       "      <td>1.75-2.00</td>\n",
       "    </tr>\n",
       "    <tr>\n",
       "      <th>13</th>\n",
       "      <td>8/1/19</td>\n",
       "      <td>0</td>\n",
       "      <td>25</td>\n",
       "      <td>2.00-2.25</td>\n",
       "    </tr>\n",
       "    <tr>\n",
       "      <th>14</th>\n",
       "      <td>12/20/18</td>\n",
       "      <td>25</td>\n",
       "      <td>0</td>\n",
       "      <td>2.25-2.50</td>\n",
       "    </tr>\n",
       "    <tr>\n",
       "      <th>15</th>\n",
       "      <td>9/27/28</td>\n",
       "      <td>25</td>\n",
       "      <td>0</td>\n",
       "      <td>2.00-2.25</td>\n",
       "    </tr>\n",
       "    <tr>\n",
       "      <th>16</th>\n",
       "      <td>6/14/18</td>\n",
       "      <td>25</td>\n",
       "      <td>0</td>\n",
       "      <td>1.75-2.00</td>\n",
       "    </tr>\n",
       "    <tr>\n",
       "      <th>17</th>\n",
       "      <td>3/22/18</td>\n",
       "      <td>25</td>\n",
       "      <td>0</td>\n",
       "      <td>1.50-1.75</td>\n",
       "    </tr>\n",
       "    <tr>\n",
       "      <th>18</th>\n",
       "      <td>12/14/17</td>\n",
       "      <td>25</td>\n",
       "      <td>0</td>\n",
       "      <td>1.25-1.50</td>\n",
       "    </tr>\n",
       "    <tr>\n",
       "      <th>19</th>\n",
       "      <td>6/15/17</td>\n",
       "      <td>25</td>\n",
       "      <td>0</td>\n",
       "      <td>1.00-1.25</td>\n",
       "    </tr>\n",
       "    <tr>\n",
       "      <th>20</th>\n",
       "      <td>3/16/17</td>\n",
       "      <td>25</td>\n",
       "      <td>0</td>\n",
       "      <td>0.75-1.00</td>\n",
       "    </tr>\n",
       "    <tr>\n",
       "      <th>21</th>\n",
       "      <td>12/15/16</td>\n",
       "      <td>25</td>\n",
       "      <td>0</td>\n",
       "      <td>0.50-0.75</td>\n",
       "    </tr>\n",
       "    <tr>\n",
       "      <th>22</th>\n",
       "      <td>12/17/15</td>\n",
       "      <td>25</td>\n",
       "      <td>0</td>\n",
       "      <td>0.25-0.50</td>\n",
       "    </tr>\n",
       "  </tbody>\n",
       "</table>\n",
       "</div>"
      ],
      "text/plain": [
       "        Date  Increase  Decrease  Tgt_level\n",
       "0    3/23/23        25         0  4.75-5.00\n",
       "1     2/2/23        25         0  4.50-4.75\n",
       "2   12/15/22        50         0  4.25-4.50\n",
       "3    11/3/22        75         0  3.75-4.00\n",
       "4    9/22/22        75         0  3.00-3.25\n",
       "5    7/28/22        75         0  2.25-2.50\n",
       "6    6/16/22        75         0  1.50-1.75\n",
       "7     5/5/22        50         0  0.75-1.00\n",
       "8    3/17/22        25         0  0.25-0.50\n",
       "9    3/16/20         0       100     0-0.25\n",
       "10    3/3/20         0        50  1.00-1.25\n",
       "11  10/31/19         0        25  1.50-1.75\n",
       "12   9/19/19         0        25  1.75-2.00\n",
       "13    8/1/19         0        25  2.00-2.25\n",
       "14  12/20/18        25         0  2.25-2.50\n",
       "15   9/27/28        25         0  2.00-2.25\n",
       "16   6/14/18        25         0  1.75-2.00\n",
       "17   3/22/18        25         0  1.50-1.75\n",
       "18  12/14/17        25         0  1.25-1.50\n",
       "19   6/15/17        25         0  1.00-1.25\n",
       "20   3/16/17        25         0  0.75-1.00\n",
       "21  12/15/16        25         0  0.50-0.75\n",
       "22  12/17/15        25         0  0.25-0.50"
      ]
     },
     "execution_count": 5,
     "metadata": {},
     "output_type": "execute_result"
    }
   ],
   "source": [
    "rates"
   ]
  },
  {
   "cell_type": "markdown",
   "id": "688d33a3-9da6-4420-8179-b9ae395f7885",
   "metadata": {},
   "source": [
    "Source: https://www.federalreserve.gov/monetarypolicy/openmarket.htm"
   ]
  },
  {
   "cell_type": "markdown",
   "id": "767634b6-f556-43ba-b2c6-7cfb5312d5ba",
   "metadata": {},
   "source": [
    "### Index Returns"
   ]
  },
  {
   "cell_type": "code",
   "execution_count": 9,
   "id": "8539cb80-3965-4e55-ae7c-023183450cde",
   "metadata": {},
   "outputs": [],
   "source": [
    "sp500_ret = pd.read_csv('inputs/SP500_ret.csv')"
   ]
  },
  {
   "cell_type": "code",
   "execution_count": 10,
   "id": "a0e188fa-1f9d-4e83-b705-68d8fe7c1c5d",
   "metadata": {},
   "outputs": [
    {
     "data": {
      "text/html": [
       "<div>\n",
       "<style scoped>\n",
       "    .dataframe tbody tr th:only-of-type {\n",
       "        vertical-align: middle;\n",
       "    }\n",
       "\n",
       "    .dataframe tbody tr th {\n",
       "        vertical-align: top;\n",
       "    }\n",
       "\n",
       "    .dataframe thead th {\n",
       "        text-align: right;\n",
       "    }\n",
       "</style>\n",
       "<table border=\"1\" class=\"dataframe\">\n",
       "  <thead>\n",
       "    <tr style=\"text-align: right;\">\n",
       "      <th></th>\n",
       "      <th>Effective date</th>\n",
       "      <th>S&amp;P 500</th>\n",
       "    </tr>\n",
       "  </thead>\n",
       "  <tbody>\n",
       "    <tr>\n",
       "      <th>0</th>\n",
       "      <td>1/2/15</td>\n",
       "      <td>2058.20</td>\n",
       "    </tr>\n",
       "    <tr>\n",
       "      <th>1</th>\n",
       "      <td>1/5/15</td>\n",
       "      <td>2020.58</td>\n",
       "    </tr>\n",
       "    <tr>\n",
       "      <th>2</th>\n",
       "      <td>1/6/15</td>\n",
       "      <td>2002.61</td>\n",
       "    </tr>\n",
       "    <tr>\n",
       "      <th>3</th>\n",
       "      <td>1/7/15</td>\n",
       "      <td>2025.90</td>\n",
       "    </tr>\n",
       "    <tr>\n",
       "      <th>4</th>\n",
       "      <td>1/8/15</td>\n",
       "      <td>2062.14</td>\n",
       "    </tr>\n",
       "    <tr>\n",
       "      <th>5</th>\n",
       "      <td>1/9/15</td>\n",
       "      <td>2044.81</td>\n",
       "    </tr>\n",
       "    <tr>\n",
       "      <th>6</th>\n",
       "      <td>1/12/15</td>\n",
       "      <td>2028.26</td>\n",
       "    </tr>\n",
       "    <tr>\n",
       "      <th>7</th>\n",
       "      <td>1/13/15</td>\n",
       "      <td>2023.03</td>\n",
       "    </tr>\n",
       "    <tr>\n",
       "      <th>8</th>\n",
       "      <td>1/14/15</td>\n",
       "      <td>2011.27</td>\n",
       "    </tr>\n",
       "    <tr>\n",
       "      <th>9</th>\n",
       "      <td>1/15/15</td>\n",
       "      <td>1992.67</td>\n",
       "    </tr>\n",
       "    <tr>\n",
       "      <th>10</th>\n",
       "      <td>1/16/15</td>\n",
       "      <td>2019.42</td>\n",
       "    </tr>\n",
       "    <tr>\n",
       "      <th>11</th>\n",
       "      <td>1/20/15</td>\n",
       "      <td>2022.55</td>\n",
       "    </tr>\n",
       "    <tr>\n",
       "      <th>12</th>\n",
       "      <td>1/21/15</td>\n",
       "      <td>2032.12</td>\n",
       "    </tr>\n",
       "    <tr>\n",
       "      <th>13</th>\n",
       "      <td>1/22/15</td>\n",
       "      <td>2063.15</td>\n",
       "    </tr>\n",
       "    <tr>\n",
       "      <th>14</th>\n",
       "      <td>1/23/15</td>\n",
       "      <td>2051.82</td>\n",
       "    </tr>\n",
       "  </tbody>\n",
       "</table>\n",
       "</div>"
      ],
      "text/plain": [
       "   Effective date   S&P 500\n",
       "0           1/2/15  2058.20\n",
       "1           1/5/15  2020.58\n",
       "2           1/6/15  2002.61\n",
       "3           1/7/15  2025.90\n",
       "4           1/8/15  2062.14\n",
       "5           1/9/15  2044.81\n",
       "6          1/12/15  2028.26\n",
       "7          1/13/15  2023.03\n",
       "8          1/14/15  2011.27\n",
       "9          1/15/15  1992.67\n",
       "10         1/16/15  2019.42\n",
       "11         1/20/15  2022.55\n",
       "12         1/21/15  2032.12\n",
       "13         1/22/15  2063.15\n",
       "14         1/23/15  2051.82"
      ]
     },
     "execution_count": 10,
     "metadata": {},
     "output_type": "execute_result"
    }
   ],
   "source": [
    "sp500_ret.head(15)"
   ]
  },
  {
   "cell_type": "markdown",
   "id": "e0b6ee3d-e0dc-4477-b292-451aaabd0f18",
   "metadata": {},
   "source": [
    "### Long Term Bond Returns"
   ]
  },
  {
   "cell_type": "code",
   "execution_count": null,
   "id": "c96191f2-b4c2-4668-914d-d577593a8c77",
   "metadata": {},
   "outputs": [],
   "source": []
  },
  {
   "cell_type": "markdown",
   "id": "5653eb9e-2498-43bf-99fa-615a99a0df84",
   "metadata": {},
   "source": [
    "### Short Term Bond Reutrns"
   ]
  },
  {
   "cell_type": "code",
   "execution_count": null,
   "id": "59e1d75d-c941-460c-a074-98c0d58b83ab",
   "metadata": {},
   "outputs": [],
   "source": []
  },
  {
   "cell_type": "markdown",
   "id": "68313760-8c50-49b1-b3a6-01891df96f5c",
   "metadata": {},
   "source": [
    "### Stock Trading Volume"
   ]
  },
  {
   "cell_type": "code",
   "execution_count": null,
   "id": "721f5673-6a73-4222-a498-c6ece28bc95c",
   "metadata": {},
   "outputs": [],
   "source": [
    "stock_tv = pd.read_csv('inputs/SP500_TV.csv')"
   ]
  },
  {
   "cell_type": "code",
   "execution_count": null,
   "id": "7b87a910-375e-40d7-a187-8081212de672",
   "metadata": {},
   "outputs": [],
   "source": [
    "stock_tv"
   ]
  },
  {
   "cell_type": "markdown",
   "id": "1c6889cf-3cb7-4e32-9e3d-a9786ceb9941",
   "metadata": {},
   "source": [
    "Source: https://ycharts.com/indicators/cboe_spx_volume"
   ]
  },
  {
   "cell_type": "markdown",
   "id": "be2d85a1-248d-40a9-b83d-96e9967a0637",
   "metadata": {},
   "source": [
    "### Long Term Bond Trading Volume"
   ]
  },
  {
   "cell_type": "code",
   "execution_count": null,
   "id": "5e877aaf-158a-4a91-8786-55916031c143",
   "metadata": {},
   "outputs": [],
   "source": []
  },
  {
   "cell_type": "markdown",
   "id": "ced5f31e-e9b8-4b33-bce6-081b165c01f9",
   "metadata": {},
   "source": [
    "### Short Term Bond Trading Volume"
   ]
  },
  {
   "cell_type": "code",
   "execution_count": null,
   "id": "8e5ba46c-3c18-41e4-8b3f-6a52c16e5423",
   "metadata": {},
   "outputs": [],
   "source": []
  }
 ],
 "metadata": {
  "kernelspec": {
   "display_name": "Python 3 (ipykernel)",
   "language": "python",
   "name": "python3"
  },
  "language_info": {
   "codemirror_mode": {
    "name": "ipython",
    "version": 3
   },
   "file_extension": ".py",
   "mimetype": "text/x-python",
   "name": "python",
   "nbconvert_exporter": "python",
   "pygments_lexer": "ipython3",
   "version": "3.9.13"
  }
 },
 "nbformat": 4,
 "nbformat_minor": 5
}
