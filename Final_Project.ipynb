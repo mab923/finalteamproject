{
 "cells": [
  {
   "cell_type": "markdown",
   "id": "2462fcbb-5296-4a52-b851-8e0ea68c3d28",
   "metadata": {},
   "source": [
    "## Packages"
   ]
  },
  {
   "cell_type": "code",
   "execution_count": 2,
   "id": "6bb0630c-1dc6-4c11-b5ab-6d32e6df34f9",
   "metadata": {},
   "outputs": [],
   "source": [
    "import pandas as pd\n",
    "import numpy as np\n",
    "import seaborn as sns\n",
    "import matplotlib.pyplot as plt\n",
    "import statsmodels.formula.api as smf\n",
    "from tqdm import tqdm\n",
    "import glob\n",
    "import os\n",
    "from time import sleep\n",
    "import fnmatch\n"
   ]
  },
  {
   "cell_type": "markdown",
   "id": "831d9317-02ea-45aa-8612-503d6734171b",
   "metadata": {},
   "source": [
    "## Load clean data"
   ]
  },
  {
   "cell_type": "code",
   "execution_count": 3,
   "id": "95787b04-d76c-4b91-a43d-779bac6544eb",
   "metadata": {},
   "outputs": [],
   "source": [
    "fomc_rates = pd.read_csv('inputs/Clean_Data/Clean_Rates.csv')\n",
    "sp500_ret = pd.read_csv('inputs/Clean_Data/Clean_sp500_ret.csv')\n",
    "stock_tv = pd.read_csv('inputs/Clean_Data/Clean_stock_tv.csv')\n",
    "Vbilx = pd.read_csv('inputs/Clean_Data/Clean_Vbilx.csv')\n",
    "Vbirx= pd.read_csv('inputs/Clean_Data/Clean_Vbirx.csv')"
   ]
  },
  {
   "cell_type": "markdown",
   "id": "8fc51739-4716-4193-aa15-1d78c04c024e",
   "metadata": {},
   "source": [
    "## Assemble Data Frames"
   ]
  },
  {
   "cell_type": "code",
   "execution_count": 5,
   "id": "032ca192-c6ce-4177-bce1-0c3456cc6116",
   "metadata": {},
   "outputs": [],
   "source": [
    "#rename variables\n",
    "sp500_ret = sp500_ret.rename(columns = {'date': 'Date','Daily Returns' : 'SP_daily_ret', 'Price': 'SP_daily_price'})\n",
    "sp500_ret = sp500_ret.rename(columns = {'returns' : 'sp500_ret'})\n",
    "Vbirx = Vbirx.rename(columns = {'Daily Returns' : 'VBIRX_daily_ret', 'Price': 'VBIRX_daily_price' })\n",
    "Vbirx = Vbirx.rename(columns = {'Daily Price': 'VBIRX_daily_price' })\n",
    "Vbilx = Vbilx.rename(columns = {'Daily Price': 'VBILX_daily_price', 'Daily Returns' : 'VBLIX_daily_ret' })"
   ]
  },
  {
   "cell_type": "code",
   "execution_count": 6,
   "id": "1b8d16c2-67a4-4e33-8566-117d6a6c5760",
   "metadata": {},
   "outputs": [
    {
     "data": {
      "text/html": [
       "<div>\n",
       "<style scoped>\n",
       "    .dataframe tbody tr th:only-of-type {\n",
       "        vertical-align: middle;\n",
       "    }\n",
       "\n",
       "    .dataframe tbody tr th {\n",
       "        vertical-align: top;\n",
       "    }\n",
       "\n",
       "    .dataframe thead th {\n",
       "        text-align: right;\n",
       "    }\n",
       "</style>\n",
       "<table border=\"1\" class=\"dataframe\">\n",
       "  <thead>\n",
       "    <tr style=\"text-align: right;\">\n",
       "      <th></th>\n",
       "      <th>Date</th>\n",
       "      <th>S&amp;P_500</th>\n",
       "      <th>sp500_ret</th>\n",
       "    </tr>\n",
       "  </thead>\n",
       "  <tbody>\n",
       "    <tr>\n",
       "      <th>0</th>\n",
       "      <td>2015-01-05</td>\n",
       "      <td>2020.58</td>\n",
       "      <td>-0.018278</td>\n",
       "    </tr>\n",
       "    <tr>\n",
       "      <th>1</th>\n",
       "      <td>2015-01-06</td>\n",
       "      <td>2002.61</td>\n",
       "      <td>-0.008893</td>\n",
       "    </tr>\n",
       "    <tr>\n",
       "      <th>2</th>\n",
       "      <td>2015-01-07</td>\n",
       "      <td>2025.90</td>\n",
       "      <td>0.011630</td>\n",
       "    </tr>\n",
       "    <tr>\n",
       "      <th>3</th>\n",
       "      <td>2015-01-08</td>\n",
       "      <td>2062.14</td>\n",
       "      <td>0.017888</td>\n",
       "    </tr>\n",
       "    <tr>\n",
       "      <th>4</th>\n",
       "      <td>2015-01-09</td>\n",
       "      <td>2044.81</td>\n",
       "      <td>-0.008404</td>\n",
       "    </tr>\n",
       "    <tr>\n",
       "      <th>...</th>\n",
       "      <td>...</td>\n",
       "      <td>...</td>\n",
       "      <td>...</td>\n",
       "    </tr>\n",
       "    <tr>\n",
       "      <th>2085</th>\n",
       "      <td>2023-04-18</td>\n",
       "      <td>4154.87</td>\n",
       "      <td>0.000855</td>\n",
       "    </tr>\n",
       "    <tr>\n",
       "      <th>2086</th>\n",
       "      <td>2023-04-19</td>\n",
       "      <td>4154.52</td>\n",
       "      <td>-0.000084</td>\n",
       "    </tr>\n",
       "    <tr>\n",
       "      <th>2087</th>\n",
       "      <td>2023-04-20</td>\n",
       "      <td>4129.79</td>\n",
       "      <td>-0.005953</td>\n",
       "    </tr>\n",
       "    <tr>\n",
       "      <th>2088</th>\n",
       "      <td>2023-04-21</td>\n",
       "      <td>4133.52</td>\n",
       "      <td>0.000903</td>\n",
       "    </tr>\n",
       "    <tr>\n",
       "      <th>2089</th>\n",
       "      <td>2023-04-24</td>\n",
       "      <td>4137.04</td>\n",
       "      <td>0.000852</td>\n",
       "    </tr>\n",
       "  </tbody>\n",
       "</table>\n",
       "<p>2090 rows × 3 columns</p>\n",
       "</div>"
      ],
      "text/plain": [
       "            Date  S&P_500  sp500_ret\n",
       "0     2015-01-05  2020.58  -0.018278\n",
       "1     2015-01-06  2002.61  -0.008893\n",
       "2     2015-01-07  2025.90   0.011630\n",
       "3     2015-01-08  2062.14   0.017888\n",
       "4     2015-01-09  2044.81  -0.008404\n",
       "...          ...      ...        ...\n",
       "2085  2023-04-18  4154.87   0.000855\n",
       "2086  2023-04-19  4154.52  -0.000084\n",
       "2087  2023-04-20  4129.79  -0.005953\n",
       "2088  2023-04-21  4133.52   0.000903\n",
       "2089  2023-04-24  4137.04   0.000852\n",
       "\n",
       "[2090 rows x 3 columns]"
      ]
     },
     "execution_count": 6,
     "metadata": {},
     "output_type": "execute_result"
    }
   ],
   "source": []
  },
  {
   "cell_type": "code",
   "execution_count": null,
   "id": "3d8dc777-099c-4930-aae6-19e393c0a76a",
   "metadata": {},
   "outputs": [],
   "source": []
  },
  {
   "cell_type": "code",
   "execution_count": null,
   "id": "88fb1c8d-f6d7-4c19-a195-08d7cf2fce77",
   "metadata": {},
   "outputs": [],
   "source": []
  },
  {
   "cell_type": "code",
   "execution_count": null,
   "id": "150fd7e4-82d2-4cc6-b028-95b6077e083f",
   "metadata": {},
   "outputs": [],
   "source": [
    "stock_tv\n",
    "stock_tv.drop_duplicates(inplace=True)\n",
    "stock_tv = stock_tv.rename(columns = {'Value' : 'sp500_tv'})\n",
    "stock_tv"
   ]
  },
  {
   "cell_type": "code",
   "execution_count": null,
   "id": "6e8c459b-83a5-4639-b127-f836bf3eeb2a",
   "metadata": {},
   "outputs": [],
   "source": [
    "final_data = sp500_ret.merge(Vbilx, \n",
    "              on=['Date'],\n",
    "              how='left',\n",
    "              validate='one_to_one') # or 'many_to_one'"
   ]
  },
  {
   "cell_type": "code",
   "execution_count": null,
   "id": "0377d728-87c5-4ba3-9020-c18428704b70",
   "metadata": {},
   "outputs": [],
   "source": [
    "final_data2 = final_data.merge(Vbirx, on=['Date'],\n",
    "              how='left',\n",
    "              validate='one_to_one')"
   ]
  },
  {
   "cell_type": "code",
   "execution_count": null,
   "id": "e74b6a33-bcda-4d3c-b6a1-7c90e9b96981",
   "metadata": {},
   "outputs": [],
   "source": [
    "final_data2"
   ]
  },
  {
   "cell_type": "markdown",
   "id": "b3224997-0aed-4310-99fd-3f8b79fe75a6",
   "metadata": {},
   "source": [
    "### Create Dummy Variable"
   ]
  },
  {
   "cell_type": "code",
   "execution_count": null,
   "id": "12ddc373-f2cc-428c-9677-0ddc9d37f324",
   "metadata": {},
   "outputs": [],
   "source": [
    "fomc_rates \n",
    "fomc_rates['Change'] = np.where(fomc_rates['Increase'] > 0,1,0)\n",
    "fomc_rates"
   ]
  },
  {
   "cell_type": "markdown",
   "id": "42fd0bcb-0df2-44b3-a2d1-6542277d81ca",
   "metadata": {},
   "source": [
    "**Dummy variable equals 1 when the rate increases, 0 if it was decreased."
   ]
  },
  {
   "cell_type": "code",
   "execution_count": null,
   "id": "2c213cf0-2214-4cf2-aa6c-3807debaa2ad",
   "metadata": {},
   "outputs": [],
   "source": [
    "#master_df = final_data2.merge(fomc_rates, on = [\"Date\"], how = 'left', \n",
    " #                     validate = 'm:1', indicator = True)"
   ]
  },
  {
   "cell_type": "markdown",
   "id": "ad5e4913-867d-4a35-88f5-91da74fce07e",
   "metadata": {},
   "source": [
    "### Create Event Time Variable"
   ]
  },
  {
   "cell_type": "code",
   "execution_count": null,
   "id": "789692d5-4922-4577-9837-072d74da90a1",
   "metadata": {},
   "outputs": [],
   "source": [
    "pd.set_option('display.max_rows',70)\n"
   ]
  },
  {
   "cell_type": "code",
   "execution_count": null,
   "id": "f9168c44-e62a-4976-8012-b55836a89329",
   "metadata": {},
   "outputs": [],
   "source": [
    "fomc_rates"
   ]
  },
  {
   "cell_type": "code",
   "execution_count": null,
   "id": "30801088-23f6-435f-bda9-991e222e99a0",
   "metadata": {},
   "outputs": [],
   "source": [
    "event_time_rets = (\n",
    "    final_data2.merge(fomc_rates[['Date']], on = [\"Date\"], how = 'left', \n",
    "                      validate = 'm:1', indicator = True)\n",
    "    \n",
    "    # create event flag, then use this to create event_id\n",
    "    .assign(event = lambda x: (x['_merge'] == 'both').astype(int))    \n",
    "    .assign(event_id = lambda x: x['event'].cumsum(),\n",
    "            date2 = lambda x: x['Date'])\n",
    "    \n",
    "    # reduce dataframe to [-10,+10] around event\n",
    "    # event id starts 10 days before event and goes to 10 days after\n",
    "    .assign(event_id = lambda x: x['event_id'].shift(-10))\n",
    "    .query('event_id > 0')\n",
    "    .groupby('event_id').head(20)\n",
    "    \n",
    "    # helper columns\n",
    "    .assign(increment =lambda x: np.arange(len(x)),\n",
    "            inc_at_e = lambda x: x['event']*x['increment'])\n",
    "    \n",
    "    #inc_at_e alwasy equal to increment # at firms event\n",
    "    .assign(inc_at_e = lambda x: x.groupby('event_id')['inc_at_e'].transform(sum))\n",
    "    \n",
    "    #compute event time\n",
    "    .assign(event_time = lambda x: x['increment'] -x['inc_at_e'])\n",
    "   \n",
    "    # clear out useless columns\n",
    "    .drop(['_merge','date2','increment','inc_at_e'],axis=1)\n",
    ")"
   ]
  },
  {
   "cell_type": "code",
   "execution_count": null,
   "id": "fb363b9d-7dfb-4ab9-b381-5ee80d0d0585",
   "metadata": {},
   "outputs": [],
   "source": [
    "# we need a new var = the date of the event so that we can merge in fomc_rate vars\n",
    "\n",
    "# Create a new column 'date_when_var2_is_1' and set it to NaN initially\n",
    "event_time_rets['event_id_date'] = np.nan\n",
    "\n",
    "# Find the date from 'var1' when 'var2' is equal to 1 for each 'event_id'\n",
    "date_when_var2_is_1 = event_time_rets[event_time_rets['event'] == 1].groupby('event_id')['Date'].first()\n",
    "\n",
    "# Iterate through the unique event_ids and set the 'date_when_var2_is_1' value for each event_id\n",
    "for event_id, date_value in date_when_var2_is_1.items():\n",
    "    event_time_rets.loc[event_time_rets['event_id'] == event_id, 'event_id_date'] = date_value\n",
    "    "
   ]
  },
  {
   "cell_type": "code",
   "execution_count": null,
   "id": "f8488f3d-1b6f-460a-867f-8af71bbf835a",
   "metadata": {},
   "outputs": [],
   "source": [
    "# now merge in fomc_rate date\n",
    "event_time_rets = event_time_rets.merge(fomc_rates,\n",
    "                      left_on = 'event_id_date',\n",
    "                      right_on = 'Date',\n",
    "                      how = 'left',\n",
    "                      validate = 'm:1').drop('Date_y',axis=1)"
   ]
  },
  {
   "cell_type": "code",
   "execution_count": null,
   "id": "563be1a9-57d1-40fa-b550-a489b1b73130",
   "metadata": {},
   "outputs": [],
   "source": [
    "event_time_rets"
   ]
  },
  {
   "cell_type": "markdown",
   "id": "5c65ef7a-f374-4448-b65d-6b16d45daa6a",
   "metadata": {},
   "source": [
    "### Correlation Matrix"
   ]
  },
  {
   "cell_type": "code",
   "execution_count": null,
   "id": "0164f3a5-fa62-489d-812d-4fe3342f07f8",
   "metadata": {},
   "outputs": [],
   "source": [
    "corr_matrix = event_time_rets.corr()\n",
    "sns.heatmap(corr_matrix, annot=True, cmap='coolwarm', fmt='.2f')\n",
    "plt.title('Data with rates')\n",
    "plt.show()"
   ]
  },
  {
   "cell_type": "markdown",
   "id": "7b347fd8-4f9e-4412-b3e4-aacbdea499aa",
   "metadata": {},
   "source": [
    "### Scatter Plots"
   ]
  },
  {
   "cell_type": "markdown",
   "id": "40887247-6bbc-422e-8274-5bb8fabf0003",
   "metadata": {},
   "source": [
    "# Event Time Study Figures"
   ]
  },
  {
   "cell_type": "markdown",
   "id": "903bb46b-93a2-4c20-a911-6220f5adc878",
   "metadata": {},
   "source": [
    "### S&P 500"
   ]
  },
  {
   "cell_type": "code",
   "execution_count": null,
   "id": "abf792d2-1d96-4ba1-ae65-85a46f76c373",
   "metadata": {},
   "outputs": [],
   "source": [
    "# run the regression\n",
    "model   = smf.ols(formula='sp500_ret ~ C(event_time,Treatment(reference=-1))', data=event_time_rets)\n",
    "results = model.fit()\n",
    "\n",
    "\n",
    "# extract the coefficients and confidence intervals\n",
    "fig, ax            = plt.subplots(figsize=(8, 6))\n",
    "coef_table         = results.conf_int(alpha=0.05)\n",
    "coef_table['coef'] = results.params\n",
    "coef_table.columns = ['lower', 'upper', 'coef']\n",
    "\n",
    "# the reg table's categorical names stink: C(event_time, Treatment(reference=-1))[T.-4]\n",
    "# lets rename them to the right level\n",
    "def categorical_relabel(varname,reference_label):\n",
    "    try:\n",
    "        return int(varname.split('[T.')[1].split(']')[0])\n",
    "    except:\n",
    "        return reference_label\n",
    "   \n",
    "coef_table['event_time'] = coef_table.index.map(lambda x: categorical_relabel(x, -1))\n",
    "\n",
    "# plot\n",
    "coef_table.plot(kind='scatter', x='event_time', y='coef', ax=ax, s=100)\n",
    "ax.errorbar(coef_table['event_time'], coef_table['coef'], yerr=[coef_table['coef'] - coef_table['lower'], coef_table['upper'] - coef_table['coef']], fmt='none', color='black')\n",
    "plt.title('S&P 500 Returns')\n",
    "plt.xlabel('Event Time')\n",
    "plt.ylabel('Coefficient')\n",
    "ax.axhline(y=0, color='gray', linestyle='--')\n",
    "plt.show()"
   ]
  },
  {
   "cell_type": "markdown",
   "id": "25c07466-de9e-441d-b1b3-c38c38f27ee8",
   "metadata": {},
   "source": [
    "### VBILX"
   ]
  },
  {
   "cell_type": "code",
   "execution_count": null,
   "id": "f4504583-f8ef-4ad4-a4ca-45303524e676",
   "metadata": {},
   "outputs": [],
   "source": [
    "# run the regression\n",
    "model   = smf.ols(formula='VBLIX_daily_ret ~ C(event_time,Treatment(reference=-1))', data=event_time_rets)\n",
    "results = model.fit()\n",
    "\n",
    "\n",
    "# extract the coefficients and confidence intervals\n",
    "fig, ax            = plt.subplots(figsize=(8, 6))\n",
    "coef_table         = results.conf_int(alpha=0.05)\n",
    "coef_table['coef'] = results.params\n",
    "coef_table.columns = ['lower', 'upper', 'coef']\n",
    "\n",
    "# the reg table's categorical names stink: C(event_time, Treatment(reference=-1))[T.-4]\n",
    "# lets rename them to the right level\n",
    "def categorical_relabel(varname,reference_label):\n",
    "    try:\n",
    "        return int(varname.split('[T.')[1].split(']')[0])\n",
    "    except:\n",
    "        return reference_label\n",
    "   \n",
    "coef_table['event_time'] = coef_table.index.map(lambda x: categorical_relabel(x, -1))\n",
    "\n",
    "# plot\n",
    "coef_table.plot(kind='scatter', x='event_time', y='coef', ax=ax, s=100)\n",
    "ax.errorbar(coef_table['event_time'], coef_table['coef'], yerr=[coef_table['coef'] - coef_table['lower'], coef_table['upper'] - coef_table['coef']], fmt='none', color='black')\n",
    "plt.title('VBLIX Returns')\n",
    "plt.xlabel('Event Time')\n",
    "plt.ylabel('Coefficient')\n",
    "ax.axhline(y=0, color='gray', linestyle='--')\n",
    "plt.show()"
   ]
  },
  {
   "cell_type": "markdown",
   "id": "043a49d6-d4a8-4568-afa7-fc55dd487165",
   "metadata": {},
   "source": [
    "### VBIRX"
   ]
  },
  {
   "cell_type": "code",
   "execution_count": null,
   "id": "5d2faefa-0b1f-49d1-ba19-b146ba37616d",
   "metadata": {},
   "outputs": [],
   "source": [
    "\n",
    "model   = smf.ols(formula='VBIRX_daily_ret ~ C(event_time,Treatment(reference=-1))', data=event_time_rets)\n",
    "results = model.fit()\n",
    "\n",
    "\n",
    "# extract the coefficients and confidence intervals\n",
    "fig, ax            = plt.subplots(figsize=(8, 6))\n",
    "coef_table         = results.conf_int(alpha=0.05)\n",
    "coef_table['coef'] = results.params\n",
    "coef_table.columns = ['lower', 'upper', 'coef']\n",
    "\n",
    "# the reg table's categorical names stink: C(event_time, Treatment(reference=-1))[T.-4]\n",
    "# lets rename them to the right level\n",
    "def categorical_relabel(varname,reference_label):\n",
    "    try:\n",
    "        return int(varname.split('[T.')[1].split(']')[0])\n",
    "    except:\n",
    "        return reference_label\n",
    "   \n",
    "coef_table['event_time'] = coef_table.index.map(lambda x: categorical_relabel(x, -1))\n",
    "\n",
    "# plot\n",
    "coef_table.plot(kind='scatter', x='event_time', y='coef', ax=ax, s=100)\n",
    "ax.errorbar(coef_table['event_time'], coef_table['coef'], yerr=[coef_table['coef'] - coef_table['lower'], coef_table['upper'] - coef_table['coef']], fmt='none', color='black')\n",
    "plt.title('VBIRX Returns')\n",
    "plt.xlabel('Event Time')\n",
    "plt.ylabel('Coefficient')\n",
    "ax.axhline(y=0, color='gray', linestyle='--')\n",
    "plt.show()"
   ]
  },
  {
   "cell_type": "markdown",
   "id": "1b45a4f9-4f78-43d3-b6ce-d604c93361dd",
   "metadata": {},
   "source": [
    "## Scatterplots"
   ]
  },
  {
   "cell_type": "code",
   "execution_count": null,
   "id": "905649cd-45c9-4e0f-9fdb-c0da5767a3a0",
   "metadata": {},
   "outputs": [],
   "source": [
    "event_time_rets.columns"
   ]
  },
  {
   "cell_type": "markdown",
   "id": "081c8a06-d314-4955-9a0c-fbda3c6afd33",
   "metadata": {},
   "source": [
    "### S&P 500"
   ]
  },
  {
   "cell_type": "code",
   "execution_count": null,
   "id": "693c961b-7bcc-4e97-940d-b850b9ba04bd",
   "metadata": {},
   "outputs": [],
   "source": [
    "Sp500_graph = sns.relplot(data = event_time_rets,\n",
    "                x = \"event_time\",\n",
    "               y = \"sp500_ret\",\n",
    "                    kind = \"line\",\n",
    "               col = \"event_id\",\n",
    "                    zorder = 5,\n",
    "                    hue = \"Change\",\n",
    "                col_wrap=2, \n",
    "                height=3,\n",
    "                aspect=1.5, \n",
    "                legend=False)"
   ]
  },
  {
   "cell_type": "markdown",
   "id": "dee7899a-02e1-4416-b184-0c2115c6049c",
   "metadata": {},
   "source": [
    "### VBILX"
   ]
  },
  {
   "cell_type": "code",
   "execution_count": null,
   "id": "b9084665-d8e2-4c8e-8225-d733d8362003",
   "metadata": {},
   "outputs": [],
   "source": [
    "Sp500_graph = sns.relplot(data = event_time_rets,\n",
    "                x = \"event_time\",\n",
    "               y = \"VBLIX_daily_ret\",\n",
    "                    kind = \"line\",\n",
    "               col = \"event_id\",\n",
    "                    zorder = 5,\n",
    "                    hue = \"Change\",\n",
    "                col_wrap=2, \n",
    "                height=3,\n",
    "                aspect=1.5, \n",
    "                legend=False)"
   ]
  },
  {
   "cell_type": "markdown",
   "id": "b6196a15-22fc-4dde-8868-adef02943245",
   "metadata": {},
   "source": [
    "### VBIRX"
   ]
  },
  {
   "cell_type": "code",
   "execution_count": null,
   "id": "6f700939-8d40-4bfd-8b87-3f4074d8d9d2",
   "metadata": {},
   "outputs": [],
   "source": [
    "Sp500_graph = sns.relplot(data = event_time_rets,\n",
    "                x = \"event_time\",\n",
    "               y = \"VBIRX_daily_ret\",\n",
    "                    kind = \"line\",\n",
    "               col = \"event_id\",\n",
    "                    zorder = 5,\n",
    "                    hue = \"Change\",\n",
    "                col_wrap=2, \n",
    "                height=3,\n",
    "                aspect=1.5, \n",
    "                legend=False)\n"
   ]
  },
  {
   "cell_type": "markdown",
   "id": "682ad101-885b-4773-8116-bc702e1adb65",
   "metadata": {},
   "source": [
    "# Summary Analysis"
   ]
  },
  {
   "cell_type": "markdown",
   "id": "b6f2b693-ca90-43f3-83b0-d811e32f2a4b",
   "metadata": {},
   "source": [
    "## S&P 500"
   ]
  },
  {
   "cell_type": "code",
   "execution_count": null,
   "id": "699be39e-0726-4a0f-bccf-0e4a24ac3511",
   "metadata": {},
   "outputs": [],
   "source": [
    "#Create Dataframe of average SP returns by event\n",
    "sp_ret_sum = event_time_rets.groupby('event_id_date', as_index=False)['sp500_ret'].mean()\n",
    "sp_ret_sum.rename(columns = {'sp500_ret': 'sp500_avg_ret'}).head(5)"
   ]
  },
  {
   "cell_type": "code",
   "execution_count": null,
   "id": "114dfa2b-a6d7-48ea-9b27-cb87b0e27cd9",
   "metadata": {},
   "outputs": [],
   "source": [
    "#Plot Average Returns\n",
    "sns.scatterplot(x=\"event_id_date\", \n",
    "              y=\"sp500_ret\", \n",
    "              data=sp_ret_sum)\n",
    "\n",
    "plt.title('S&P 500 Average Return by Event', fontsize=18)\n",
    "plt.xlabel('Date of FOMC Change', fontsize=14)\n",
    "plt.ylabel('Average Return', fontsize=14)"
   ]
  },
  {
   "cell_type": "markdown",
   "id": "99a0bb88-e1f9-4a56-846f-6b6829beb098",
   "metadata": {},
   "source": [
    "## VBIRX"
   ]
  },
  {
   "cell_type": "code",
   "execution_count": null,
   "id": "e18672b8-8896-4ad7-a637-f4e42922b94e",
   "metadata": {},
   "outputs": [],
   "source": [
    "sp_VBIRX_sum = event_time_rets.groupby('event_id_date', as_index=False)['VBIRX_daily_ret'].mean()\n",
    "VBIRX_ret_sum = sp_VBIRX_sum.rename(columns = {'VBIRX_daily_ret': 'VBIRX_avg_ret'})\n",
    "VBIRX_ret_sum.head(5)"
   ]
  },
  {
   "cell_type": "code",
   "execution_count": null,
   "id": "4d6c21ad-ae32-4420-b837-3f1609ef0153",
   "metadata": {},
   "outputs": [],
   "source": [
    "sns.scatterplot(x=\"event_id_date\", \n",
    "              y=\"VBIRX_avg_ret\", \n",
    "              data=VBIRX_ret_sum)\n",
    "\n",
    "plt.title('VBIRX Average Return by Event', fontsize=18)\n",
    "plt.xlabel('Date of FOMC Change', fontsize=14)\n",
    "plt.ylabel('Average Return', fontsize=14)"
   ]
  },
  {
   "cell_type": "markdown",
   "id": "a9dc93c4-2612-435d-998f-faecd81f09a9",
   "metadata": {},
   "source": [
    "## VBLIX"
   ]
  },
  {
   "cell_type": "code",
   "execution_count": null,
   "id": "0b26a5cf-0b77-4ce3-8c69-04638ad2e27d",
   "metadata": {},
   "outputs": [],
   "source": [
    "sp_VBLIX_sum = event_time_rets.groupby('event_id_date', as_index=False)['VBLIX_daily_ret'].mean()\n",
    "VBLIX_ret_sum = sp_VBLIX_sum.rename(columns = {'VBLIX_daily_ret': 'VBLIX_avg_ret'})\n",
    "VBLIX_ret_sum.head()"
   ]
  },
  {
   "cell_type": "code",
   "execution_count": null,
   "id": "47168c51-e155-43b8-888a-a2901ad1b3dc",
   "metadata": {},
   "outputs": [],
   "source": [
    "sns.scatterplot(x=\"event_id_date\", \n",
    "              y=\"VBLIX_avg_ret\", \n",
    "              data=VBLIX_ret_sum)\n",
    "\n",
    "\n",
    "plt.title('VBLIX Average Return by Event', fontsize=18)\n",
    "plt.xlabel('Date of FOMC Change', fontsize=14)\n",
    "plt.ylabel('Average Return', fontsize=14)"
   ]
  },
  {
   "cell_type": "code",
   "execution_count": null,
   "id": "873177c6-cd3d-4cba-9213-175426c3b8a4",
   "metadata": {},
   "outputs": [],
   "source": []
  }
 ],
 "metadata": {
  "kernelspec": {
   "display_name": "Python 3 (ipykernel)",
   "language": "python",
   "name": "python3"
  },
  "language_info": {
   "codemirror_mode": {
    "name": "ipython",
    "version": 3
   },
   "file_extension": ".py",
   "mimetype": "text/x-python",
   "name": "python",
   "nbconvert_exporter": "python",
   "pygments_lexer": "ipython3",
   "version": "3.10.9"
  }
 },
 "nbformat": 4,
 "nbformat_minor": 5
}
