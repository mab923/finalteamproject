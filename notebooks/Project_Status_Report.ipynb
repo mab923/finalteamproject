{
 "cells": [
  {
   "cell_type": "markdown",
   "id": "751b10a2-c901-4acf-8e8a-2881db8050ba",
   "metadata": {},
   "source": [
    "## Project Status Report"
   ]
  },
  {
   "cell_type": "markdown",
   "id": "ff87a0b3-225a-4646-9faa-4a45ddabcdac",
   "metadata": {},
   "source": [
    "General idea: You’ve now acquired the key data and finished most of the data cleaning.\n",
    "\n",
    "Purpose: Needs to show progress and that you’re on track!\n",
    "\n",
    "Ideal deliverable: A notebook file with nice data sections describing data source(s) and how you got/cleaned the data. This section could go straight into your final report if it’s polished enough.\n",
    "\n",
    "Actual deliverable:A notebook file that describes (short bullet points) your data sources, outlines (numbered list, broad steps, not minutia) how you acquired the data (for many groups, the downloading is in a separate file), got the data into python, and if you found any issues with the data you cleaned up (again, possibly a different file), includes a bullet point list of the main observations from your EDA, shows your exploratory data analysis (EDA) (tables and figures and whatnot, does not need to be pretty or formatted)\n",
    "\n",
    "Graded on: Data you have, EDA shown and discussed"
   ]
  },
  {
   "cell_type": "code",
   "execution_count": null,
   "id": "63b7492b-06c3-46ed-99c3-6de893854541",
   "metadata": {},
   "outputs": [],
   "source": []
  }
 ],
 "metadata": {
  "kernelspec": {
   "display_name": "Python 3 (ipykernel)",
   "language": "python",
   "name": "python3"
  },
  "language_info": {
   "codemirror_mode": {
    "name": "ipython",
    "version": 3
   },
   "file_extension": ".py",
   "mimetype": "text/x-python",
   "name": "python",
   "nbconvert_exporter": "python",
   "pygments_lexer": "ipython3",
   "version": "3.9.13"
  }
 },
 "nbformat": 4,
 "nbformat_minor": 5
}
