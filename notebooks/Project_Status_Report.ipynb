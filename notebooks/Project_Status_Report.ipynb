{
 "cells": [
  {
   "cell_type": "markdown",
   "id": "751b10a2-c901-4acf-8e8a-2881db8050ba",
   "metadata": {},
   "source": [
    "## Project Status Report"
   ]
  },
  {
   "cell_type": "markdown",
   "id": "ff87a0b3-225a-4646-9faa-4a45ddabcdac",
   "metadata": {},
   "source": [
    "General idea: You’ve now acquired the key data and finished most of the data cleaning.\n",
    "\n",
    "Purpose: Needs to show progress and that you’re on track!\n",
    "\n",
    "Ideal deliverable: A notebook file with nice data sections describing data source(s) and how you got/cleaned the data. This section could go straight into your final report if it’s polished enough.\n",
    "\n",
    "Actual deliverable:A notebook file that describes (short bullet points) your data sources, outlines (numbered list, broad steps, not minutia) how you acquired the data (for many groups, the downloading is in a separate file), got the data into python, and if you found any issues with the data you cleaned up (again, possibly a different file), includes a bullet point list of the main observations from your EDA, shows your exploratory data analysis (EDA) (tables and figures and whatnot, does not need to be pretty or formatted)\n",
    "\n",
    "Graded on: Data you have, EDA shown and discussed"
   ]
  },
  {
   "cell_type": "markdown",
   "id": "8b0f3996-f0a3-4740-a22b-ed8ebd4dce11",
   "metadata": {},
   "source": [
    "### Data Sources"
   ]
  },
  {
   "cell_type": "code",
   "execution_count": null,
   "id": "d85b49da-d5f5-4ffb-8ba3-b4ad3e46d367",
   "metadata": {},
   "outputs": [],
   "source": []
  },
  {
   "cell_type": "markdown",
   "id": "dcdfa41f-1c2d-4c61-ad08-0fcf81c58875",
   "metadata": {},
   "source": [
    "### How We Aquired the Data"
   ]
  },
  {
   "cell_type": "code",
   "execution_count": null,
   "id": "9e6fd183-7100-4b09-8aab-22df72060f55",
   "metadata": {},
   "outputs": [],
   "source": []
  },
  {
   "cell_type": "markdown",
   "id": "212e94c2-41ad-4ed1-a109-7f05effc6ede",
   "metadata": {},
   "source": [
    "### EDA Observations"
   ]
  },
  {
   "cell_type": "code",
   "execution_count": null,
   "id": "0bca656e-8d0c-4240-b6f3-70fb70f27cb9",
   "metadata": {},
   "outputs": [],
   "source": []
  }
 ],
 "metadata": {
  "kernelspec": {
   "display_name": "Python 3 (ipykernel)",
   "language": "python",
   "name": "python3"
  },
  "language_info": {
   "codemirror_mode": {
    "name": "ipython",
    "version": 3
   },
   "file_extension": ".py",
   "mimetype": "text/x-python",
   "name": "python",
   "nbconvert_exporter": "python",
   "pygments_lexer": "ipython3",
   "version": "3.9.13"
  }
 },
 "nbformat": 4,
 "nbformat_minor": 5
}
