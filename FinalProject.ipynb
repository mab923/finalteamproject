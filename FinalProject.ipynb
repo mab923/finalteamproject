{
 "cells": [
  {
   "cell_type": "markdown",
   "id": "b2ea7925-3d5c-4e4b-9c3b-e0707573af50",
   "metadata": {},
   "source": [
    "### Data Sources"
   ]
  },
  {
   "cell_type": "markdown",
   "id": "93cf3e8b-a3a5-427d-bf21-55a46ba7954b",
   "metadata": {},
   "source": [
    "- FOMC Rates \n",
    "        Source:https://www.federalreserve.gov/monetarypolicy/openmarket.htm\n",
    "        \n",
    "- Index Returns\n",
    "    Source: https://www.spglobal.com/spdji/en/indices/equity/sp-500/#overview\n",
    "    \n",
    "- Stock Trading Volume¶\n",
    "  Source: https://ycharts.com/indicators/cboe_spx_volume\n",
    "  \n",
    "- VBLAX data \n",
    "    Source: Yahoo Finance (import yfinance as yf)\n",
    "    \n",
    "- VBIRX data \n",
    "    Source: Yahoo Finance (import yfinance as yf)"
   ]
  }
 ],
 "metadata": {
  "kernelspec": {
   "display_name": "Python 3 (ipykernel)",
   "language": "python",
   "name": "python3"
  },
  "language_info": {
   "codemirror_mode": {
    "name": "ipython",
    "version": 3
   },
   "file_extension": ".py",
   "mimetype": "text/x-python",
   "name": "python",
   "nbconvert_exporter": "python",
   "pygments_lexer": "ipython3",
   "version": "3.10.9"
  }
 },
 "nbformat": 4,
 "nbformat_minor": 5
}
