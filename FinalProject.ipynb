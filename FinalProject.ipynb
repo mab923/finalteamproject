{
 "cells": [
  {
   "cell_type": "markdown",
   "id": "abce8da3-87bd-42a8-84ca-6c1a1a8785fa",
   "metadata": {},
   "source": [
    "# FINAL PROJECT"
   ]
  },
  {
   "cell_type": "code",
   "execution_count": 1,
   "id": "7c29eeea-7dd7-42db-9098-14a1c0921dc6",
   "metadata": {},
   "outputs": [],
   "source": [
    "import pandas as pd\n",
    "import numpy as np"
   ]
  },
  {
   "cell_type": "code",
   "execution_count": 8,
   "id": "60f8e0ba-efab-48ec-92bd-8ff06401446d",
   "metadata": {},
   "outputs": [],
   "source": [
    "# Load clean data\n",
    "rates = pd.read_csv('inputs/Clean_Data/Clean_Rates.csv')\n",
    "sp500_ret = pd.read_csv('inputs/Clean_Data/Clean_sp500_ret.csv')\n",
    "stock_tv = pd.read_csv('inputs/Clean_Data/Clean_stock_tv.csv')\n",
    "Vbilx = pd.read_csv('inputs/Clean_Data/Clean_Vbilx.csv')\n",
    "Vbirx= pd.read_csv('inputs/Clean_Data/Clean_Vbirx.csv')"
   ]
  },
  {
   "cell_type": "code",
   "execution_count": 10,
   "id": "84c0f004-47de-4193-96d2-01c11ae9bc9b",
   "metadata": {},
   "outputs": [
    {
     "data": {
      "text/html": [
       "<div>\n",
       "<style scoped>\n",
       "    .dataframe tbody tr th:only-of-type {\n",
       "        vertical-align: middle;\n",
       "    }\n",
       "\n",
       "    .dataframe tbody tr th {\n",
       "        vertical-align: top;\n",
       "    }\n",
       "\n",
       "    .dataframe thead th {\n",
       "        text-align: right;\n",
       "    }\n",
       "</style>\n",
       "<table border=\"1\" class=\"dataframe\">\n",
       "  <thead>\n",
       "    <tr style=\"text-align: right;\">\n",
       "      <th></th>\n",
       "      <th>Daily Returns</th>\n",
       "      <th>Daily Price</th>\n",
       "    </tr>\n",
       "  </thead>\n",
       "  <tbody>\n",
       "    <tr>\n",
       "      <th>0</th>\n",
       "      <td>0.000000</td>\n",
       "      <td>9.095695</td>\n",
       "    </tr>\n",
       "    <tr>\n",
       "      <th>1</th>\n",
       "      <td>0.004348</td>\n",
       "      <td>9.135242</td>\n",
       "    </tr>\n",
       "    <tr>\n",
       "      <th>2</th>\n",
       "      <td>0.004329</td>\n",
       "      <td>9.174790</td>\n",
       "    </tr>\n",
       "    <tr>\n",
       "      <th>3</th>\n",
       "      <td>0.000000</td>\n",
       "      <td>9.174790</td>\n",
       "    </tr>\n",
       "    <tr>\n",
       "      <th>4</th>\n",
       "      <td>-0.002587</td>\n",
       "      <td>9.151053</td>\n",
       "    </tr>\n",
       "  </tbody>\n",
       "</table>\n",
       "</div>"
      ],
      "text/plain": [
       "   Daily Returns  Daily Price\n",
       "0       0.000000     9.095695\n",
       "1       0.004348     9.135242\n",
       "2       0.004329     9.174790\n",
       "3       0.000000     9.174790\n",
       "4      -0.002587     9.151053"
      ]
     },
     "execution_count": 10,
     "metadata": {},
     "output_type": "execute_result"
    }
   ],
   "source": [
    "Vbilx.head()"
   ]
  },
  {
   "cell_type": "code",
   "execution_count": null,
   "id": "7990c776-49d0-4ad4-bae2-4b95f6eb267b",
   "metadata": {},
   "outputs": [],
   "source": []
  },
  {
   "cell_type": "markdown",
   "id": "b2ea7925-3d5c-4e4b-9c3b-e0707573af50",
   "metadata": {},
   "source": [
    "### Data Sources"
   ]
  },
  {
   "cell_type": "markdown",
   "id": "93cf3e8b-a3a5-427d-bf21-55a46ba7954b",
   "metadata": {},
   "source": [
    "- FOMC Rates \n",
    "        Source:https://www.federalreserve.gov/monetarypolicy/openmarket.htm\n",
    "        \n",
    "- Index Returns\n",
    "    Source: https://www.spglobal.com/spdji/en/indices/equity/sp-500/#overview\n",
    "    \n",
    "- Stock Trading Volume¶\n",
    "  Source: https://ycharts.com/indicators/cboe_spx_volume\n",
    "  \n",
    "- VBLAX data \n",
    "    Source: Yahoo Finance (import yfinance as yf)\n",
    "    \n",
    "- VBIRX data \n",
    "    Source: Yahoo Finance (import yfinance as yf)"
   ]
  }
 ],
 "metadata": {
  "kernelspec": {
   "display_name": "Python 3 (ipykernel)",
   "language": "python",
   "name": "python3"
  },
  "language_info": {
   "codemirror_mode": {
    "name": "ipython",
    "version": 3
   },
   "file_extension": ".py",
   "mimetype": "text/x-python",
   "name": "python",
   "nbconvert_exporter": "python",
   "pygments_lexer": "ipython3",
   "version": "3.10.9"
  }
 },
 "nbformat": 4,
 "nbformat_minor": 5
}
