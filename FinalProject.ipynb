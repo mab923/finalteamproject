{
 "cells": [
  {
   "cell_type": "code",
   "execution_count": 2,
   "id": "7c29eeea-7dd7-42db-9098-14a1c0921dc6",
   "metadata": {},
   "outputs": [],
   "source": [
    "import pandas as pd\n",
    "import numpy as np"
   ]
  },
  {
   "cell_type": "code",
   "execution_count": 10,
   "id": "60f8e0ba-efab-48ec-92bd-8ff06401446d",
   "metadata": {},
   "outputs": [],
   "source": [
    "#Load clean data\n",
    "rates = pd.read_csv('inputs/Clean_Data/Clean_Rates.csv')\n",
    "sp500_ret = pd.read_csv('inputs/Clean_Data/Clean_sp500_ret.csv')\n",
    "stock_tv = pd.read_csv('inputs/Clean_Data/Clean_stock_tv.csv')\n",
    "Vbilx = pd.read_csv('inputs/Clean_Data/Clean_Vbilx.csv')\n",
    "Vbirx= pd.read_csv('inputs/Clean_Data/Clean_Vbirx.csv')"
   ]
  },
  {
   "cell_type": "code",
   "execution_count": 7,
   "id": "a0d4d722-4636-428e-9ef9-9418d0bd8e29",
   "metadata": {},
   "outputs": [
    {
     "data": {
      "text/html": [
       "<style type=\"text/css\">\n",
       "</style>\n",
       "<table id=\"T_59634\">\n",
       "  <thead>\n",
       "    <tr>\n",
       "      <th class=\"blank level0\" >&nbsp;</th>\n",
       "      <th id=\"T_59634_level0_col0\" class=\"col_heading level0 col0\" >% missing</th>\n",
       "    </tr>\n",
       "  </thead>\n",
       "  <tbody>\n",
       "    <tr>\n",
       "      <th id=\"T_59634_level0_row0\" class=\"row_heading level0 row0\" >Daily Returns</th>\n",
       "      <td id=\"T_59634_row0_col0\" class=\"data row0 col0\" >0.000</td>\n",
       "    </tr>\n",
       "    <tr>\n",
       "      <th id=\"T_59634_level0_row1\" class=\"row_heading level0 row1\" >Daily Price</th>\n",
       "      <td id=\"T_59634_row1_col0\" class=\"data row1 col0\" >0.000</td>\n",
       "    </tr>\n",
       "    <tr>\n",
       "      <th id=\"T_59634_level0_row2\" class=\"row_heading level0 row2\" >Trading Volume</th>\n",
       "      <td id=\"T_59634_row2_col0\" class=\"data row2 col0\" >0.000</td>\n",
       "    </tr>\n",
       "  </tbody>\n",
       "</table>\n"
      ],
      "text/plain": [
       "<pandas.io.formats.style.Styler at 0x7f7c923a5450>"
      ]
     },
     "execution_count": 7,
     "metadata": {},
     "output_type": "execute_result"
    }
   ],
   "source": []
  },
  {
   "cell_type": "code",
   "execution_count": null,
   "id": "37477608-5476-4c8c-b835-96da9e43a21a",
   "metadata": {},
   "outputs": [],
   "source": []
  },
  {
   "cell_type": "code",
   "execution_count": null,
   "id": "f18a3274-cecd-4b12-a091-45824134a222",
   "metadata": {},
   "outputs": [],
   "source": []
  },
  {
   "cell_type": "code",
   "execution_count": null,
   "id": "84c0f004-47de-4193-96d2-01c11ae9bc9b",
   "metadata": {},
   "outputs": [],
   "source": []
  },
  {
   "cell_type": "code",
   "execution_count": null,
   "id": "7990c776-49d0-4ad4-bae2-4b95f6eb267b",
   "metadata": {},
   "outputs": [],
   "source": []
  },
  {
   "cell_type": "markdown",
   "id": "b2ea7925-3d5c-4e4b-9c3b-e0707573af50",
   "metadata": {},
   "source": [
    "### Data Sources"
   ]
  },
  {
   "cell_type": "markdown",
   "id": "93cf3e8b-a3a5-427d-bf21-55a46ba7954b",
   "metadata": {},
   "source": [
    "- FOMC Rates \n",
    "        Source:https://www.federalreserve.gov/monetarypolicy/openmarket.htm\n",
    "        \n",
    "- Index Returns\n",
    "    Source: https://www.spglobal.com/spdji/en/indices/equity/sp-500/#overview\n",
    "    \n",
    "- Stock Trading Volume¶\n",
    "  Source: https://ycharts.com/indicators/cboe_spx_volume\n",
    "  \n",
    "- VBLAX data \n",
    "    Source: Yahoo Finance (import yfinance as yf)\n",
    "    \n",
    "- VBIRX data \n",
    "    Source: Yahoo Finance (import yfinance as yf)"
   ]
  }
 ],
 "metadata": {
  "kernelspec": {
   "display_name": "Python 3 (ipykernel)",
   "language": "python",
   "name": "python3"
  },
  "language_info": {
   "codemirror_mode": {
    "name": "ipython",
    "version": 3
   },
   "file_extension": ".py",
   "mimetype": "text/x-python",
   "name": "python",
   "nbconvert_exporter": "python",
   "pygments_lexer": "ipython3",
   "version": "3.10.9"
  }
 },
 "nbformat": 4,
 "nbformat_minor": 5
}
